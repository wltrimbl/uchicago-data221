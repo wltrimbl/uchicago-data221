{
 "cells": [
  {
   "cell_type": "code",
   "execution_count": 1,
   "metadata": {},
   "outputs": [],
   "source": [
    "import numpy as np\n",
    "import pandas as pd\n",
    "import matplotlib.pyplot as plt\n",
    "import nltk\n",
    "from gensim.models import KeyedVectors\n"
   ]
  },
  {
   "cell_type": "code",
   "execution_count": null,
   "metadata": {},
   "outputs": [],
   "source": [
    "import sys\n",
    "!conda install --yes --prefix {sys.prefix} numpy matplotlib pandas nltk word2vec gensim\n"
   ]
  },
  {
   "cell_type": "code",
   "execution_count": 2,
   "metadata": {},
   "outputs": [
    {
     "name": "stdout",
     "output_type": "stream",
     "text": [
      "['fasttext-wiki-news-subwords-300', 'conceptnet-numberbatch-17-06-300', 'word2vec-ruscorpora-300', 'word2vec-google-news-300', 'glove-wiki-gigaword-50', 'glove-wiki-gigaword-100', 'glove-wiki-gigaword-200', 'glove-wiki-gigaword-300', 'glove-twitter-25', 'glove-twitter-50', 'glove-twitter-100', 'glove-twitter-200', '__testing_word2vec-matrix-synopsis']\n"
     ]
    }
   ],
   "source": [
    "# https://radimrehurek.com/gensim/auto_examples/tutorials/run_word2vec.html\n",
    "import gensim.downloader\n",
    "# Show all available models in gensim-data\n",
    "print(list(gensim.downloader.info()['models'].keys()))\n"
   ]
  },
  {
   "cell_type": "code",
   "execution_count": 3,
   "metadata": {},
   "outputs": [],
   "source": [
    "wv = gensim.downloader.load('word2vec-google-news-300')"
   ]
  },
  {
   "cell_type": "code",
   "execution_count": 9,
   "metadata": {},
   "outputs": [
    {
     "data": {
      "text/plain": [
       "3000000"
      ]
     },
     "execution_count": 9,
     "metadata": {},
     "output_type": "execute_result"
    }
   ],
   "source": [
    "# According to https://stackoverflow.com/questions/35596031/gensim-word2vec-find-number-of-words-in-vocabulary \n",
    "len(wv)  # gives me the number of items in vocabulary."
   ]
  },
  {
   "cell_type": "code",
   "execution_count": 4,
   "metadata": {},
   "outputs": [
    {
     "name": "stdout",
     "output_type": "stream",
     "text": [
      "[('mushrooms', 0.7716438174247742), ('chanterelle', 0.6103289127349854), ('wild_mushrooms', 0.6075051426887512), ('oyster_mushrooms', 0.5885806083679199), ('morels', 0.584884762763977)]\n"
     ]
    }
   ],
   "source": [
    "# Okay, this demo has wv.most_similar.. which takes a \"positive\" and a \"negative\" list of words\n",
    "# https://tedboy.github.io/nlps/generated/generated/gensim.models.Word2Vec.most_similar.html\n",
    "print(wv.most_similar(positive=['mushroom'], topn=5))"
   ]
  },
  {
   "cell_type": "code",
   "execution_count": 9,
   "metadata": {},
   "outputs": [
    {
     "name": "stdout",
     "output_type": "stream",
     "text": [
      "[('frustration', 0.6751393675804138), ('disappointments', 0.6434152126312256), ('dismay', 0.6363516449928284), ('disapointment', 0.6301339864730835), ('dissapointment', 0.6219700574874878)]\n"
     ]
    }
   ],
   "source": [
    "print(wv.most_similar(positive=['disappointment'], topn=5))"
   ]
  },
  {
   "cell_type": "code",
   "execution_count": 10,
   "metadata": {},
   "outputs": [
    {
     "name": "stdout",
     "output_type": "stream",
     "text": [
      "car\n"
     ]
    }
   ],
   "source": [
    "# Okay, Cookie, which one of these things is not like the others?\n",
    "print(wv.doesnt_match(['fire', 'water', 'land', 'sea', 'air', 'car']))"
   ]
  },
  {
   "cell_type": "code",
   "execution_count": 6,
   "metadata": {},
   "outputs": [
    {
     "name": "stdout",
     "output_type": "stream",
     "text": [
      "[('Fresno', 0.5972384810447693), ('Yuba', 0.5679046511650085), ('UC_Davis', 0.5556206107139587), ('San_Joaquin', 0.5327012538909912), ('Santa_Clara', 0.5278323292732239), ('Shasta', 0.5255705118179321), ('Cal_Poly', 0.5214724540710449), ('Sacramento', 0.507367730140686), ('Tulare_County', 0.49802669882774353), ('Stanislaus_County', 0.49545419216156006)]\n"
     ]
    }
   ],
   "source": [
    "print (wv.most_similar(positive=[\"Merced\", \"State\"], negative=[\"City\"]))"
   ]
  },
  {
   "cell_type": "code",
   "execution_count": 7,
   "metadata": {},
   "outputs": [
    {
     "name": "stdout",
     "output_type": "stream",
     "text": [
      "[('Los_Angeles', 0.6530140042304993), ('Sacramento', 0.6310994029045105), ('Visalia', 0.6114283800125122), ('Modesto', 0.6026939749717712), ('San_Francisco', 0.587526261806488), ('Ventura', 0.5834274888038635), ('Salinas', 0.5816625952720642), ('San_Bernardino', 0.5767850279808044), ('Oxnard', 0.5749709606170654), ('Watsonville', 0.5672482252120972)]\n"
     ]
    }
   ],
   "source": [
    "print (wv.most_similar(positive=[\"Merced\", \"Chicago\"], negative=[\"Illinois\"]))"
   ]
  },
  {
   "cell_type": "code",
   "execution_count": 24,
   "metadata": {},
   "outputs": [
    {
     "name": "stdout",
     "output_type": "stream",
     "text": [
      "[('Illinois', 0.5973236560821533), ('Minnesota', 0.5030398368835449), ('Purdue', 0.4974709451198578), ('Indiana', 0.4873792827129364), ('Northwestern', 0.4869658350944519), ('Wisconsin', 0.47826558351516724), ('DeKALB_Northern', 0.4776363968849182), ('UIC', 0.4757806360721588), ('DePaul', 0.4725874066352844), ('Michigan', 0.472341924905777)]\n"
     ]
    }
   ],
   "source": [
    "print (wv.most_similar(positive=[\"Chicago\", \"State\"], negative=[\"City\"]))"
   ]
  },
  {
   "cell_type": "code",
   "execution_count": 11,
   "metadata": {},
   "outputs": [],
   "source": [
    "# https://radimrehurek.com/gensim/models/word2vec.html\n",
    "from gensim.models import KeyedVectors"
   ]
  },
  {
   "cell_type": "code",
   "execution_count": 15,
   "metadata": {},
   "outputs": [
    {
     "data": {
      "text/plain": [
       "array([ 1.07421875e-01, -2.01171875e-01,  1.23046875e-01,  2.11914062e-01,\n",
       "       -9.13085938e-02,  2.16796875e-01, -1.31835938e-01,  8.30078125e-02,\n",
       "        2.02148438e-01,  4.78515625e-02,  3.66210938e-02, -2.45361328e-02,\n",
       "        2.39257812e-02, -1.60156250e-01, -2.61230469e-02,  9.71679688e-02,\n",
       "       -6.34765625e-02,  1.84570312e-01,  1.70898438e-01, -1.63085938e-01,\n",
       "       -1.09375000e-01,  1.49414062e-01, -4.65393066e-04,  9.61914062e-02,\n",
       "        1.68945312e-01,  2.60925293e-03,  8.93554688e-02,  6.49414062e-02,\n",
       "        3.56445312e-02, -6.93359375e-02, -1.46484375e-01, -1.21093750e-01,\n",
       "       -2.27539062e-01,  2.45361328e-02, -1.24511719e-01, -3.18359375e-01,\n",
       "       -2.20703125e-01,  1.30859375e-01,  3.66210938e-02, -3.63769531e-02,\n",
       "       -1.13281250e-01,  1.95312500e-01,  9.76562500e-02,  1.26953125e-01,\n",
       "        6.59179688e-02,  6.93359375e-02,  1.02539062e-02,  1.75781250e-01,\n",
       "       -1.68945312e-01,  1.21307373e-03, -2.98828125e-01, -1.15234375e-01,\n",
       "        5.66406250e-02, -1.77734375e-01, -2.08984375e-01,  1.76757812e-01,\n",
       "        2.38037109e-02, -2.57812500e-01, -4.46777344e-02,  1.88476562e-01,\n",
       "        5.51757812e-02,  5.02929688e-02, -1.06933594e-01,  1.89453125e-01,\n",
       "       -1.16210938e-01,  8.49609375e-02, -1.71875000e-01,  2.45117188e-01,\n",
       "       -1.73828125e-01, -8.30078125e-03,  4.56542969e-02, -1.61132812e-02,\n",
       "        1.86523438e-01, -6.05468750e-02, -4.17480469e-02,  1.82617188e-01,\n",
       "        2.20703125e-01, -1.22558594e-01, -2.55126953e-02, -3.08593750e-01,\n",
       "        9.13085938e-02,  1.60156250e-01,  1.70898438e-01,  1.19628906e-01,\n",
       "        7.08007812e-02, -2.64892578e-02, -3.08837891e-02,  4.06250000e-01,\n",
       "       -1.01562500e-01,  5.71289062e-02, -7.26318359e-03, -9.17968750e-02,\n",
       "       -1.50390625e-01, -2.55859375e-01,  2.16796875e-01, -3.63769531e-02,\n",
       "        2.24609375e-01,  8.00781250e-02,  1.56250000e-01,  5.27343750e-02,\n",
       "        1.50390625e-01, -1.14746094e-01, -8.64257812e-02,  1.19140625e-01,\n",
       "       -7.17773438e-02,  2.73437500e-01, -1.64062500e-01,  7.29370117e-03,\n",
       "        4.21875000e-01, -1.12792969e-01, -1.35742188e-01, -1.31835938e-01,\n",
       "       -1.37695312e-01, -7.66601562e-02,  6.25000000e-02,  4.98046875e-02,\n",
       "       -1.91406250e-01, -6.03027344e-02,  2.27539062e-01,  5.88378906e-02,\n",
       "       -3.24218750e-01,  5.41992188e-02, -1.35742188e-01,  8.17871094e-03,\n",
       "       -5.24902344e-02, -1.74713135e-03, -9.81445312e-02, -2.86865234e-02,\n",
       "        3.61328125e-02,  2.15820312e-01,  5.98144531e-02, -3.08593750e-01,\n",
       "       -2.27539062e-01,  2.61718750e-01,  9.86328125e-02, -5.07812500e-02,\n",
       "        1.78222656e-02,  1.31835938e-01, -5.35156250e-01, -1.81640625e-01,\n",
       "        1.38671875e-01, -3.10546875e-01, -9.71679688e-02,  1.31835938e-01,\n",
       "       -1.16210938e-01,  7.03125000e-02,  2.85156250e-01,  3.51562500e-02,\n",
       "       -1.01562500e-01, -3.75976562e-02,  1.41601562e-01,  1.42578125e-01,\n",
       "       -5.68847656e-02,  2.65625000e-01, -2.09960938e-01,  9.64355469e-03,\n",
       "       -6.68945312e-02, -4.83398438e-02, -6.10351562e-02,  2.45117188e-01,\n",
       "       -9.66796875e-02,  1.78222656e-02, -1.27929688e-01, -4.78515625e-02,\n",
       "       -7.26318359e-03,  1.79687500e-01,  2.78320312e-02, -2.10937500e-01,\n",
       "       -1.43554688e-01, -1.27929688e-01,  1.73339844e-02, -3.60107422e-03,\n",
       "       -2.04101562e-01,  3.63159180e-03, -1.19628906e-01, -6.15234375e-02,\n",
       "        5.93261719e-02, -3.23486328e-03, -1.70898438e-01, -3.14941406e-02,\n",
       "       -8.88671875e-02, -2.89062500e-01,  3.44238281e-02, -1.87500000e-01,\n",
       "        2.94921875e-01,  1.58203125e-01, -1.19628906e-01,  7.61718750e-02,\n",
       "        6.39648438e-02, -4.68750000e-02, -6.83593750e-02,  1.21459961e-02,\n",
       "       -1.44531250e-01,  4.54101562e-02,  3.68652344e-02,  3.88671875e-01,\n",
       "        1.45507812e-01, -2.55859375e-01, -4.46777344e-02, -1.33789062e-01,\n",
       "       -1.38671875e-01,  6.59179688e-02,  1.37695312e-01,  1.14746094e-01,\n",
       "        2.03125000e-01, -4.78515625e-02,  1.80664062e-02, -8.54492188e-02,\n",
       "       -2.48046875e-01, -3.39843750e-01, -2.83203125e-02,  1.05468750e-01,\n",
       "       -2.14843750e-01, -8.74023438e-02,  7.12890625e-02,  1.87500000e-01,\n",
       "       -1.12304688e-01,  2.73437500e-01, -3.26171875e-01, -1.77734375e-01,\n",
       "       -4.24804688e-02, -2.69531250e-01,  6.64062500e-02, -6.88476562e-02,\n",
       "       -1.99218750e-01, -7.03125000e-02, -2.43164062e-01, -3.66210938e-02,\n",
       "       -7.37304688e-02, -1.77734375e-01,  9.17968750e-02, -1.25000000e-01,\n",
       "       -1.65039062e-01, -3.57421875e-01, -2.85156250e-01, -1.66992188e-01,\n",
       "        1.97265625e-01, -1.53320312e-01,  2.31933594e-02,  2.06054688e-01,\n",
       "        1.80664062e-01, -2.74658203e-02, -1.92382812e-01, -9.61914062e-02,\n",
       "       -1.06811523e-02, -4.73632812e-02,  6.54296875e-02, -1.25732422e-02,\n",
       "        1.78222656e-02, -8.00781250e-02, -2.59765625e-01,  9.37500000e-02,\n",
       "       -7.81250000e-02,  4.68750000e-02, -2.22167969e-02,  1.86767578e-02,\n",
       "        3.11279297e-02,  1.04980469e-02, -1.69921875e-01,  2.58789062e-02,\n",
       "       -3.41796875e-02, -1.44042969e-02, -5.46875000e-02, -8.78906250e-02,\n",
       "        1.96838379e-03,  2.23632812e-01, -1.36718750e-01,  1.75781250e-01,\n",
       "       -1.63085938e-01,  1.87500000e-01,  3.44238281e-02, -5.63964844e-02,\n",
       "       -2.27689743e-05,  4.27246094e-02,  5.81054688e-02, -1.07910156e-01,\n",
       "       -3.88183594e-02, -2.69531250e-01,  3.34472656e-02,  9.81445312e-02,\n",
       "        5.63964844e-02,  2.23632812e-01, -5.49316406e-02,  1.46484375e-01,\n",
       "        5.93261719e-02, -2.19726562e-01,  6.39648438e-02,  1.66015625e-02,\n",
       "        4.56542969e-02,  3.26171875e-01, -3.80859375e-01,  1.70898438e-01,\n",
       "        5.66406250e-02, -1.04492188e-01,  1.38671875e-01, -1.57226562e-01,\n",
       "        3.23486328e-03, -4.80957031e-02, -2.48046875e-01, -6.20117188e-02],\n",
       "      dtype=float32)"
      ]
     },
     "execution_count": 15,
     "metadata": {},
     "output_type": "execute_result"
    }
   ],
   "source": [
    "vector = wv['computer']  # Get word2vec number for a word \n",
    "vector"
   ]
  },
  {
   "cell_type": "code",
   "execution_count": 18,
   "metadata": {},
   "outputs": [
    {
     "data": {
      "text/plain": [
       "(array([ 1.,  0.,  0.,  0.,  1.,  1.,  4.,  6.,  6.,  7., 10., 17., 18.,\n",
       "        22., 21., 29., 19., 29., 31., 14., 10., 12., 18., 12.,  3.,  4.,\n",
       "         1.,  1.,  1.,  2.]),\n",
       " array([-0.53515625, -0.5032552 , -0.47135416, -0.43945312, -0.4075521 ,\n",
       "        -0.37565103, -0.34375   , -0.31184897, -0.2799479 , -0.24804688,\n",
       "        -0.21614583, -0.1842448 , -0.15234375, -0.12044271, -0.08854166,\n",
       "        -0.05664062, -0.02473958,  0.00716146,  0.0390625 ,  0.07096354,\n",
       "         0.10286459,  0.13476562,  0.16666667,  0.1985677 ,  0.23046875,\n",
       "         0.26236978,  0.29427084,  0.32617188,  0.3580729 ,  0.38997397,\n",
       "         0.421875  ], dtype=float32),\n",
       " <BarContainer object of 30 artists>)"
      ]
     },
     "execution_count": 18,
     "metadata": {},
     "output_type": "execute_result"
    },
    {
     "data": {
      "image/png": "[encoded data removed]",
      "text/plain": [
       "<Figure size 432x288 with 1 Axes>"
      ]
     },
     "metadata": {
      "needs_background": "light"
     },
     "output_type": "display_data"
    }
   ],
   "source": [
    "plt.hist(vector, bins=30)"
   ]
  },
  {
   "cell_type": "code",
   "execution_count": 29,
   "metadata": {},
   "outputs": [],
   "source": [
    "def string_to_vec(s):\n",
    "    tok1 = nltk.word_tokenize(s)\n",
    "    print(dir(tok1))\n"
   ]
  },
  {
   "cell_type": "code",
   "execution_count": 30,
   "metadata": {},
   "outputs": [
    {
     "name": "stdout",
     "output_type": "stream",
     "text": [
      "['__add__', '__class__', '__contains__', '__delattr__', '__delitem__', '__dir__', '__doc__', '__eq__', '__format__', '__ge__', '__getattribute__', '__getitem__', '__gt__', '__hash__', '__iadd__', '__imul__', '__init__', '__init_subclass__', '__iter__', '__le__', '__len__', '__lt__', '__mul__', '__ne__', '__new__', '__reduce__', '__reduce_ex__', '__repr__', '__reversed__', '__rmul__', '__setattr__', '__setitem__', '__sizeof__', '__str__', '__subclasshook__', 'append', 'clear', 'copy', 'count', 'extend', 'index', 'insert', 'pop', 'remove', 'reverse', 'sort']\n"
     ]
    }
   ],
   "source": [
    "string_to_vec(Xtext.iloc[0])"
   ]
  },
  {
   "cell_type": "code",
   "execution_count": 31,
   "metadata": {},
   "outputs": [],
   "source": [
    "tokens =nltk.word_tokenize(Xtext.iloc[0])"
   ]
  },
  {
   "cell_type": "code",
   "execution_count": 33,
   "metadata": {},
   "outputs": [
    {
     "name": "stdout",
     "output_type": "stream",
     "text": [
      "``\n",
      "Go\n",
      "until\n",
      "jurong\n",
      "point\n",
      ",\n",
      "crazy\n",
      "..\n",
      "Available\n",
      "only\n",
      "in\n",
      "bugis\n",
      "n\n",
      "great\n",
      "world\n",
      "la\n",
      "e\n",
      "buffet\n",
      "...\n",
      "Cine\n",
      "there\n",
      "got\n",
      "amore\n",
      "wat\n",
      "...\n",
      "''\n",
      ",\n",
      ",\n",
      ",\n"
     ]
    }
   ],
   "source": [
    "for t in tokens:\n",
    "    print(t)"
   ]
  },
  {
   "cell_type": "code",
   "execution_count": 34,
   "metadata": {},
   "outputs": [
    {
     "name": "stdout",
     "output_type": "stream",
     "text": [
      "['__add__', '__class__', '__contains__', '__delattr__', '__dir__', '__doc__', '__eq__', '__format__', '__ge__', '__getattribute__', '__getitem__', '__getnewargs__', '__gt__', '__hash__', '__init__', '__init_subclass__', '__iter__', '__le__', '__len__', '__lt__', '__mod__', '__mul__', '__ne__', '__new__', '__reduce__', '__reduce_ex__', '__repr__', '__rmod__', '__rmul__', '__setattr__', '__sizeof__', '__str__', '__subclasshook__', 'capitalize', 'casefold', 'center', 'count', 'encode', 'endswith', 'expandtabs', 'find', 'format', 'format_map', 'index', 'isalnum', 'isalpha', 'isascii', 'isdecimal', 'isdigit', 'isidentifier', 'islower', 'isnumeric', 'isprintable', 'isspace', 'istitle', 'isupper', 'join', 'ljust', 'lower', 'lstrip', 'maketrans', 'partition', 'replace', 'rfind', 'rindex', 'rjust', 'rpartition', 'rsplit', 'rstrip', 'split', 'splitlines', 'startswith', 'strip', 'swapcase', 'title', 'translate', 'upper', 'zfill']\n"
     ]
    }
   ],
   "source": [
    "for t in tokens:\n",
    "    print(dir(t))\n",
    "    break"
   ]
  },
  {
   "cell_type": "code",
   "execution_count": 38,
   "metadata": {},
   "outputs": [],
   "source": [
    "def string_to_vec(s):\n",
    "    N=300\n",
    "    t = np.zeros(300)\n",
    "    tok1 = nltk.word_tokenize(s)\n",
    "    for token in tok1:\n",
    "        c = wv[token]\n",
    "        t = t+c\n",
    "        print(t)"
   ]
  },
  {
   "cell_type": "code",
   "execution_count": 40,
   "metadata": {},
   "outputs": [
    {
     "name": "stdout",
     "output_type": "stream",
     "text": [
      "[-1.24511719e-01 -2.01416016e-02 -2.04101562e-01 -1.25000000e-01\n",
      " -1.68945312e-01 -1.20117188e-01  6.29882812e-02 -1.13281250e-01\n",
      "  2.47070312e-01  1.30859375e-01  3.00292969e-02 -1.04003906e-01\n",
      "  3.20434570e-03 -1.91406250e-01 -5.23437500e-01  2.15820312e-01\n",
      " -2.14843750e-01  4.63867188e-02  1.36718750e-01 -2.09960938e-01\n",
      "  2.23632812e-01  3.39355469e-02  1.17187500e-01  8.25195312e-02\n",
      "  1.31835938e-01 -4.00390625e-02 -1.59179688e-01 -1.78710938e-01\n",
      "  2.09960938e-01  4.34570312e-02  3.27148438e-02  2.94921875e-01\n",
      "  2.81250000e-01  7.72094727e-03  2.59765625e-01  3.10546875e-01\n",
      "  6.68945312e-02  1.68945312e-01 -4.24804688e-02  8.00781250e-02\n",
      " -8.05664062e-02 -2.08984375e-01 -2.30712891e-02 -1.12304688e-01\n",
      "  2.11914062e-01 -7.76367188e-02 -2.28515625e-01 -5.66406250e-01\n",
      "  3.58886719e-02  4.58984375e-02 -4.49218750e-01  1.47460938e-01\n",
      "  1.30859375e-01 -5.90820312e-02 -1.30859375e-01 -6.68945312e-02\n",
      " -4.73632812e-02 -1.07910156e-01  1.83593750e-01 -8.54492188e-03\n",
      " -2.07031250e-01 -4.85839844e-02 -1.49414062e-01  8.54492188e-02\n",
      "  2.00271606e-04  1.80664062e-01 -1.85546875e-01  5.29785156e-02\n",
      "  2.89062500e-01  1.39648438e-01  3.88671875e-01 -6.34765625e-02\n",
      "  1.46484375e-02 -2.83203125e-01 -2.63671875e-01  8.59375000e-02\n",
      "  2.67578125e-01  1.90429688e-01  2.17773438e-01  4.57763672e-03\n",
      "  3.12500000e-01 -2.01171875e-01 -1.22070312e-01 -1.60156250e-01\n",
      " -2.45117188e-01  5.34667969e-02  2.08007812e-01 -6.64062500e-02\n",
      "  3.32031250e-01  5.12695312e-03 -9.61914062e-02 -6.49414062e-02\n",
      " -2.65625000e-01 -1.62109375e-01 -6.64062500e-02  1.09863281e-01\n",
      "  2.73437500e-01 -1.31225586e-02  5.41992188e-02 -1.73828125e-01\n",
      " -1.48437500e-01 -2.00195312e-01  7.22656250e-02  7.51953125e-02\n",
      " -2.34375000e-01 -2.85644531e-02  4.14062500e-01  8.05664062e-02\n",
      " -1.90429688e-02 -9.71679688e-02 -7.12890625e-02 -1.89453125e-01\n",
      " -6.83593750e-02  1.23046875e-01  9.42382812e-02  2.53906250e-01\n",
      " -1.59179688e-01 -1.04980469e-01  3.29589844e-02  6.29882812e-02\n",
      " -1.74522400e-04  5.12695312e-02 -1.23535156e-01 -2.60925293e-03\n",
      "  3.39843750e-01  1.48437500e-01  3.14453125e-01 -1.21582031e-01\n",
      " -2.19726562e-01  5.73730469e-03 -2.50000000e-01 -3.20312500e-01\n",
      " -1.66015625e-01  7.08007812e-02 -5.22460938e-02  3.84765625e-01\n",
      " -2.26562500e-01 -8.49609375e-02 -4.46777344e-02 -6.54296875e-02\n",
      " -1.46484375e-01  1.49414062e-01  2.66113281e-02 -2.19726562e-01\n",
      "  2.69531250e-01  1.77734375e-01 -2.82287598e-03 -1.33789062e-01\n",
      "  2.00195312e-01  3.41796875e-03  1.56250000e-01 -1.12304688e-01\n",
      " -1.22558594e-01  1.78710938e-01 -2.00195312e-01  2.29492188e-02\n",
      " -1.64062500e-01  9.86328125e-02 -3.41796875e-01  3.93066406e-02\n",
      " -1.29882812e-01 -1.47460938e-01  1.61132812e-01 -2.42919922e-02\n",
      "  7.42187500e-02 -1.10839844e-01 -1.30859375e-01 -8.10546875e-02\n",
      " -1.64062500e-01  2.91015625e-01  1.09863281e-01  8.05664062e-02\n",
      " -1.47460938e-01  2.46093750e-01 -2.23632812e-01 -2.31933594e-02\n",
      "  3.30078125e-01  2.78320312e-02  1.62109375e-01 -8.88671875e-02\n",
      " -1.75781250e-01 -2.29492188e-01 -8.49609375e-02  2.21679688e-01\n",
      "  6.17675781e-02 -2.43164062e-01  2.77099609e-02  1.03027344e-01\n",
      "  1.08398438e-01  2.22656250e-01  1.18164062e-01  2.61718750e-01\n",
      " -5.12695312e-03  1.49414062e-01 -6.64062500e-02 -1.30859375e-01\n",
      " -2.11914062e-01  3.17382812e-02 -2.42187500e-01 -8.74023438e-02\n",
      " -1.56250000e-01  3.41796875e-02 -1.54296875e-01 -9.39941406e-03\n",
      "  6.93359375e-02  1.53320312e-01 -1.66992188e-01  9.42382812e-02\n",
      "  9.76562500e-02  3.57421875e-01  5.37109375e-02 -2.30468750e-01\n",
      " -3.90625000e-01 -1.26953125e-01  9.96093750e-02  5.73730469e-02\n",
      " -2.57812500e-01 -2.94921875e-01  1.28784180e-02  2.02636719e-02\n",
      "  6.39648438e-02 -9.13085938e-02  1.24511719e-01 -4.07714844e-02\n",
      "  9.66796875e-02 -2.22167969e-02  2.98828125e-01 -1.56250000e-01\n",
      "  5.78613281e-02 -2.44140625e-01  1.95312500e-02 -6.15234375e-02\n",
      " -1.22070312e-01  1.33056641e-02  2.71484375e-01 -1.00097656e-01\n",
      "  3.68652344e-02  2.56347656e-02  1.05468750e-01 -1.37695312e-01\n",
      " -5.29785156e-02  3.19824219e-02  1.25000000e-01 -3.94531250e-01\n",
      "  3.36914062e-02  1.04370117e-02  1.05957031e-01 -6.59179688e-02\n",
      "  1.37695312e-01 -3.28125000e-01 -3.14453125e-01  2.67578125e-01\n",
      "  9.22851562e-02  7.61718750e-02 -1.55273438e-01  3.90625000e-02\n",
      "  1.61132812e-01  1.22070312e-01 -2.59765625e-01 -3.10546875e-01\n",
      "  1.56250000e-02  1.58203125e-01 -8.83789062e-02  3.05175781e-02\n",
      "  4.63867188e-02  3.71093750e-01 -9.57031250e-02 -1.12304688e-01\n",
      " -1.06933594e-01 -1.64062500e-01 -3.32031250e-01 -3.93066406e-02\n",
      "  1.14257812e-01  2.89306641e-02  3.33984375e-01 -2.18750000e-01\n",
      " -5.29785156e-02 -2.22656250e-01 -2.87109375e-01  8.15429688e-02\n",
      "  7.86132812e-02  1.11328125e-01  2.36328125e-01  5.59082031e-02\n",
      "  1.03759766e-02  1.72851562e-01 -1.09863281e-01  2.00195312e-01\n",
      "  5.61523438e-02 -4.88281250e-01 -2.16796875e-01  6.49414062e-02\n",
      " -8.00781250e-02  6.12792969e-02  2.01171875e-01 -3.29589844e-02\n",
      "  2.61718750e-01 -3.36914062e-02 -3.24707031e-02  2.71484375e-01]\n"
     ]
    }
   ],
   "source": [
    "string_to_vec(\"hat\")"
   ]
  },
  {
   "cell_type": "code",
   "execution_count": 41,
   "metadata": {},
   "outputs": [
    {
     "name": "stdout",
     "output_type": "stream",
     "text": [
      "[-1.24511719e-01 -2.01416016e-02 -2.04101562e-01 -1.25000000e-01\n",
      " -1.68945312e-01 -1.20117188e-01  6.29882812e-02 -1.13281250e-01\n",
      "  2.47070312e-01  1.30859375e-01  3.00292969e-02 -1.04003906e-01\n",
      "  3.20434570e-03 -1.91406250e-01 -5.23437500e-01  2.15820312e-01\n",
      " -2.14843750e-01  4.63867188e-02  1.36718750e-01 -2.09960938e-01\n",
      "  2.23632812e-01  3.39355469e-02  1.17187500e-01  8.25195312e-02\n",
      "  1.31835938e-01 -4.00390625e-02 -1.59179688e-01 -1.78710938e-01\n",
      "  2.09960938e-01  4.34570312e-02  3.27148438e-02  2.94921875e-01\n",
      "  2.81250000e-01  7.72094727e-03  2.59765625e-01  3.10546875e-01\n",
      "  6.68945312e-02  1.68945312e-01 -4.24804688e-02  8.00781250e-02\n",
      " -8.05664062e-02 -2.08984375e-01 -2.30712891e-02 -1.12304688e-01\n",
      "  2.11914062e-01 -7.76367188e-02 -2.28515625e-01 -5.66406250e-01\n",
      "  3.58886719e-02  4.58984375e-02 -4.49218750e-01  1.47460938e-01\n",
      "  1.30859375e-01 -5.90820312e-02 -1.30859375e-01 -6.68945312e-02\n",
      " -4.73632812e-02 -1.07910156e-01  1.83593750e-01 -8.54492188e-03\n",
      " -2.07031250e-01 -4.85839844e-02 -1.49414062e-01  8.54492188e-02\n",
      "  2.00271606e-04  1.80664062e-01 -1.85546875e-01  5.29785156e-02\n",
      "  2.89062500e-01  1.39648438e-01  3.88671875e-01 -6.34765625e-02\n",
      "  1.46484375e-02 -2.83203125e-01 -2.63671875e-01  8.59375000e-02\n",
      "  2.67578125e-01  1.90429688e-01  2.17773438e-01  4.57763672e-03\n",
      "  3.12500000e-01 -2.01171875e-01 -1.22070312e-01 -1.60156250e-01\n",
      " -2.45117188e-01  5.34667969e-02  2.08007812e-01 -6.64062500e-02\n",
      "  3.32031250e-01  5.12695312e-03 -9.61914062e-02 -6.49414062e-02\n",
      " -2.65625000e-01 -1.62109375e-01 -6.64062500e-02  1.09863281e-01\n",
      "  2.73437500e-01 -1.31225586e-02  5.41992188e-02 -1.73828125e-01\n",
      " -1.48437500e-01 -2.00195312e-01  7.22656250e-02  7.51953125e-02\n",
      " -2.34375000e-01 -2.85644531e-02  4.14062500e-01  8.05664062e-02\n",
      " -1.90429688e-02 -9.71679688e-02 -7.12890625e-02 -1.89453125e-01\n",
      " -6.83593750e-02  1.23046875e-01  9.42382812e-02  2.53906250e-01\n",
      " -1.59179688e-01 -1.04980469e-01  3.29589844e-02  6.29882812e-02\n",
      " -1.74522400e-04  5.12695312e-02 -1.23535156e-01 -2.60925293e-03\n",
      "  3.39843750e-01  1.48437500e-01  3.14453125e-01 -1.21582031e-01\n",
      " -2.19726562e-01  5.73730469e-03 -2.50000000e-01 -3.20312500e-01\n",
      " -1.66015625e-01  7.08007812e-02 -5.22460938e-02  3.84765625e-01\n",
      " -2.26562500e-01 -8.49609375e-02 -4.46777344e-02 -6.54296875e-02\n",
      " -1.46484375e-01  1.49414062e-01  2.66113281e-02 -2.19726562e-01\n",
      "  2.69531250e-01  1.77734375e-01 -2.82287598e-03 -1.33789062e-01\n",
      "  2.00195312e-01  3.41796875e-03  1.56250000e-01 -1.12304688e-01\n",
      " -1.22558594e-01  1.78710938e-01 -2.00195312e-01  2.29492188e-02\n",
      " -1.64062500e-01  9.86328125e-02 -3.41796875e-01  3.93066406e-02\n",
      " -1.29882812e-01 -1.47460938e-01  1.61132812e-01 -2.42919922e-02\n",
      "  7.42187500e-02 -1.10839844e-01 -1.30859375e-01 -8.10546875e-02\n",
      " -1.64062500e-01  2.91015625e-01  1.09863281e-01  8.05664062e-02\n",
      " -1.47460938e-01  2.46093750e-01 -2.23632812e-01 -2.31933594e-02\n",
      "  3.30078125e-01  2.78320312e-02  1.62109375e-01 -8.88671875e-02\n",
      " -1.75781250e-01 -2.29492188e-01 -8.49609375e-02  2.21679688e-01\n",
      "  6.17675781e-02 -2.43164062e-01  2.77099609e-02  1.03027344e-01\n",
      "  1.08398438e-01  2.22656250e-01  1.18164062e-01  2.61718750e-01\n",
      " -5.12695312e-03  1.49414062e-01 -6.64062500e-02 -1.30859375e-01\n",
      " -2.11914062e-01  3.17382812e-02 -2.42187500e-01 -8.74023438e-02\n",
      " -1.56250000e-01  3.41796875e-02 -1.54296875e-01 -9.39941406e-03\n",
      "  6.93359375e-02  1.53320312e-01 -1.66992188e-01  9.42382812e-02\n",
      "  9.76562500e-02  3.57421875e-01  5.37109375e-02 -2.30468750e-01\n",
      " -3.90625000e-01 -1.26953125e-01  9.96093750e-02  5.73730469e-02\n",
      " -2.57812500e-01 -2.94921875e-01  1.28784180e-02  2.02636719e-02\n",
      "  6.39648438e-02 -9.13085938e-02  1.24511719e-01 -4.07714844e-02\n",
      "  9.66796875e-02 -2.22167969e-02  2.98828125e-01 -1.56250000e-01\n",
      "  5.78613281e-02 -2.44140625e-01  1.95312500e-02 -6.15234375e-02\n",
      " -1.22070312e-01  1.33056641e-02  2.71484375e-01 -1.00097656e-01\n",
      "  3.68652344e-02  2.56347656e-02  1.05468750e-01 -1.37695312e-01\n",
      " -5.29785156e-02  3.19824219e-02  1.25000000e-01 -3.94531250e-01\n",
      "  3.36914062e-02  1.04370117e-02  1.05957031e-01 -6.59179688e-02\n",
      "  1.37695312e-01 -3.28125000e-01 -3.14453125e-01  2.67578125e-01\n",
      "  9.22851562e-02  7.61718750e-02 -1.55273438e-01  3.90625000e-02\n",
      "  1.61132812e-01  1.22070312e-01 -2.59765625e-01 -3.10546875e-01\n",
      "  1.56250000e-02  1.58203125e-01 -8.83789062e-02  3.05175781e-02\n",
      "  4.63867188e-02  3.71093750e-01 -9.57031250e-02 -1.12304688e-01\n",
      " -1.06933594e-01 -1.64062500e-01 -3.32031250e-01 -3.93066406e-02\n",
      "  1.14257812e-01  2.89306641e-02  3.33984375e-01 -2.18750000e-01\n",
      " -5.29785156e-02 -2.22656250e-01 -2.87109375e-01  8.15429688e-02\n",
      "  7.86132812e-02  1.11328125e-01  2.36328125e-01  5.59082031e-02\n",
      "  1.03759766e-02  1.72851562e-01 -1.09863281e-01  2.00195312e-01\n",
      "  5.61523438e-02 -4.88281250e-01 -2.16796875e-01  6.49414062e-02\n",
      " -8.00781250e-02  6.12792969e-02  2.01171875e-01 -3.29589844e-02\n",
      "  2.61718750e-01 -3.36914062e-02 -3.24707031e-02  2.71484375e-01]\n",
      "[-0.22070312 -0.05773926 -0.53808594  0.00878906 -0.07373047 -0.20507812\n",
      "  0.01489258 -0.13562012  0.32226562  0.19287109 -0.02148438 -0.41455078\n",
      " -0.07540894 -0.39941406 -0.54309082  0.14794922 -0.22723389  0.0279541\n",
      "  0.01416016 -0.02539062  0.46386719  0.0346489  -0.08105469  0.07873535\n",
      "  0.20703125 -0.19433594 -0.05126953 -0.14575195  0.19030762  0.18505859\n",
      " -0.17529297  0.21337891  0.17431641 -0.11825562  0.22119141  0.10449219\n",
      "  0.01025391  0.33984375 -0.35498047  0.14257812  0.16162109 -0.3671875\n",
      "  0.1361084  -0.33496094  0.3671875   0.02490234 -0.33886719 -0.35253906\n",
      "  0.06176758  0.11816406 -0.54052734  0.13995361  0.10046387 -0.06884766\n",
      " -0.21679688 -0.11791992  0.32177734 -0.27490234  0.08251953  0.09838867\n",
      " -0.5        -0.13891602 -0.12023926  0.27392578 -0.09843254  0.05175781\n",
      " -0.22680664 -0.12573242  0.50195312  0.23339844  0.56640625  0.08203125\n",
      "  0.26464844 -0.41503906 -0.5234375   0.05761719  0.29614258  0.19580078\n",
      "  0.375      -0.04766846  0.16699219 -0.30566406 -0.30078125 -0.16876221\n",
      " -0.13867188 -0.10571289  0.25268555 -0.28125     0.40087891  0.11254883\n",
      " -0.01757812  0.15771484 -0.2097168  -0.33105469 -0.12036133  0.11621094\n",
      "  0.20263672  0.0269165  -0.14013672  0.1953125   0.01074219 -0.33105469\n",
      "  0.36132812 -0.01953125 -0.36914062 -0.1809082   0.40032959  0.04296875\n",
      " -0.04541016 -0.34912109 -0.14648438 -0.04394531 -0.20800781  0.07446289\n",
      "  0.30517578  0.59960938 -0.31152344 -0.15258789  0.07666016  0.20947266\n",
      " -0.13591671  0.09960938 -0.20947266  0.0974884   0.16308594  0.09375\n",
      "  0.11132812  0.24951172 -0.10888672 -0.17883301 -0.18310547 -0.43847656\n",
      " -0.29882812  0.046875    0.21923828  0.52148438 -0.22337341 -0.17871094\n",
      "  0.00390625 -0.09692383 -0.09570312  0.14871216  0.04418945 -0.20361328\n",
      "  0.31884766 -0.02929688  0.13291931 -0.07836914  0.24560547  0.14013672\n",
      "  0.45507812  0.13183594 -0.37841797  0.57714844 -0.2040863   0.08056641\n",
      " -0.32421875  0.15893555 -0.28100586  0.08959961 -0.49707031 -0.20703125\n",
      "  0.32617188 -0.11706543  0.07836914 -0.30712891  0.13867188  0.00830078\n",
      " -0.49414062  0.27282715 -0.21240234  0.08563232 -0.15203857  0.35400391\n",
      " -0.46386719 -0.07568359  0.44824219 -0.18505859 -0.015625    0.20800781\n",
      " -0.48242188 -0.07617188 -0.09985352  0.35058594  0.26098633 -0.33007812\n",
      " -0.03918457  0.27197266 -0.07910156  0.65234375  0.05908203  0.18212891\n",
      " -0.04150391  0.20874023 -0.203125   -0.09326172 -0.20681763 -0.09521484\n",
      " -0.67773438 -0.11376953 -0.36035156 -0.09667969 -0.49414062  0.11462402\n",
      "  0.26367188  0.07714844  0.0234375   0.18603516  0.02636719  0.58398438\n",
      "  0.05741882 -0.04003906 -0.65429688  0.13085938 -0.24023438  0.07177734\n",
      " -0.32714844 -0.27282715 -0.43048096  0.13549805 -0.21533203 -0.09979248\n",
      "  0.0793457   0.16821289 -0.12402344 -0.03302002  0.34472656 -0.27050781\n",
      " -0.01391602 -0.60351562  0.13623047 -0.28808594 -0.19091797 -0.13903809\n",
      "  0.28735352  0.20263672 -0.04858398 -0.09057617  0.25488281 -0.34179688\n",
      "  0.07202148 -0.17407227  0.28320312 -0.56542969  0.18603516 -0.00189209\n",
      " -0.10205078 -0.08050537  0.39160156 -0.41552734 -0.45996094  0.19384766\n",
      "  0.36181641  0.24121094 -0.16790771  0.0426178  -0.14160156 -0.08398438\n",
      " -0.51953125 -0.55078125 -0.17089844  0.34277344 -0.29345703 -0.02587891\n",
      "  0.06945801  0.54296875 -0.0078125  -0.10430908 -0.15209961 -0.32519531\n",
      " -0.4765625  -0.0769043   0.07202148 -0.2142334   0.34637451  0.18164062\n",
      "  0.03833008 -0.59765625 -0.31884766  0.16259766 -0.01367188 -0.02636719\n",
      "  0.26647949  0.12866211 -0.06677246  0.30664062 -0.04541016  0.10009766\n",
      "  0.05130005 -0.57568359 -0.26391602  0.05224609 -0.14086914  0.3347168\n",
      "  0.38671875 -0.24584961  0.45898438 -0.11962891 -0.2980957   0.17089844]\n"
     ]
    }
   ],
   "source": [
    "string_to_vec(\"hat box\")"
   ]
  },
  {
   "cell_type": "code",
   "execution_count": 43,
   "metadata": {},
   "outputs": [],
   "source": [
    "def string_to_vec(s):\n",
    "    N=300\n",
    "    t = np.zeros(300)\n",
    "    tok1 = nltk.word_tokenize(s)\n",
    "    for token in tok1:\n",
    "        c = wv[token]\n",
    "        t = t+c\n",
    "        #print(t)\n",
    "    return(t / len(tok1))"
   ]
  },
  {
   "cell_type": "code",
   "execution_count": 45,
   "metadata": {},
   "outputs": [],
   "source": [
    "# TESTS\n",
    "h1 = string_to_vec(\"hat box\")\n",
    "h2 = string_to_vec(\"box hat\")"
   ]
  },
  {
   "cell_type": "code",
   "execution_count": 46,
   "metadata": {},
   "outputs": [
    {
     "data": {
      "text/plain": [
       "(array([-0.11035156, -0.02886963, -0.26904297,  0.00439453, -0.03686523,\n",
       "        -0.10253906,  0.00744629, -0.06781006,  0.16113281,  0.09643555]),\n",
       " array([-0.11035156, -0.02886963, -0.26904297,  0.00439453, -0.03686523,\n",
       "        -0.10253906,  0.00744629, -0.06781006,  0.16113281,  0.09643555]))"
      ]
     },
     "execution_count": 46,
     "metadata": {},
     "output_type": "execute_result"
    }
   ],
   "source": [
    "h1[0:10], h2[0:10]"
   ]
  },
  {
   "cell_type": "code",
   "execution_count": 47,
   "metadata": {},
   "outputs": [
    {
     "ename": "KeyError",
     "evalue": "\"Key 'glibberfobble' not present\"",
     "output_type": "error",
     "traceback": [
      "\u001b[0;31m---------------------------------------------------------------------------\u001b[0m",
      "\u001b[0;31mKeyError\u001b[0m                                  Traceback (most recent call last)",
      "\u001b[0;32m<ipython-input-47-337cbfc204a3>\u001b[0m in \u001b[0;36m<module>\u001b[0;34m\u001b[0m\n\u001b[1;32m      1\u001b[0m \u001b[0;31m# MORE TESTS\u001b[0m\u001b[0;34m\u001b[0m\u001b[0;34m\u001b[0m\u001b[0;34m\u001b[0m\u001b[0m\n\u001b[0;32m----> 2\u001b[0;31m \u001b[0mh1\u001b[0m \u001b[0;34m=\u001b[0m \u001b[0mstring_to_vec\u001b[0m\u001b[0;34m(\u001b[0m\u001b[0;34m\"glibberfobble in the wind\"\u001b[0m\u001b[0;34m)\u001b[0m\u001b[0;34m\u001b[0m\u001b[0;34m\u001b[0m\u001b[0m\n\u001b[0m",
      "\u001b[0;32m<ipython-input-43-3d033f1e86e4>\u001b[0m in \u001b[0;36mstring_to_vec\u001b[0;34m(s)\u001b[0m\n\u001b[1;32m      4\u001b[0m     \u001b[0mtok1\u001b[0m \u001b[0;34m=\u001b[0m \u001b[0mnltk\u001b[0m\u001b[0;34m.\u001b[0m\u001b[0mword_tokenize\u001b[0m\u001b[0;34m(\u001b[0m\u001b[0ms\u001b[0m\u001b[0;34m)\u001b[0m\u001b[0;34m\u001b[0m\u001b[0;34m\u001b[0m\u001b[0m\n\u001b[1;32m      5\u001b[0m     \u001b[0;32mfor\u001b[0m \u001b[0mtoken\u001b[0m \u001b[0;32min\u001b[0m \u001b[0mtok1\u001b[0m\u001b[0;34m:\u001b[0m\u001b[0;34m\u001b[0m\u001b[0;34m\u001b[0m\u001b[0m\n\u001b[0;32m----> 6\u001b[0;31m         \u001b[0mc\u001b[0m \u001b[0;34m=\u001b[0m \u001b[0mwv\u001b[0m\u001b[0;34m[\u001b[0m\u001b[0mtoken\u001b[0m\u001b[0;34m]\u001b[0m\u001b[0;34m\u001b[0m\u001b[0;34m\u001b[0m\u001b[0m\n\u001b[0m\u001b[1;32m      7\u001b[0m         \u001b[0mt\u001b[0m \u001b[0;34m=\u001b[0m \u001b[0mt\u001b[0m\u001b[0;34m+\u001b[0m\u001b[0mc\u001b[0m\u001b[0;34m\u001b[0m\u001b[0;34m\u001b[0m\u001b[0m\n\u001b[1;32m      8\u001b[0m         \u001b[0;31m#print(t)\u001b[0m\u001b[0;34m\u001b[0m\u001b[0;34m\u001b[0m\u001b[0;34m\u001b[0m\u001b[0m\n",
      "\u001b[0;32m/Applications/anaconda3/lib/python3.8/site-packages/gensim/models/keyedvectors.py\u001b[0m in \u001b[0;36m__getitem__\u001b[0;34m(self, key_or_keys)\u001b[0m\n\u001b[1;32m    393\u001b[0m         \"\"\"\n\u001b[1;32m    394\u001b[0m         \u001b[0;32mif\u001b[0m \u001b[0misinstance\u001b[0m\u001b[0;34m(\u001b[0m\u001b[0mkey_or_keys\u001b[0m\u001b[0;34m,\u001b[0m \u001b[0m_KEY_TYPES\u001b[0m\u001b[0;34m)\u001b[0m\u001b[0;34m:\u001b[0m\u001b[0;34m\u001b[0m\u001b[0;34m\u001b[0m\u001b[0m\n\u001b[0;32m--> 395\u001b[0;31m             \u001b[0;32mreturn\u001b[0m \u001b[0mself\u001b[0m\u001b[0;34m.\u001b[0m\u001b[0mget_vector\u001b[0m\u001b[0;34m(\u001b[0m\u001b[0mkey_or_keys\u001b[0m\u001b[0;34m)\u001b[0m\u001b[0;34m\u001b[0m\u001b[0;34m\u001b[0m\u001b[0m\n\u001b[0m\u001b[1;32m    396\u001b[0m \u001b[0;34m\u001b[0m\u001b[0m\n\u001b[1;32m    397\u001b[0m         \u001b[0;32mreturn\u001b[0m \u001b[0mvstack\u001b[0m\u001b[0;34m(\u001b[0m\u001b[0;34m[\u001b[0m\u001b[0mself\u001b[0m\u001b[0;34m.\u001b[0m\u001b[0mget_vector\u001b[0m\u001b[0;34m(\u001b[0m\u001b[0mkey\u001b[0m\u001b[0;34m)\u001b[0m \u001b[0;32mfor\u001b[0m \u001b[0mkey\u001b[0m \u001b[0;32min\u001b[0m \u001b[0mkey_or_keys\u001b[0m\u001b[0;34m]\u001b[0m\u001b[0;34m)\u001b[0m\u001b[0;34m\u001b[0m\u001b[0;34m\u001b[0m\u001b[0m\n",
      "\u001b[0;32m/Applications/anaconda3/lib/python3.8/site-packages/gensim/models/keyedvectors.py\u001b[0m in \u001b[0;36mget_vector\u001b[0;34m(self, key, norm)\u001b[0m\n\u001b[1;32m    436\u001b[0m \u001b[0;34m\u001b[0m\u001b[0m\n\u001b[1;32m    437\u001b[0m         \"\"\"\n\u001b[0;32m--> 438\u001b[0;31m         \u001b[0mindex\u001b[0m \u001b[0;34m=\u001b[0m \u001b[0mself\u001b[0m\u001b[0;34m.\u001b[0m\u001b[0mget_index\u001b[0m\u001b[0;34m(\u001b[0m\u001b[0mkey\u001b[0m\u001b[0;34m)\u001b[0m\u001b[0;34m\u001b[0m\u001b[0;34m\u001b[0m\u001b[0m\n\u001b[0m\u001b[1;32m    439\u001b[0m         \u001b[0;32mif\u001b[0m \u001b[0mnorm\u001b[0m\u001b[0;34m:\u001b[0m\u001b[0;34m\u001b[0m\u001b[0;34m\u001b[0m\u001b[0m\n\u001b[1;32m    440\u001b[0m             \u001b[0mself\u001b[0m\u001b[0;34m.\u001b[0m\u001b[0mfill_norms\u001b[0m\u001b[0;34m(\u001b[0m\u001b[0;34m)\u001b[0m\u001b[0;34m\u001b[0m\u001b[0;34m\u001b[0m\u001b[0m\n",
      "\u001b[0;32m/Applications/anaconda3/lib/python3.8/site-packages/gensim/models/keyedvectors.py\u001b[0m in \u001b[0;36mget_index\u001b[0;34m(self, key, default)\u001b[0m\n\u001b[1;32m    410\u001b[0m             \u001b[0;32mreturn\u001b[0m \u001b[0mdefault\u001b[0m\u001b[0;34m\u001b[0m\u001b[0;34m\u001b[0m\u001b[0m\n\u001b[1;32m    411\u001b[0m         \u001b[0;32melse\u001b[0m\u001b[0;34m:\u001b[0m\u001b[0;34m\u001b[0m\u001b[0;34m\u001b[0m\u001b[0m\n\u001b[0;32m--> 412\u001b[0;31m             \u001b[0;32mraise\u001b[0m \u001b[0mKeyError\u001b[0m\u001b[0;34m(\u001b[0m\u001b[0;34mf\"Key '{key}' not present\"\u001b[0m\u001b[0;34m)\u001b[0m\u001b[0;34m\u001b[0m\u001b[0;34m\u001b[0m\u001b[0m\n\u001b[0m\u001b[1;32m    413\u001b[0m \u001b[0;34m\u001b[0m\u001b[0m\n\u001b[1;32m    414\u001b[0m     \u001b[0;32mdef\u001b[0m \u001b[0mget_vector\u001b[0m\u001b[0;34m(\u001b[0m\u001b[0mself\u001b[0m\u001b[0;34m,\u001b[0m \u001b[0mkey\u001b[0m\u001b[0;34m,\u001b[0m \u001b[0mnorm\u001b[0m\u001b[0;34m=\u001b[0m\u001b[0;32mFalse\u001b[0m\u001b[0;34m)\u001b[0m\u001b[0;34m:\u001b[0m\u001b[0;34m\u001b[0m\u001b[0;34m\u001b[0m\u001b[0m\n",
      "\u001b[0;31mKeyError\u001b[0m: \"Key 'glibberfobble' not present\""
     ]
    }
   ],
   "source": [
    "# MORE TESTS\n",
    "h1 = string_to_vec(\"glibberfobble in the wind\")"
   ]
  },
  {
   "cell_type": "code",
   "execution_count": 50,
   "metadata": {},
   "outputs": [],
   "source": [
    "def string_to_vec(s):\n",
    "    N=300\n",
    "    n=0\n",
    "    t = np.zeros(300)\n",
    "    tok1 = nltk.word_tokenize(s)\n",
    "    for token in tok1:\n",
    "        try:\n",
    "            c = wv[token]\n",
    "            t = t+c\n",
    "            n = n+1\n",
    "        except KeyError:\n",
    "            pass\n",
    "    return(t / n)"
   ]
  },
  {
   "cell_type": "code",
   "execution_count": 52,
   "metadata": {},
   "outputs": [
    {
     "data": {
      "text/plain": [
       "array([ 6.03027344e-02,  7.64160156e-02,  3.77197266e-02, -7.20214844e-02,\n",
       "        6.02213542e-03, -1.61783854e-01, -8.38216146e-02, -9.73714193e-02,\n",
       "        3.80045573e-02,  1.44490560e-01, -9.56217448e-02, -1.23779297e-01,\n",
       "       -8.65275065e-02, -1.82291667e-02, -4.06901042e-02, -1.28580729e-02,\n",
       "       -9.86735026e-03,  7.70670573e-02,  1.04980469e-01, -8.24788411e-02,\n",
       "       -1.78629557e-02,  9.19596354e-02, -9.32210286e-02,  4.65977987e-02,\n",
       "        7.92032878e-02,  1.66015625e-02, -1.03347778e-01,  6.32731120e-02,\n",
       "        3.46628825e-02,  5.32226562e-02, -1.71712240e-02,  1.78629557e-02,\n",
       "       -1.05834961e-01,  3.70788574e-02, -7.84301758e-03,  1.66219076e-02,\n",
       "       -1.07584635e-01, -3.41796875e-03,  1.08072917e-01,  1.49414062e-01,\n",
       "        1.47542318e-01, -7.35677083e-02, -3.31217448e-02, -4.73429362e-02,\n",
       "       -2.70792643e-02, -3.34828695e-02, -4.56949870e-02, -8.70361328e-02,\n",
       "       -2.16471354e-02,  1.11165365e-01,  7.28352865e-02,  5.23071289e-02,\n",
       "        3.31827799e-02,  3.39355469e-02, -5.57047526e-02,  3.24834188e-02,\n",
       "        3.95100911e-02, -3.92252604e-02,  5.31209310e-02, -7.41373698e-02,\n",
       "       -9.44010417e-02, -3.34472656e-02, -3.73535156e-02, -2.01171875e-01,\n",
       "        2.97037760e-03, -1.76188151e-02, -2.75878906e-02,  1.54296875e-01,\n",
       "       -7.30082194e-02,  1.04980469e-01,  3.65804036e-02, -7.47070312e-02,\n",
       "        8.32112630e-02, -8.70768229e-03, -9.76969401e-02, -4.51660156e-03,\n",
       "        1.16861979e-01,  8.83382161e-02, -7.88167318e-02,  4.81770833e-02,\n",
       "        1.41540527e-01, -9.47672526e-02, -2.05078125e-02, -6.18489583e-02,\n",
       "       -3.82486979e-03, -7.03226725e-02, -4.19718424e-02,  1.11490885e-01,\n",
       "       -5.08626302e-02,  2.15047201e-02, -5.63151042e-02,  5.41178385e-02,\n",
       "        1.05183919e-02, -6.51041667e-02, -5.02522786e-02,  2.76285807e-02,\n",
       "        5.05879720e-02, -1.07014974e-01, -8.89078776e-03, -7.47172038e-02,\n",
       "        4.38073476e-02, -7.10449219e-02, -7.75146484e-03,  1.31327311e-02,\n",
       "       -7.74536133e-02, -9.52148438e-03, -7.71077474e-02,  3.31827799e-02,\n",
       "        1.43432617e-02, -9.45638021e-02, -2.63264974e-02,  4.71191406e-02,\n",
       "       -8.40657552e-02, -1.80562337e-02, -2.82796224e-02,  7.81250000e-02,\n",
       "        2.02799479e-01,  6.99869792e-02,  3.74348958e-03,  7.13704427e-02,\n",
       "       -1.56992594e-01, -7.73925781e-02, -1.04817708e-01,  3.87268066e-02,\n",
       "       -5.95906576e-02,  1.73339844e-02, -2.21354167e-02, -9.14713542e-02,\n",
       "       -1.21541341e-01,  8.01595052e-02,  2.59806315e-02, -1.11328125e-01,\n",
       "       -9.96500651e-02, -4.14225260e-02,  1.95312500e-02,  4.88281250e-03,\n",
       "       -2.02128092e-02, -1.24348958e-01, -9.76562500e-02,  4.20735677e-02,\n",
       "        8.13802083e-02, -7.20418294e-02, -3.98559570e-02,  2.00195312e-02,\n",
       "        1.62150065e-02,  9.65983073e-02, -1.17797852e-02, -5.45247396e-02,\n",
       "       -6.10656738e-02, -1.82291667e-02,  2.18607585e-02, -9.45129395e-02,\n",
       "        6.31510417e-02,  5.24902344e-02, -5.99772135e-02, -7.77180990e-03,\n",
       "        1.00748698e-01, -1.83166504e-01,  6.33138021e-02,  5.79427083e-02,\n",
       "       -7.43815104e-02, -6.31103516e-02, -1.81172689e-02,  6.11979167e-02,\n",
       "       -3.07210286e-02,  8.54492188e-02,  2.80761719e-02,  4.24702962e-02,\n",
       "        7.94881185e-02, -1.21419271e-01, -1.44694010e-01,  3.33658854e-03,\n",
       "       -8.76057943e-02, -1.50716146e-01, -9.91872152e-02, -1.30289714e-01,\n",
       "        4.12597656e-02, -1.10270182e-02,  2.32747396e-02, -4.78159587e-02,\n",
       "       -5.08219401e-02, -1.25239054e-01, -4.54101562e-02,  6.33138021e-02,\n",
       "       -8.95182292e-02, -6.62841797e-02,  7.64592489e-02,  7.60091146e-02,\n",
       "        1.21419271e-01,  5.28971354e-02,  3.88183594e-02,  1.34643555e-01,\n",
       "        5.33854167e-02,  2.21150716e-02, -3.24707031e-02,  1.20646159e-01,\n",
       "       -6.44938151e-02, -7.67720540e-02, -3.00292969e-02, -1.60807292e-01,\n",
       "        7.45442708e-02,  7.91829427e-02,  2.17081706e-02, -6.19913737e-02,\n",
       "       -3.07210286e-03,  9.94466146e-02, -6.38834635e-03,  3.34879557e-02,\n",
       "        3.09956868e-02,  5.96516927e-02, -1.10758464e-01, -1.12711589e-02,\n",
       "        1.93277995e-04,  1.57368978e-02, -9.63541667e-02, -6.76320394e-02,\n",
       "        1.62760417e-04, -4.38639323e-02, -1.07177734e-01, -5.45247396e-02,\n",
       "        1.32975260e-01, -1.86767578e-02,  2.02229818e-02, -1.03678385e-01,\n",
       "       -3.12500000e-02, -5.65592448e-02,  8.75447591e-02,  1.24837240e-01,\n",
       "        8.39843750e-02,  1.03759766e-03, -1.47094727e-01, -3.58072917e-03,\n",
       "        2.50651042e-02,  2.27864583e-03, -7.50096639e-02,  3.96525065e-02,\n",
       "       -6.09537760e-02, -1.06272380e-01,  1.47786458e-01,  1.99279785e-02,\n",
       "       -2.18200684e-02, -5.91634115e-02,  7.42187500e-02, -8.08105469e-02,\n",
       "        3.00699870e-02, -1.49739583e-01,  4.76888021e-02,  1.52587891e-03,\n",
       "        6.38834635e-03, -1.46484375e-03,  3.60005697e-02,  1.09659831e-02,\n",
       "        6.93359375e-02,  3.62752279e-02,  8.72599284e-02, -8.58561198e-02,\n",
       "        9.43196615e-02,  4.93977865e-02, -1.42333984e-01, -4.48608398e-02,\n",
       "       -4.73022461e-03,  7.94270833e-02, -7.77994792e-02,  4.05273438e-02,\n",
       "        1.25325521e-01,  1.55436198e-01, -2.74759928e-02, -1.07421875e-02,\n",
       "        1.83105469e-02,  3.19824219e-02, -3.17382812e-02,  3.53190104e-02,\n",
       "        5.64371745e-02,  2.53906250e-02,  3.23486328e-02, -7.70263672e-02,\n",
       "       -1.70206706e-01, -7.51139323e-02, -2.34781901e-02,  3.52376302e-02,\n",
       "        8.11360677e-02, -7.36846924e-02,  1.53401693e-02,  3.01106771e-02,\n",
       "       -5.81410726e-02,  3.38948568e-02, -9.92838542e-02, -3.12906901e-02,\n",
       "       -4.53287760e-02,  1.99381510e-03, -4.80143229e-02,  8.27229818e-02,\n",
       "       -7.54597982e-02,  2.36002604e-03,  2.38444010e-02,  8.09529622e-02,\n",
       "        1.11897786e-02,  7.38932292e-02,  4.81974284e-02, -4.38569387e-02])"
      ]
     },
     "execution_count": 52,
     "metadata": {},
     "output_type": "execute_result"
    }
   ],
   "source": [
    "h1 = string_to_vec(\"glibberfobble in the wind\")\n",
    "h1"
   ]
  },
  {
   "cell_type": "code",
   "execution_count": null,
   "metadata": {},
   "outputs": [],
   "source": [
    "# Neat.. https://jalammar.github.io/illustrated-word2vec/\n"
   ]
  },
  {
   "cell_type": "code",
   "execution_count": 10,
   "metadata": {},
   "outputs": [],
   "source": [
    "text = \"Documents released on Saturday by St. Louis County Prosecutor Bob McCulloch reveal new details about the fatal shooting of unarmed black teenager Michael Brown by former Ferguson police officer Darren Wilson in August\""
   ]
  },
  {
   "cell_type": "code",
   "execution_count": 11,
   "metadata": {},
   "outputs": [
    {
     "ename": "KeyError",
     "evalue": "\"Key 'of' not present\"",
     "output_type": "error",
     "traceback": [
      "\u001b[0;31m---------------------------------------------------------------------------\u001b[0m",
      "\u001b[0;31mKeyError\u001b[0m                                  Traceback (most recent call last)",
      "Cell \u001b[0;32mIn[11], line 3\u001b[0m\n\u001b[1;32m      1\u001b[0m X \u001b[38;5;241m=\u001b[39m []\n\u001b[1;32m      2\u001b[0m \u001b[38;5;28;01mfor\u001b[39;00m token \u001b[38;5;129;01min\u001b[39;00m text\u001b[38;5;241m.\u001b[39msplit():\n\u001b[0;32m----> 3\u001b[0m     X\u001b[38;5;241m.\u001b[39mappend(\u001b[43mwv\u001b[49m\u001b[43m[\u001b[49m\u001b[43mtoken\u001b[49m\u001b[43m]\u001b[49m) \n\u001b[1;32m      4\u001b[0m X\u001b[38;5;241m=\u001b[39m np\u001b[38;5;241m.\u001b[39marray(X)\n",
      "File \u001b[0;32m~/miniconda3/envs/scipy/lib/python3.10/site-packages/gensim/models/keyedvectors.py:403\u001b[0m, in \u001b[0;36mKeyedVectors.__getitem__\u001b[0;34m(self, key_or_keys)\u001b[0m\n\u001b[1;32m    389\u001b[0m \u001b[38;5;250m\u001b[39m\u001b[38;5;124;03m\"\"\"Get vector representation of `key_or_keys`.\u001b[39;00m\n\u001b[1;32m    390\u001b[0m \n\u001b[1;32m    391\u001b[0m \u001b[38;5;124;03mParameters\u001b[39;00m\n\u001b[0;32m   (...)\u001b[0m\n\u001b[1;32m    400\u001b[0m \n\u001b[1;32m    401\u001b[0m \u001b[38;5;124;03m\"\"\"\u001b[39;00m\n\u001b[1;32m    402\u001b[0m \u001b[38;5;28;01mif\u001b[39;00m \u001b[38;5;28misinstance\u001b[39m(key_or_keys, _KEY_TYPES):\n\u001b[0;32m--> 403\u001b[0m     \u001b[38;5;28;01mreturn\u001b[39;00m \u001b[38;5;28;43mself\u001b[39;49m\u001b[38;5;241;43m.\u001b[39;49m\u001b[43mget_vector\u001b[49m\u001b[43m(\u001b[49m\u001b[43mkey_or_keys\u001b[49m\u001b[43m)\u001b[49m\n\u001b[1;32m    405\u001b[0m \u001b[38;5;28;01mreturn\u001b[39;00m vstack([\u001b[38;5;28mself\u001b[39m\u001b[38;5;241m.\u001b[39mget_vector(key) \u001b[38;5;28;01mfor\u001b[39;00m key \u001b[38;5;129;01min\u001b[39;00m key_or_keys])\n",
      "File \u001b[0;32m~/miniconda3/envs/scipy/lib/python3.10/site-packages/gensim/models/keyedvectors.py:446\u001b[0m, in \u001b[0;36mKeyedVectors.get_vector\u001b[0;34m(self, key, norm)\u001b[0m\n\u001b[1;32m    422\u001b[0m \u001b[38;5;28;01mdef\u001b[39;00m \u001b[38;5;21mget_vector\u001b[39m(\u001b[38;5;28mself\u001b[39m, key, norm\u001b[38;5;241m=\u001b[39m\u001b[38;5;28;01mFalse\u001b[39;00m):\n\u001b[1;32m    423\u001b[0m \u001b[38;5;250m    \u001b[39m\u001b[38;5;124;03m\"\"\"Get the key's vector, as a 1D numpy array.\u001b[39;00m\n\u001b[1;32m    424\u001b[0m \n\u001b[1;32m    425\u001b[0m \u001b[38;5;124;03m    Parameters\u001b[39;00m\n\u001b[0;32m   (...)\u001b[0m\n\u001b[1;32m    444\u001b[0m \n\u001b[1;32m    445\u001b[0m \u001b[38;5;124;03m    \"\"\"\u001b[39;00m\n\u001b[0;32m--> 446\u001b[0m     index \u001b[38;5;241m=\u001b[39m \u001b[38;5;28;43mself\u001b[39;49m\u001b[38;5;241;43m.\u001b[39;49m\u001b[43mget_index\u001b[49m\u001b[43m(\u001b[49m\u001b[43mkey\u001b[49m\u001b[43m)\u001b[49m\n\u001b[1;32m    447\u001b[0m     \u001b[38;5;28;01mif\u001b[39;00m norm:\n\u001b[1;32m    448\u001b[0m         \u001b[38;5;28mself\u001b[39m\u001b[38;5;241m.\u001b[39mfill_norms()\n",
      "File \u001b[0;32m~/miniconda3/envs/scipy/lib/python3.10/site-packages/gensim/models/keyedvectors.py:420\u001b[0m, in \u001b[0;36mKeyedVectors.get_index\u001b[0;34m(self, key, default)\u001b[0m\n\u001b[1;32m    418\u001b[0m     \u001b[38;5;28;01mreturn\u001b[39;00m default\n\u001b[1;32m    419\u001b[0m \u001b[38;5;28;01melse\u001b[39;00m:\n\u001b[0;32m--> 420\u001b[0m     \u001b[38;5;28;01mraise\u001b[39;00m \u001b[38;5;167;01mKeyError\u001b[39;00m(\u001b[38;5;124mf\u001b[39m\u001b[38;5;124m\"\u001b[39m\u001b[38;5;124mKey \u001b[39m\u001b[38;5;124m'\u001b[39m\u001b[38;5;132;01m{\u001b[39;00mkey\u001b[38;5;132;01m}\u001b[39;00m\u001b[38;5;124m'\u001b[39m\u001b[38;5;124m not present\u001b[39m\u001b[38;5;124m\"\u001b[39m)\n",
      "\u001b[0;31mKeyError\u001b[0m: \"Key 'of' not present\""
     ]
    }
   ],
   "source": [
    "X = []\n",
    "for token in text.split():\n",
    "    X.append(wv[token]) \n",
    "X= np.array(X)"
   ]
  },
  {
   "cell_type": "code",
   "execution_count": 12,
   "metadata": {},
   "outputs": [],
   "source": [
    "X = []\n",
    "for token in text.split():\n",
    "    try:\n",
    "        X.append(wv[token])\n",
    "    except:\n",
    "        X.append(np.zeros(300))\n",
    "X= np.array(X)"
   ]
  },
  {
   "cell_type": "code",
   "execution_count": 21,
   "metadata": {},
   "outputs": [
    {
     "data": {
      "text/plain": [
       "([<matplotlib.axis.YTick at 0x136122ad0>,\n",
       "  <matplotlib.axis.YTick at 0x136122470>,\n",
       "  <matplotlib.axis.YTick at 0x1361217b0>,\n",
       "  <matplotlib.axis.YTick at 0x136146650>,\n",
       "  <matplotlib.axis.YTick at 0x136147100>,\n",
       "  <matplotlib.axis.YTick at 0x136147bb0>,\n",
       "  <matplotlib.axis.YTick at 0x136146200>,\n",
       "  <matplotlib.axis.YTick at 0x1361708e0>,\n",
       "  <matplotlib.axis.YTick at 0x136171390>,\n",
       "  <matplotlib.axis.YTick at 0x136171e40>,\n",
       "  <matplotlib.axis.YTick at 0x1361728f0>,\n",
       "  <matplotlib.axis.YTick at 0x136121de0>,\n",
       "  <matplotlib.axis.YTick at 0x136170550>,\n",
       "  <matplotlib.axis.YTick at 0x136173310>,\n",
       "  <matplotlib.axis.YTick at 0x136173dc0>,\n",
       "  <matplotlib.axis.YTick at 0x136173fd0>,\n",
       "  <matplotlib.axis.YTick at 0x136147f10>,\n",
       "  <matplotlib.axis.YTick at 0x136189090>,\n",
       "  <matplotlib.axis.YTick at 0x136189b40>,\n",
       "  <matplotlib.axis.YTick at 0x13618a5f0>,\n",
       "  <matplotlib.axis.YTick at 0x1361715a0>,\n",
       "  <matplotlib.axis.YTick at 0x13618aef0>,\n",
       "  <matplotlib.axis.YTick at 0x13618b9a0>,\n",
       "  <matplotlib.axis.YTick at 0x1361a8490>,\n",
       "  <matplotlib.axis.YTick at 0x1361a8f40>,\n",
       "  <matplotlib.axis.YTick at 0x136188cd0>,\n",
       "  <matplotlib.axis.YTick at 0x1361a9990>,\n",
       "  <matplotlib.axis.YTick at 0x1361aa440>,\n",
       "  <matplotlib.axis.YTick at 0x1361aaef0>,\n",
       "  <matplotlib.axis.YTick at 0x1361ab9a0>,\n",
       "  <matplotlib.axis.YTick at 0x1361aa0b0>,\n",
       "  <matplotlib.axis.YTick at 0x1361c02e0>,\n",
       "  <matplotlib.axis.YTick at 0x1361c0d90>],\n",
       " [Text(0, 0, 'Documents'),\n",
       "  Text(0, 1, 'released'),\n",
       "  Text(0, 2, 'on'),\n",
       "  Text(0, 3, 'Saturday'),\n",
       "  Text(0, 4, 'by'),\n",
       "  Text(0, 5, 'St.'),\n",
       "  Text(0, 6, 'Louis'),\n",
       "  Text(0, 7, 'County'),\n",
       "  Text(0, 8, 'Prosecutor'),\n",
       "  Text(0, 9, 'Bob'),\n",
       "  Text(0, 10, 'McCulloch'),\n",
       "  Text(0, 11, 'reveal'),\n",
       "  Text(0, 12, 'new'),\n",
       "  Text(0, 13, 'details'),\n",
       "  Text(0, 14, 'about'),\n",
       "  Text(0, 15, 'the'),\n",
       "  Text(0, 16, 'fatal'),\n",
       "  Text(0, 17, 'shooting'),\n",
       "  Text(0, 18, 'of'),\n",
       "  Text(0, 19, 'unarmed'),\n",
       "  Text(0, 20, 'black'),\n",
       "  Text(0, 21, 'teenager'),\n",
       "  Text(0, 22, 'Michael'),\n",
       "  Text(0, 23, 'Brown'),\n",
       "  Text(0, 24, 'by'),\n",
       "  Text(0, 25, 'former'),\n",
       "  Text(0, 26, 'Ferguson'),\n",
       "  Text(0, 27, 'police'),\n",
       "  Text(0, 28, 'officer'),\n",
       "  Text(0, 29, 'Darren'),\n",
       "  Text(0, 30, 'Wilson'),\n",
       "  Text(0, 31, 'in'),\n",
       "  Text(0, 32, 'August')])"
      ]
     },
     "execution_count": 21,
     "metadata": {},
     "output_type": "execute_result"
    },
    {
     "data": {
      "image/png": "[encoded data removed]",
      "text/plain": [
       "<Figure size 640x480 with 1 Axes>"
      ]
     },
     "metadata": {},
     "output_type": "display_data"
    }
   ],
   "source": [
    "plt.imshow(X, aspect=\"auto\", cmap=\"RdGy\", interpolation=\"nearest\")\n",
    "plt.yticks( range(len(text.split())), text.split() ) "
   ]
  },
  {
   "cell_type": "code",
   "execution_count": 23,
   "metadata": {},
   "outputs": [
    {
     "data": {
      "text/plain": [
       "(array([  1.,   0.,   1.,   0.,   0.,   2.,   0.,   0.,   0.,   2.,   0.,\n",
       "          1.,   3.,   0.,   3.,   3.,   3.,   1.,   1.,   1.,   7.,   6.,\n",
       "          5.,   7.,   5.,   7.,   2.,   4.,   5.,   7.,   2.,   4.,   8.,\n",
       "          9.,   7.,   4.,   9.,   7.,  15.,  12.,  12.,  12.,   9.,  22.,\n",
       "         14.,   9.,  23.,  13.,  26.,  26.,  23.,  41.,  37.,  42.,  34.,\n",
       "         27.,  45.,  65.,  64.,  49.,  59.,  65.,  67.,  57.,  91.,  81.,\n",
       "        103., 112.,  87.,  84.,  88., 111.,  97., 116., 104., 130., 145.,\n",
       "        163., 167., 159., 184., 169., 158., 201., 192., 183., 195., 198.,\n",
       "        187., 196., 483., 197., 174., 190., 172., 168., 180., 182., 181.,\n",
       "        159., 182., 136., 135., 167., 132., 142., 128., 132., 108., 113.,\n",
       "        104., 110., 104.,  87., 108.,  67.,  73.,  75.,  70.,  59.,  71.,\n",
       "         64.,  39.,  56.,  62.,  43.,  32.,  29.,  35.,  36.,  34.,  32.,\n",
       "         33.,  30.,  24.,  18.,  10.,  18.,  13.,  17.,  11.,  21.,   8.,\n",
       "         16.,   9.,   9.,   8.,   4.,   9.,   5.,   7.,  13.,   2.,   7.,\n",
       "          3.,   6.,   2.,   6.,   3.,   6.,   4.,   1.,   1.,   2.,   4.,\n",
       "          1.,   3.,   0.,   2.,   0.,   0.,   2.,   1.,   0.,   0.,   1.,\n",
       "          0.,   1.,   2.,   0.,   0.,   0.,   1.,   1.,   3.,   1.,   0.,\n",
       "          0.,   0.,   1.,   0.,   0.,   0.,   0.,   0.,   0.,   2.,   0.,\n",
       "          0.,   1.]),\n",
       " array([-0.6015625 , -0.59494141, -0.58832031, -0.58169922, -0.57507812,\n",
       "        -0.56845703, -0.56183594, -0.55521484, -0.54859375, -0.54197266,\n",
       "        -0.53535156, -0.52873047, -0.52210937, -0.51548828, -0.50886719,\n",
       "        -0.50224609, -0.495625  , -0.48900391, -0.48238281, -0.47576172,\n",
       "        -0.46914062, -0.46251953, -0.45589844, -0.44927734, -0.44265625,\n",
       "        -0.43603516, -0.42941406, -0.42279297, -0.41617187, -0.40955078,\n",
       "        -0.40292969, -0.39630859, -0.3896875 , -0.38306641, -0.37644531,\n",
       "        -0.36982422, -0.36320312, -0.35658203, -0.34996094, -0.34333984,\n",
       "        -0.33671875, -0.33009766, -0.32347656, -0.31685547, -0.31023438,\n",
       "        -0.30361328, -0.29699219, -0.29037109, -0.28375   , -0.27712891,\n",
       "        -0.27050781, -0.26388672, -0.25726562, -0.25064453, -0.24402344,\n",
       "        -0.23740234, -0.23078125, -0.22416016, -0.21753906, -0.21091797,\n",
       "        -0.20429687, -0.19767578, -0.19105469, -0.18443359, -0.1778125 ,\n",
       "        -0.17119141, -0.16457031, -0.15794922, -0.15132812, -0.14470703,\n",
       "        -0.13808594, -0.13146484, -0.12484375, -0.11822266, -0.11160156,\n",
       "        -0.10498047, -0.09835938, -0.09173828, -0.08511719, -0.07849609,\n",
       "        -0.071875  , -0.06525391, -0.05863281, -0.05201172, -0.04539063,\n",
       "        -0.03876953, -0.03214844, -0.02552734, -0.01890625, -0.01228516,\n",
       "        -0.00566406,  0.00095703,  0.00757812,  0.01419922,  0.02082031,\n",
       "         0.02744141,  0.0340625 ,  0.04068359,  0.04730469,  0.05392578,\n",
       "         0.06054688,  0.06716797,  0.07378906,  0.08041016,  0.08703125,\n",
       "         0.09365234,  0.10027344,  0.10689453,  0.11351563,  0.12013672,\n",
       "         0.12675781,  0.13337891,  0.14      ,  0.14662109,  0.15324219,\n",
       "         0.15986328,  0.16648438,  0.17310547,  0.17972656,  0.18634766,\n",
       "         0.19296875,  0.19958984,  0.20621094,  0.21283203,  0.21945313,\n",
       "         0.22607422,  0.23269531,  0.23931641,  0.2459375 ,  0.25255859,\n",
       "         0.25917969,  0.26580078,  0.27242188,  0.27904297,  0.28566406,\n",
       "         0.29228516,  0.29890625,  0.30552734,  0.31214844,  0.31876953,\n",
       "         0.32539063,  0.33201172,  0.33863281,  0.34525391,  0.351875  ,\n",
       "         0.35849609,  0.36511719,  0.37173828,  0.37835938,  0.38498047,\n",
       "         0.39160156,  0.39822266,  0.40484375,  0.41146484,  0.41808594,\n",
       "         0.42470703,  0.43132813,  0.43794922,  0.44457031,  0.45119141,\n",
       "         0.4578125 ,  0.46443359,  0.47105469,  0.47767578,  0.48429688,\n",
       "         0.49091797,  0.49753906,  0.50416016,  0.51078125,  0.51740234,\n",
       "         0.52402344,  0.53064453,  0.53726563,  0.54388672,  0.55050781,\n",
       "         0.55712891,  0.56375   ,  0.57037109,  0.57699219,  0.58361328,\n",
       "         0.59023438,  0.59685547,  0.60347656,  0.61009766,  0.61671875,\n",
       "         0.62333984,  0.62996094,  0.63658203,  0.64320313,  0.64982422,\n",
       "         0.65644531,  0.66306641,  0.6696875 ,  0.67630859,  0.68292969,\n",
       "         0.68955078,  0.69617188,  0.70279297,  0.70941406,  0.71603516,\n",
       "         0.72265625]),\n",
       " <BarContainer object of 200 artists>)"
      ]
     },
     "execution_count": 23,
     "metadata": {},
     "output_type": "execute_result"
    },
    {
     "data": {
      "image/png": "[encoded data removed]",
      "text/plain": [
       "<Figure size 640x480 with 1 Axes>"
      ]
     },
     "metadata": {},
     "output_type": "display_data"
    }
   ],
   "source": [
    "plt.hist(X.flatten(), bins=200)"
   ]
  },
  {
   "cell_type": "code",
   "execution_count": null,
   "metadata": {},
   "outputs": [],
   "source": []
  }
 ],
 "metadata": {
  "kernelspec": {
   "display_name": "scipy",
   "language": "python",
   "name": "scipy"
  },
  "language_info": {
   "codemirror_mode": {
    "name": "ipython",
    "version": 3
   },
   "file_extension": ".py",
   "mimetype": "text/x-python",
   "name": "python",
   "nbconvert_exporter": "python",
   "pygments_lexer": "ipython3",
   "version": "3.10.10"
  }
 },
 "nbformat": 4,
 "nbformat_minor": 4
}
