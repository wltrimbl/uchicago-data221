{
 "cells": [
  {
   "cell_type": "code",
   "execution_count": 4,
   "metadata": {
    "tags": []
   },
   "outputs": [],
   "source": [
    "import numpy as np\n",
    "import pandas as pd\n",
    "import matplotlib.pyplot as plt\n",
    "import nltk\n",
    "from gensim.models import KeyedVectors\n",
    "# This notebook feeds the spam SMS corpus into word2vec and trains\n",
    "# logistic regression on the 300-dimensional vector resulting from\n",
    "# word2vec embedding."
   ]
  },
  {
   "cell_type": "code",
   "execution_count": 2,
   "metadata": {},
   "outputs": [
    {
     "name": "stdout",
     "output_type": "stream",
     "text": [
      "\u001b[?25l\u001b[2K\u001b[0G[+] 0.0s\n",
      "\u001b[2K\u001b[1A\u001b[2K\u001b[0G[+] 0.1s\n",
      "pkgs/main/osx-64   \u001b[90m━━━━━╸\u001b[0m\u001b[33m━━━━━━━━━━━━━━━╸\u001b[0m\u001b[90m━━━\u001b[0m   0.0 B /  ??.?MB @  ??.?MB/s  0.1s\n",
      "pkgs/main/noarch   \u001b[33m━━━━━━━━╸\u001b[0m\u001b[90m━━━━━━━━━━━━━━━━\u001b[0m   0.0 B /  ??.?MB @  ??.?MB/s  0.1s\n",
      "pkgs/r/osx-64      \u001b[90m━━━━━━━━━━━╸\u001b[0m\u001b[33m━━━━━━━━━━━━━\u001b[0m   0.0 B /  ??.?MB @  ??.?MB/s  0.1s\n",
      "pkgs/r/noarch      \u001b[33m━━━━━━━━━━╸\u001b[0m\u001b[90m━━━━━━━━━━━━━━\u001b[0m   0.0 B /  ??.?MB @  ??.?MB/s  0.1s\n",
      "conda-forge/osx-64 \u001b[33m━━━━━━━━━╸\u001b[0m\u001b[90m━━━━━━━━━━━━━━━\u001b[0m   0.0 B /  ??.?MB @  ??.?MB/s  0.1s\u001b[2K\u001b[1A\u001b[2K\u001b[1A\u001b[2K\u001b[1A\u001b[2K\u001b[1A\u001b[2K\u001b[1A\u001b[2K\u001b[0G[+] 0.2s\n",
      "pkgs/main/noarch   \u001b[33m━━━━━━━━━━━╸\u001b[0m\u001b[90m━━━━━━━━━━━━━\u001b[0m   0.0 B /  ??.?MB @  ??.?MB/s  0.2s\n",
      "pkgs/r/osx-64      \u001b[90m━━━━━━━━━━━━━━╸\u001b[0m\u001b[33m━━━━━━━━━━\u001b[0m   0.0 B /  ??.?MB @  ??.?MB/s  0.2s\n",
      "pkgs/r/noarch      \u001b[33m━━━━━━━━━━━━╸\u001b[0m\u001b[90m━━━━━━━━━━━━\u001b[0m   0.0 B /  ??.?MB @  ??.?MB/s  0.2s\n",
      "conda-forge/osx-64 \u001b[33m━━━━━━━━━━━╸\u001b[0m\u001b[90m━━━━━━━━━━━━━\u001b[0m   0.0 B /  ??.?MB @  ??.?MB/s  0.2s\n",
      "conda-forge/noarch \u001b[33m━━━━━━━━━━━━━━━╸\u001b[0m\u001b[90m━━━━━━━━━\u001b[0m   0.0 B /  ??.?MB @  ??.?MB/s  0.0s\u001b[2K\u001b[1A\u001b[2K\u001b[1A\u001b[2K\u001b[1A\u001b[2K\u001b[1A\u001b[2K\u001b[1A\u001b[2K\u001b[0Gpkgs/main/osx-64                                              No change\n",
      "pkgs/r/noarch                                                 No change\n",
      "pkgs/r/osx-64                                                 No change\n",
      "pkgs/main/noarch                                              No change\n",
      "[+] 0.3s\n",
      "conda-forge/osx-64 \u001b[33m━━━━━━━━━━━━━━╸\u001b[0m\u001b[90m━━━━━━━━━━\u001b[0m 124.9kB /  ??.?MB @ 415.5kB/s  0.3s\n",
      "conda-forge/noarch \u001b[90m━╸\u001b[0m\u001b[33m━━━━━━━━━━━━━━━╸\u001b[0m\u001b[90m━━━━━━━\u001b[0m   0.0 B /  ??.?MB @  ??.?MB/s  0.1s\n",
      "plotly/osx-64      \u001b[90m━━━━━━━━━━━━━╸\u001b[0m\u001b[33m━━━━━━━━━━━\u001b[0m   0.0 B /  ??.?MB @  ??.?MB/s  0.1s\n",
      "plotly/noarch      \u001b[33m━━━━━━━━━━━╸\u001b[0m\u001b[90m━━━━━━━━━━━━━\u001b[0m   0.0 B /  ??.?MB @  ??.?MB/s  0.1s\u001b[2K\u001b[1A\u001b[2K\u001b[1A\u001b[2K\u001b[1A\u001b[2K\u001b[1A\u001b[2K\u001b[0G[+] 0.4s\n",
      "conda-forge/osx-64 \u001b[33m━━━━━━━━━━━━━━━╸\u001b[0m\u001b[90m━━━━━━━━━\u001b[0m 392.4kB /  ??.?MB @   1.1MB/s  0.4s\n",
      "conda-forge/noarch \u001b[90m━━╸\u001b[0m\u001b[33m━━━━━━━━━━━━━━━╸\u001b[0m\u001b[90m━━━━━━\u001b[0m 217.2kB /  ??.?MB @ 609.0kB/s  0.2s\n",
      "plotly/osx-64      \u001b[33m━━━━━━━╸\u001b[0m\u001b[90m━━━━━━━━━━━━━━━━━\u001b[0m   0.0 B /  ??.?MB @  ??.?MB/s  0.2s\n",
      "plotly/noarch      \u001b[33m━━━━━━━━━━━━━╸\u001b[0m\u001b[90m━━━━━━━━━━━\u001b[0m   0.0 B /  ??.?MB @  ??.?MB/s  0.2s\u001b[2K\u001b[1A\u001b[2K\u001b[1A\u001b[2K\u001b[1A\u001b[2K\u001b[1A\u001b[2K\u001b[0Gplotly/osx-64                                                 No change\n",
      "plotly/noarch                                                 No change\n",
      "[+] 0.5s\n",
      "conda-forge/osx-64 \u001b[90m━╸\u001b[0m\u001b[33m━━━━━━━━━━━━━━━╸\u001b[0m\u001b[90m━━━━━━━\u001b[0m 871.4kB /  ??.?MB @   1.9MB/s  0.5s\n",
      "conda-forge/noarch \u001b[90m━━━━━╸\u001b[0m\u001b[33m━━━━━━━━━━━━━━━╸\u001b[0m\u001b[90m━━━\u001b[0m 641.3kB /  ??.?MB @   1.4MB/s  0.3s\u001b[2K\u001b[1A\u001b[2K\u001b[1A\u001b[2K\u001b[0G[+] 0.6s\n",
      "conda-forge/osx-64 \u001b[90m━━━━╸\u001b[0m\u001b[33m━━━━━━━━━━━━━━━╸\u001b[0m\u001b[90m━━━━\u001b[0m   1.3MB /  ??.?MB @   2.4MB/s  0.6s\n",
      "conda-forge/noarch \u001b[90m━━━━━━━╸\u001b[0m\u001b[33m━━━━━━━━━━━━━━━╸\u001b[0m\u001b[90m━\u001b[0m   1.0MB /  ??.?MB @   1.9MB/s  0.4s\u001b[2K\u001b[1A\u001b[2K\u001b[1A\u001b[2K\u001b[0G[+] 0.7s\n",
      "conda-forge/osx-64 \u001b[90m━━━━━╸\u001b[0m\u001b[33m━━━━━━━━━━━━━━━╸\u001b[0m\u001b[90m━━━\u001b[0m   1.6MB /  ??.?MB @   2.5MB/s  0.7s\n",
      "conda-forge/noarch \u001b[90m━━━━━━━━━╸\u001b[0m\u001b[33m━━━━━━━━━━━━━━━\u001b[0m   1.5MB /  ??.?MB @   2.2MB/s  0.5s\u001b[2K\u001b[1A\u001b[2K\u001b[1A\u001b[2K\u001b[0G[+] 0.8s\n",
      "conda-forge/osx-64 \u001b[90m━━━━━━╸\u001b[0m\u001b[33m━━━━━━━━━━━━━━━╸\u001b[0m\u001b[90m━━\u001b[0m   2.0MB /  ??.?MB @   2.7MB/s  0.8s\n",
      "conda-forge/noarch \u001b[90m━━━━━━━━━╸\u001b[0m\u001b[33m━━━━━━━━━━━━━━━\u001b[0m   1.5MB /  ??.?MB @   2.2MB/s  0.6s\u001b[2K\u001b[1A\u001b[2K\u001b[1A\u001b[2K\u001b[0G[+] 0.9s\n",
      "conda-forge/osx-64 \u001b[90m━━━━━━╸\u001b[0m\u001b[33m━━━━━━━━━━━━━━━╸\u001b[0m\u001b[90m━━\u001b[0m   2.0MB /  ??.?MB @   2.7MB/s  0.9s\n",
      "conda-forge/noarch \u001b[90m━━━━━━━━━━━╸\u001b[0m\u001b[33m━━━━━━━━━━━━━\u001b[0m   1.9MB /  ??.?MB @   2.2MB/s  0.7s\u001b[2K\u001b[1A\u001b[2K\u001b[1A\u001b[2K\u001b[0G[+] 1.0s\n",
      "conda-forge/osx-64 \u001b[90m━━━━━━━╸\u001b[0m\u001b[33m━━━━━━━━━━━━━━━╸\u001b[0m\u001b[90m━\u001b[0m   2.5MB /  ??.?MB @   2.6MB/s  1.0s\n",
      "conda-forge/noarch \u001b[90m━━━━━━━━━━━╸\u001b[0m\u001b[33m━━━━━━━━━━━━━\u001b[0m   1.9MB /  ??.?MB @   2.2MB/s  0.8s\u001b[2K\u001b[1A\u001b[2K\u001b[1A\u001b[2K\u001b[0G[+] 1.1s\n",
      "conda-forge/osx-64 \u001b[90m━━━━━━━━━━╸\u001b[0m\u001b[33m━━━━━━━━━━━━━━\u001b[0m   3.1MB /  ??.?MB @   2.8MB/s  1.1s\n",
      "conda-forge/noarch \u001b[90m━━━━━━━━━━━━━╸\u001b[0m\u001b[33m━━━━━━━━━━━\u001b[0m   3.0MB /  ??.?MB @   2.8MB/s  0.9s\u001b[2K\u001b[1A\u001b[2K\u001b[1A\u001b[2K\u001b[0G[+] 1.2s\n",
      "conda-forge/osx-64 \u001b[90m━━━━━━━━━━━━╸\u001b[0m\u001b[33m━━━━━━━━━━━━\u001b[0m   3.5MB /  ??.?MB @   3.0MB/s  1.2s\n",
      "conda-forge/noarch \u001b[33m━━━━━━━╸\u001b[0m\u001b[90m━━━━━━━━━━━━━━━━━\u001b[0m   3.4MB /  ??.?MB @   2.9MB/s  1.0s\u001b[2K\u001b[1A\u001b[2K\u001b[1A\u001b[2K\u001b[0G[+] 1.3s\n",
      "conda-forge/osx-64 \u001b[90m━━━━━━━━━━━━━╸\u001b[0m\u001b[33m━━━━━━━━━━━\u001b[0m   3.8MB /  ??.?MB @   3.0MB/s  1.3s\n",
      "conda-forge/noarch \u001b[33m━━━━━━━━━━╸\u001b[0m\u001b[90m━━━━━━━━━━━━━━\u001b[0m   3.9MB /  ??.?MB @   3.0MB/s  1.1s\u001b[2K\u001b[1A\u001b[2K\u001b[1A\u001b[2K\u001b[0G[+] 1.4s\n",
      "conda-forge/osx-64 \u001b[33m━━━━━━━━╸\u001b[0m\u001b[90m━━━━━━━━━━━━━━━━\u001b[0m   4.2MB /  ??.?MB @   3.1MB/s  1.4s\n",
      "conda-forge/noarch \u001b[33m━━━━━━━━━━━━╸\u001b[0m\u001b[90m━━━━━━━━━━━━\u001b[0m   4.2MB /  ??.?MB @   3.1MB/s  1.2s\u001b[2K\u001b[1A\u001b[2K\u001b[1A\u001b[2K\u001b[0G[+] 1.5s\n",
      "conda-forge/osx-64 \u001b[33m━━━━━━━━━━╸\u001b[0m\u001b[90m━━━━━━━━━━━━━━\u001b[0m   4.7MB /  ??.?MB @   3.2MB/s  1.5s\n",
      "conda-forge/noarch \u001b[33m━━━━━━━━━━━━━━━╸\u001b[0m\u001b[90m━━━━━━━━━\u001b[0m   4.8MB /  ??.?MB @   3.2MB/s  1.3s\u001b[2K\u001b[1A\u001b[2K\u001b[1A\u001b[2K\u001b[0G[+] 1.6s\n",
      "conda-forge/osx-64 \u001b[33m━━━━━━━━━━━━━╸\u001b[0m\u001b[90m━━━━━━━━━━━\u001b[0m   5.1MB /  ??.?MB @   3.3MB/s  1.6s\n",
      "conda-forge/noarch \u001b[90m━╸\u001b[0m\u001b[33m━━━━━━━━━━━━━━━╸\u001b[0m\u001b[90m━━━━━━━\u001b[0m   5.1MB /  ??.?MB @   3.2MB/s  1.4s\u001b[2K\u001b[1A\u001b[2K\u001b[1A\u001b[2K\u001b[0G[+] 1.7s\n",
      "conda-forge/osx-64 \u001b[33m━━━━━━━━━━━━━━━╸\u001b[0m\u001b[90m━━━━━━━━━\u001b[0m   5.5MB /  ??.?MB @   3.3MB/s  1.7s\n",
      "conda-forge/noarch \u001b[90m━━━╸\u001b[0m\u001b[33m━━━━━━━━━━━━━━━╸\u001b[0m\u001b[90m━━━━━\u001b[0m   5.7MB /  ??.?MB @   3.4MB/s  1.5s\u001b[2K\u001b[1A\u001b[2K\u001b[1A\u001b[2K\u001b[0G[+] 1.8s\n",
      "conda-forge/osx-64 \u001b[90m━╸\u001b[0m\u001b[33m━━━━━━━━━━━━━━━╸\u001b[0m\u001b[90m━━━━━━━\u001b[0m   6.0MB /  ??.?MB @   3.4MB/s  1.8s\n",
      "conda-forge/noarch \u001b[90m━━━━━━╸\u001b[0m\u001b[33m━━━━━━━━━━━━━━━╸\u001b[0m\u001b[90m━━\u001b[0m   6.1MB /  ??.?MB @   3.4MB/s  1.6s\u001b[2K\u001b[1A\u001b[2K\u001b[1A\u001b[2K\u001b[0G[+] 1.9s\n",
      "conda-forge/osx-64 \u001b[90m━━━━╸\u001b[0m\u001b[33m━━━━━━━━━━━━━━━╸\u001b[0m\u001b[90m━━━━\u001b[0m   6.4MB /  ??.?MB @   3.4MB/s  1.9s\n",
      "conda-forge/noarch \u001b[90m━━━━━━━━╸\u001b[0m\u001b[33m━━━━━━━━━━━━━━━━\u001b[0m   6.6MB /  ??.?MB @   3.5MB/s  1.7s\u001b[2K\u001b[1A\u001b[2K\u001b[1A\u001b[2K\u001b[0G[+] 2.0s\n",
      "conda-forge/osx-64 \u001b[90m━━━━━━╸\u001b[0m\u001b[33m━━━━━━━━━━━━━━━╸\u001b[0m\u001b[90m━━\u001b[0m   6.9MB /  ??.?MB @   3.5MB/s  2.0s\n",
      "conda-forge/noarch \u001b[90m━━━━━━━━━╸\u001b[0m\u001b[33m━━━━━━━━━━━━━━━\u001b[0m   6.7MB /  ??.?MB @   3.5MB/s  1.8s\u001b[2K\u001b[1A\u001b[2K\u001b[1A\u001b[2K\u001b[0G[+] 2.1s\n",
      "conda-forge/osx-64 \u001b[90m━━━━━━━╸\u001b[0m\u001b[33m━━━━━━━━━━━━━━━╸\u001b[0m\u001b[90m━\u001b[0m   7.1MB /  ??.?MB @   3.5MB/s  2.1s\n",
      "conda-forge/noarch \u001b[90m━━━━━━━━━━━╸\u001b[0m\u001b[33m━━━━━━━━━━━━━\u001b[0m   7.1MB /  ??.?MB @   3.5MB/s  1.9s\u001b[2K\u001b[1A\u001b[2K\u001b[1A\u001b[2K\u001b[0G[+] 2.2s\n",
      "conda-forge/osx-64 \u001b[90m━━━━━━━━━╸\u001b[0m\u001b[33m━━━━━━━━━━━━━━━\u001b[0m   7.4MB /  ??.?MB @   3.5MB/s  2.2s\n",
      "conda-forge/noarch \u001b[90m━━━━━━━━━━━━╸\u001b[0m\u001b[33m━━━━━━━━━━━━\u001b[0m   7.8MB /  ??.?MB @   3.6MB/s  2.0s\u001b[2K\u001b[1A\u001b[2K\u001b[1A\u001b[2K\u001b[0G[+] 2.3s\n",
      "conda-forge/osx-64 \u001b[90m━━━━━━━━━━━╸\u001b[0m\u001b[33m━━━━━━━━━━━━━\u001b[0m   8.0MB /  ??.?MB @   3.5MB/s  2.3s\n",
      "conda-forge/noarch \u001b[90m━━━━━━━━━━━━━━╸\u001b[0m\u001b[33m━━━━━━━━━━\u001b[0m   8.3MB /  ??.?MB @   3.6MB/s  2.1s\u001b[2K\u001b[1A\u001b[2K\u001b[1A\u001b[2K\u001b[0G[+] 2.4s\n",
      "conda-forge/osx-64 \u001b[90m━━━━━━━━━━━━━╸\u001b[0m\u001b[33m━━━━━━━━━━━\u001b[0m   8.4MB /  ??.?MB @   3.6MB/s  2.4s\n",
      "conda-forge/noarch \u001b[33m━━━━━━━━━╸\u001b[0m\u001b[90m━━━━━━━━━━━━━━━\u001b[0m   8.7MB /  ??.?MB @   3.6MB/s  2.2s\u001b[2K\u001b[1A\u001b[2K\u001b[1A\u001b[2K\u001b[0G[+] 2.5s\n",
      "conda-forge/osx-64 \u001b[33m━━━━━━━━╸\u001b[0m\u001b[90m━━━━━━━━━━━━━━━━\u001b[0m   8.8MB /  ??.?MB @   3.5MB/s  2.5s\n",
      "conda-forge/noarch \u001b[33m━━━━━━━━━━╸\u001b[0m\u001b[90m━━━━━━━━━━━━━━\u001b[0m   8.9MB /  ??.?MB @   3.6MB/s  2.3s\u001b[2K\u001b[1A\u001b[2K\u001b[1A\u001b[2K\u001b[0G[+] 2.6s\n",
      "conda-forge/osx-64 \u001b[33m━━━━━━━━━━╸\u001b[0m\u001b[90m━━━━━━━━━━━━━━\u001b[0m   9.3MB /  ??.?MB @   3.6MB/s  2.6s\n",
      "conda-forge/noarch \u001b[33m━━━━━━━━━━━━╸\u001b[0m\u001b[90m━━━━━━━━━━━━\u001b[0m   9.4MB /  ??.?MB @   3.7MB/s  2.4s\u001b[2K\u001b[1A\u001b[2K\u001b[1A\u001b[2K\u001b[0G[+] 2.7s\n",
      "conda-forge/osx-64 \u001b[33m━━━━━━━━━━━━━╸\u001b[0m\u001b[90m━━━━━━━━━━━\u001b[0m   9.7MB /  ??.?MB @   3.6MB/s  2.7s\n",
      "conda-forge/noarch \u001b[33m━━━━━━━━━━━━━━━╸\u001b[0m\u001b[90m━━━━━━━━━\u001b[0m   9.9MB /  ??.?MB @   3.7MB/s  2.5s\u001b[2K\u001b[1A\u001b[2K\u001b[1A\u001b[2K\u001b[0G[+] 2.8s\n",
      "conda-forge/osx-64 \u001b[33m━━━━━━━━━━━━━━━╸\u001b[0m\u001b[90m━━━━━━━━━\u001b[0m  10.2MB /  ??.?MB @   3.7MB/s  2.8s\n",
      "conda-forge/noarch \u001b[90m━╸\u001b[0m\u001b[33m━━━━━━━━━━━━━━━╸\u001b[0m\u001b[90m━━━━━━━\u001b[0m  10.3MB /  ??.?MB @   3.7MB/s  2.6s\u001b[2K\u001b[1A\u001b[2K\u001b[1A\u001b[2K\u001b[0G[+] 2.9s\n",
      "conda-forge/osx-64 \u001b[90m━╸\u001b[0m\u001b[33m━━━━━━━━━━━━━━━╸\u001b[0m\u001b[90m━━━━━━━\u001b[0m  10.6MB /  ??.?MB @   3.7MB/s  2.9s\n",
      "conda-forge/noarch \u001b[90m━━━╸\u001b[0m\u001b[33m━━━━━━━━━━━━━━━╸\u001b[0m\u001b[90m━━━━━\u001b[0m  10.8MB /  ??.?MB @   3.8MB/s  2.7s\u001b[2K\u001b[1A\u001b[2K\u001b[1A\u001b[2K\u001b[0G[+] 3.0s\n",
      "conda-forge/osx-64 \u001b[90m━━━━╸\u001b[0m\u001b[33m━━━━━━━━━━━━━━━╸\u001b[0m\u001b[90m━━━━\u001b[0m  11.0MB /  ??.?MB @   3.7MB/s  3.0s\n",
      "conda-forge/noarch \u001b[90m━━━━━━╸\u001b[0m\u001b[33m━━━━━━━━━━━━━━━╸\u001b[0m\u001b[90m━━\u001b[0m  11.3MB /  ??.?MB @   3.8MB/s  2.8s\u001b[2K\u001b[1A\u001b[2K\u001b[1A\u001b[2K\u001b[0G[+] 3.1s\n",
      "conda-forge/osx-64 \u001b[90m━━━━━━╸\u001b[0m\u001b[33m━━━━━━━━━━━━━━━╸\u001b[0m\u001b[90m━━\u001b[0m  11.5MB /  ??.?MB @   3.7MB/s  3.1s\n",
      "conda-forge/noarch \u001b[90m━━━━━━━━╸\u001b[0m\u001b[33m━━━━━━━━━━━━━━━━\u001b[0m  11.7MB /  ??.?MB @   3.8MB/s  2.9s\u001b[2K\u001b[1A\u001b[2K\u001b[1A\u001b[2K\u001b[0G[+] 3.2s\n",
      "conda-forge/osx-64 \u001b[90m━━━━━━━━╸\u001b[0m\u001b[33m━━━━━━━━━━━━━━━\u001b[0m  11.9MB @   3.7MB/s             3.2s\n",
      "conda-forge/noarch ━━━━━━━━━━━━━━━━━━━━━━━━  12.2MB @   3.8MB/s Finalizing  3.0s\u001b[2K\u001b[1A\u001b[2K\u001b[1A\u001b[2K\u001b[0G[+] 3.3s\n",
      "conda-forge/osx-64 \u001b[90m━━━━━━━━╸\u001b[0m\u001b[33m━━━━━━━━━━━━━━━\u001b[0m  11.9MB @   3.7MB/s             3.3s\n",
      "conda-forge/noarch ━━━━━━━━━━━━━━━━━━━━━━━━  12.2MB @   3.8MB/s Finalizing  3.1s\u001b[2K\u001b[1A\u001b[2K\u001b[1A\u001b[2K\u001b[0G[+] 3.4s\n",
      "conda-forge/osx-64 \u001b[90m━━━━━━━━╸\u001b[0m\u001b[33m━━━━━━━━━━━━━━━\u001b[0m  11.9MB @   3.7MB/s             3.4s\n",
      "conda-forge/noarch ━━━━━━━━━━━━━━━━━━━━━━━━  12.2MB @   3.8MB/s Finalizing  3.2s\u001b[2K\u001b[1A\u001b[2K\u001b[1A\u001b[2K\u001b[0G[+] 3.5s\n",
      "conda-forge/osx-64 \u001b[90m━━━━━━━━╸\u001b[0m\u001b[33m━━━━━━━━━━━━━━━\u001b[0m  11.9MB @   3.7MB/s             3.5s\n",
      "conda-forge/noarch ━━━━━━━━━━━━━━━━━━━━━━━━  12.2MB @   3.8MB/s Finalizing  3.3s\u001b[2K\u001b[1A\u001b[2K\u001b[1A\u001b[2K\u001b[0G[+] 3.6s\n",
      "conda-forge/osx-64 \u001b[90m━━━━━━━━╸\u001b[0m\u001b[33m━━━━━━━━━━━━━━━\u001b[0m  11.9MB @   3.7MB/s             3.6s\n",
      "conda-forge/noarch ━━━━━━━━━━━━━━━━━━━━━━━━  12.2MB @   3.8MB/s Finalizing  3.4s\u001b[2K\u001b[1A\u001b[2K\u001b[1A\u001b[2K\u001b[0Gconda-forge/noarch                                 @   3.8MB/s  3.5s\n",
      "[+] 3.7s\n",
      "conda-forge/osx-64 \u001b[90m━━━━━━━━━━╸\u001b[0m\u001b[33m━━━━━━━━━━━━━━\u001b[0m  12.3MB /  ??.?MB @   3.3MB/s  3.7s\u001b[2K\u001b[1A\u001b[2K\u001b[0G[+] 3.8s\n",
      "conda-forge/osx-64 \u001b[90m━━━━━━━━━━━━╸\u001b[0m\u001b[33m━━━━━━━━━━━━\u001b[0m  12.9MB /  ??.?MB @   3.4MB/s  3.8s\u001b[2K\u001b[1A\u001b[2K\u001b[0G[+] 3.9s\n",
      "conda-forge/osx-64 \u001b[90m━━━━━━━━━━━━━━━╸\u001b[0m\u001b[33m━━━━━━━━━\u001b[0m  13.5MB /  ??.?MB @   3.5MB/s  3.9s\u001b[2K\u001b[1A\u001b[2K\u001b[0G[+] 4.0s\n",
      "conda-forge/osx-64 \u001b[33m━━━━━━━━━╸\u001b[0m\u001b[90m━━━━━━━━━━━━━━━\u001b[0m  14.1MB /  ??.?MB @   3.5MB/s  4.0s\u001b[2K\u001b[1A\u001b[2K\u001b[0G[+] 4.1s\n",
      "conda-forge/osx-64 \u001b[33m━━━━━━━━━━━╸\u001b[0m\u001b[90m━━━━━━━━━━━━━\u001b[0m  14.6MB /  ??.?MB @   3.6MB/s  4.1s\u001b[2K\u001b[1A\u001b[2K\u001b[0G[+] 4.2s\n",
      "conda-forge/osx-64 \u001b[33m━━━━━━━━━━━━━━╸\u001b[0m\u001b[90m━━━━━━━━━━\u001b[0m  15.2MB /  ??.?MB @   3.6MB/s  4.2s\u001b[2K\u001b[1A\u001b[2K\u001b[0G[+] 4.3s\n",
      "conda-forge/osx-64 \u001b[33m━━━━━━━━━━━━━━━╸\u001b[0m\u001b[90m━━━━━━━━━\u001b[0m  15.5MB /  ??.?MB @   3.6MB/s  4.3s\u001b[2K\u001b[1A\u001b[2K\u001b[0G[+] 4.4s\n",
      "conda-forge/osx-64 \u001b[90m━╸\u001b[0m\u001b[33m━━━━━━━━━━━━━━━╸\u001b[0m\u001b[90m━━━━━━━\u001b[0m  16.0MB /  ??.?MB @   3.7MB/s  4.4s\u001b[2K\u001b[1A\u001b[2K\u001b[0G[+] 4.5s\n",
      "conda-forge/osx-64 \u001b[90m━━━━╸\u001b[0m\u001b[33m━━━━━━━━━━━━━━━╸\u001b[0m\u001b[90m━━━━\u001b[0m  16.4MB /  ??.?MB @   3.7MB/s  4.5s\u001b[2K\u001b[1A\u001b[2K\u001b[0G[+] 4.6s\n",
      "conda-forge/osx-64 \u001b[90m━━━━━━╸\u001b[0m\u001b[33m━━━━━━━━━━━━━━━╸\u001b[0m\u001b[90m━━\u001b[0m  16.9MB /  ??.?MB @   3.7MB/s  4.6s\u001b[2K\u001b[1A\u001b[2K\u001b[0G[+] 4.7s\n",
      "conda-forge/osx-64 \u001b[90m━━━━━━━━━╸\u001b[0m\u001b[33m━━━━━━━━━━━━━━━\u001b[0m  17.4MB /  ??.?MB @   3.7MB/s  4.7s\u001b[2K\u001b[1A\u001b[2K\u001b[0G[+] 4.8s\n",
      "conda-forge/osx-64 \u001b[90m━━━━━━━━━━━╸\u001b[0m\u001b[33m━━━━━━━━━━━━━\u001b[0m  18.0MB /  ??.?MB @   3.8MB/s  4.8s\u001b[2K\u001b[1A\u001b[2K\u001b[0G[+] 4.9s\n",
      "conda-forge/osx-64 \u001b[90m━━━━━━━━━━━━━╸\u001b[0m\u001b[33m━━━━━━━━━━━\u001b[0m  18.4MB /  ??.?MB @   3.8MB/s  4.9s\u001b[2K\u001b[1A\u001b[2K\u001b[0G[+] 5.0s\n",
      "conda-forge/osx-64 \u001b[33m━━━━━━━━╸\u001b[0m\u001b[90m━━━━━━━━━━━━━━━━\u001b[0m  18.9MB /  ??.?MB @   3.8MB/s  5.0s\u001b[2K\u001b[1A\u001b[2K\u001b[0G[+] 5.1s\n",
      "conda-forge/osx-64 \u001b[33m━━━━━━━━━━╸\u001b[0m\u001b[90m━━━━━━━━━━━━━━\u001b[0m  19.4MB /  ??.?MB @   3.8MB/s  5.1s\u001b[2K\u001b[1A\u001b[2K\u001b[0G[+] 5.2s\n",
      "conda-forge/osx-64 \u001b[33m━━━━━━━━━━━━━╸\u001b[0m\u001b[90m━━━━━━━━━━━\u001b[0m  19.9MB /  ??.?MB @   3.8MB/s  5.2s\u001b[2K\u001b[1A\u001b[2K\u001b[0G[+] 5.3s\n",
      "conda-forge/osx-64 \u001b[33m━━━━━━━━━━━━━━━╸\u001b[0m\u001b[90m━━━━━━━━━\u001b[0m  20.4MB /  ??.?MB @   3.9MB/s  5.3s\u001b[2K\u001b[1A\u001b[2K\u001b[0G[+] 5.4s\n",
      "conda-forge/osx-64 \u001b[90m╸\u001b[0m\u001b[33m━━━━━━━━━━━━━━━╸\u001b[0m\u001b[90m━━━━━━━━\u001b[0m  20.7MB /  ??.?MB @   3.9MB/s  5.4s\u001b[2K\u001b[1A\u001b[2K\u001b[0G[+] 5.5s\n",
      "conda-forge/osx-64 \u001b[90m━━━╸\u001b[0m\u001b[33m━━━━━━━━━━━━━━━╸\u001b[0m\u001b[90m━━━━━\u001b[0m  21.2MB /  ??.?MB @   3.9MB/s  5.5s\u001b[2K\u001b[1A\u001b[2K\u001b[0G[+] 5.6s\n",
      "conda-forge/osx-64 \u001b[90m━━━━━╸\u001b[0m\u001b[33m━━━━━━━━━━━━━━━╸\u001b[0m\u001b[90m━━━\u001b[0m  21.7MB /  ??.?MB @   3.9MB/s  5.6s\u001b[2K\u001b[1A\u001b[2K\u001b[0G[+] 5.7s\n",
      "conda-forge/osx-64 \u001b[90m━━━━━━━╸\u001b[0m\u001b[33m━━━━━━━━━━━━━━━╸\u001b[0m\u001b[90m━\u001b[0m  22.3MB /  ??.?MB @   3.9MB/s  5.7s\u001b[2K\u001b[1A\u001b[2K\u001b[0G[+] 5.8s\n",
      "conda-forge/osx-64 \u001b[90m━━━━━━━━━━╸\u001b[0m\u001b[33m━━━━━━━━━━━━━━\u001b[0m  22.8MB /  ??.?MB @   4.0MB/s  5.8s\u001b[2K\u001b[1A\u001b[2K\u001b[0G[+] 5.9s\n",
      "conda-forge/osx-64 \u001b[90m━━━━━━━━━━━━╸\u001b[0m\u001b[33m━━━━━━━━━━━━\u001b[0m  23.3MB /  ??.?MB @   4.0MB/s  5.9s\u001b[2K\u001b[1A\u001b[2K\u001b[0G[+] 6.0s\n",
      "conda-forge/osx-64 \u001b[90m━━━━━━━━━━━━━━━╸\u001b[0m\u001b[33m━━━━━━━━━\u001b[0m  23.9MB /  ??.?MB @   4.0MB/s  6.0s\u001b[2K\u001b[1A\u001b[2K\u001b[0G[+] 6.1s\n",
      "conda-forge/osx-64 \u001b[33m━━━━━━━━━╸\u001b[0m\u001b[90m━━━━━━━━━━━━━━━\u001b[0m  24.4MB /  ??.?MB @   4.0MB/s  6.1s\u001b[2K\u001b[1A\u001b[2K\u001b[0G[+] 6.2s\n",
      "conda-forge/osx-64 \u001b[33m━━━━━━━━━━━╸\u001b[0m\u001b[90m━━━━━━━━━━━━━\u001b[0m  25.0MB /  ??.?MB @   4.0MB/s  6.2s\u001b[2K\u001b[1A\u001b[2K\u001b[0G[+] 6.3s\n",
      "conda-forge/osx-64 \u001b[33m━━━━━━━━━━━━━━╸\u001b[0m\u001b[90m━━━━━━━━━━\u001b[0m  25.5MB /  ??.?MB @   4.1MB/s  6.3s\u001b[2K\u001b[1A\u001b[2K\u001b[0G[+] 6.4s\n",
      "conda-forge/osx-64 \u001b[90m╸\u001b[0m\u001b[33m━━━━━━━━━━━━━━━╸\u001b[0m\u001b[90m━━━━━━━━\u001b[0m  26.0MB /  ??.?MB @   4.1MB/s  6.4s\u001b[2K\u001b[1A\u001b[2K\u001b[0G[+] 6.5s\n",
      "conda-forge/osx-64 \u001b[90m━━━╸\u001b[0m\u001b[33m━━━━━━━━━━━━━━━╸\u001b[0m\u001b[90m━━━━━\u001b[0m  26.5MB /  ??.?MB @   4.1MB/s  6.5s\u001b[2K\u001b[1A\u001b[2K\u001b[0G[+] 6.6s\n",
      "conda-forge/osx-64 \u001b[90m━━━━━╸\u001b[0m\u001b[33m━━━━━━━━━━━━━━━╸\u001b[0m\u001b[90m━━━\u001b[0m  26.9MB /  ??.?MB @   4.1MB/s  6.6s\u001b[2K\u001b[1A\u001b[2K\u001b[0G[+] 6.7s\n",
      "conda-forge/osx-64 \u001b[90m━━━━━━━╸\u001b[0m\u001b[33m━━━━━━━━━━━━━━━╸\u001b[0m\u001b[90m━\u001b[0m  27.4MB /  ??.?MB @   4.1MB/s  6.7s\u001b[2K\u001b[1A\u001b[2K\u001b[0G[+] 6.8s\n",
      "conda-forge/osx-64 \u001b[90m━━━━━━━━━━╸\u001b[0m\u001b[33m━━━━━━━━━━━━━━\u001b[0m  27.9MB /  ??.?MB @   4.1MB/s  6.8s\u001b[2K\u001b[1A\u001b[2K\u001b[0G[+] 6.9s\n",
      "conda-forge/osx-64 ━━━━━━━━━━━━━━━━━━━━━━━━  28.2MB @   4.1MB/s Finalizing  6.9s\u001b[2K\u001b[1A\u001b[2K\u001b[0G[+] 7.0s\n",
      "conda-forge/osx-64 ━━━━━━━━━━━━━━━━━━━━━━━━  28.2MB @   4.1MB/s Finalizing  7.0s\u001b[2K\u001b[1A\u001b[2K\u001b[0G[+] 7.1s\n",
      "conda-forge/osx-64 ━━━━━━━━━━━━━━━━━━━━━━━━  28.2MB @   4.1MB/s Finalizing  7.1s\u001b[2K\u001b[1A\u001b[2K\u001b[0G[+] 7.2s\n",
      "conda-forge/osx-64 ━━━━━━━━━━━━━━━━━━━━━━━━  28.2MB @   4.1MB/s Finalizing  7.2s\u001b[2K\u001b[1A\u001b[2K\u001b[0G[+] 7.3s\n",
      "conda-forge/osx-64 ━━━━━━━━━━━━━━━━━━━━━━━━  28.2MB @   4.1MB/s Finalizing  7.3s\u001b[2K\u001b[1A\u001b[2K\u001b[0G[+] 7.4s\n",
      "conda-forge/osx-64 ━━━━━━━━━━━━━━━━━━━━━━━━  28.2MB @   4.1MB/s Finalizing  7.4s\u001b[2K\u001b[1A\u001b[2K\u001b[0G[+] 7.5s\n",
      "conda-forge/osx-64 ━━━━━━━━━━━━━━━━━━━━━━━━  28.2MB @   4.1MB/s Finalizing  7.5s\u001b[2K\u001b[1A\u001b[2K\u001b[0G[+] 7.6s\n",
      "conda-forge/osx-64 ━━━━━━━━━━━━━━━━━━━━━━━━  28.2MB @   4.1MB/s Finalizing  7.6s\u001b[2K\u001b[1A\u001b[2K\u001b[0G[+] 7.7s\n",
      "conda-forge/osx-64 ━━━━━━━━━━━━━━━━━━━━━━━━  28.2MB @   4.1MB/s Finalizing  7.7s\u001b[2K\u001b[1A\u001b[2K\u001b[0G[+] 7.8s\n",
      "conda-forge/osx-64 ━━━━━━━━━━━━━━━━━━━━━━━━  28.2MB @   4.1MB/s Finalizing  7.8s\u001b[2K\u001b[1A\u001b[2K\u001b[0G[+] 7.9s\n",
      "conda-forge/osx-64 ━━━━━━━━━━━━━━━━━━━━━━━━  28.2MB @   4.1MB/s Finalizing  7.9s\u001b[2K\u001b[1A\u001b[2K\u001b[0G[+] 8.0s\n",
      "conda-forge/osx-64 ━━━━━━━━━━━━━━━━━━━━━━━━  28.2MB @   4.1MB/s Finalizing  8.0s\u001b[2K\u001b[1A\u001b[2K\u001b[0G[+] 8.1s\n",
      "conda-forge/osx-64 ━━━━━━━━━━━━━━━━━━━━━━━━  28.2MB @   4.1MB/s Finalizing  8.1s\u001b[2K\u001b[1A\u001b[2K\u001b[0G[+] 8.2s\n",
      "conda-forge/osx-64 ━━━━━━━━━━━━━━━━━━━━━━━━  28.2MB @   4.1MB/s Finalizing  8.2s\u001b[2K\u001b[1A\u001b[2K\u001b[0G[+] 8.3s\n",
      "conda-forge/osx-64 ━━━━━━━━━━━━━━━━━━━━━━━━  28.2MB @   4.1MB/s Finalizing  8.3s\u001b[2K\u001b[1A\u001b[2K\u001b[0G[+] 8.4s\n",
      "conda-forge/osx-64 ━━━━━━━━━━━━━━━━━━━━━━━━  28.2MB @   4.1MB/s Finalizing  8.4s\u001b[2K\u001b[1A\u001b[2K\u001b[0G[+] 8.5s\n",
      "conda-forge/osx-64 ━━━━━━━━━━━━━━━━━━━━━━━━  28.2MB @   4.1MB/s Finalizing  8.5s\u001b[2K\u001b[1A\u001b[2K\u001b[0Gconda-forge/osx-64                                 @   4.1MB/s  8.5s\n",
      "\u001b[?25hCollect all metadata (repodata.json): done\n",
      "Solving environment: done\n",
      "\n",
      "## Package Plan ##\n",
      "\n",
      "  environment location: /Users/wltrimbl/miniconda3/envs/scipy\n",
      "\n",
      "  added / updated specs:\n",
      "    - gensim\n",
      "    - matplotlib\n",
      "    - nltk\n",
      "    - numpy\n",
      "    - pandas\n",
      "    - word2vec\n",
      "\n",
      "\n",
      "The following packages will be downloaded:\n",
      "\n",
      "    package                    |            build\n",
      "    ---------------------------|-----------------\n",
      "    gensim-4.3.0               |  py310h3ea8b11_0        21.9 MB\n",
      "    smart_open-5.2.1           |  py310hecd8cb5_0          78 KB\n",
      "    ------------------------------------------------------------\n",
      "                                           Total:        21.9 MB\n",
      "\n",
      "The following NEW packages will be INSTALLED:\n",
      "\n",
      "  gensim             pkgs/main/osx-64::gensim-4.3.0-py310h3ea8b11_0 \n",
      "  smart_open         pkgs/main/osx-64::smart_open-5.2.1-py310hecd8cb5_0 \n",
      "  word2vec           pkgs/main/osx-64::word2vec-0.9.4-py310h4e76f89_0 \n",
      "\n",
      "\n",
      "\n",
      "Downloading and Extracting Packages\n",
      "gensim-4.3.0         | 21.9 MB   |                                       |   0% \n",
      "gensim-4.3.0         | 21.9 MB   |                                       |   0% \u001b[A\n",
      "gensim-4.3.0         | 21.9 MB   | #                                     |   3% \u001b[A\n",
      "smart_open-5.2.1     | 78 KB     | ##################################### | 100% \u001b[A\n",
      "                                                                                \u001b[A\n",
      "                                                                                \u001b[A\n",
      "Preparing transaction: done\n",
      "Verifying transaction: done\n",
      "Executing transaction: done\n"
     ]
    }
   ],
   "source": [
    "import sys\n",
    "!conda install --yes --prefix {sys.prefix} numpy matplotlib pandas nltk word2vec gensim\n"
   ]
  },
  {
   "cell_type": "code",
   "execution_count": 5,
   "metadata": {},
   "outputs": [
    {
     "name": "stdout",
     "output_type": "stream",
     "text": [
      "# conda environments:\n",
      "#\n",
      "base                  *  /Users/wltrimbl/miniconda3\n",
      "R                        /Users/wltrimbl/miniconda3/envs/R\n",
      "quarto                   /Users/wltrimbl/miniconda3/envs/quarto\n",
      "r                        /Users/wltrimbl/miniconda3/envs/r\n",
      "scipy                    /Users/wltrimbl/miniconda3/envs/scipy\n",
      "termcolor                /Users/wltrimbl/miniconda3/envs/termcolor\n",
      "tf                       /Users/wltrimbl/miniconda3/envs/tf\n",
      "tf2                      /Users/wltrimbl/miniconda3/envs/tf2\n",
      "w2v                      /Users/wltrimbl/miniconda3/envs/w2v\n",
      "\n"
     ]
    }
   ],
   "source": [
    "! conda env list"
   ]
  },
  {
   "cell_type": "code",
   "execution_count": 6,
   "metadata": {},
   "outputs": [
    {
     "name": "stdout",
     "output_type": "stream",
     "text": [
      "numpy                     1.23.5          py310h9638375_0  \n",
      "numpy-base                1.23.5          py310ha98c3c9_0  \n"
     ]
    }
   ],
   "source": [
    "!conda list | grep numpy"
   ]
  },
  {
   "cell_type": "code",
   "execution_count": 7,
   "metadata": {},
   "outputs": [
    {
     "name": "stdout",
     "output_type": "stream",
     "text": [
      "['fasttext-wiki-news-subwords-300', 'conceptnet-numberbatch-17-06-300', 'word2vec-ruscorpora-300', 'word2vec-google-news-300', 'glove-wiki-gigaword-50', 'glove-wiki-gigaword-100', 'glove-wiki-gigaword-200', 'glove-wiki-gigaword-300', 'glove-twitter-25', 'glove-twitter-50', 'glove-twitter-100', 'glove-twitter-200', '__testing_word2vec-matrix-synopsis']\n"
     ]
    }
   ],
   "source": [
    "# https://radimrehurek.com/gensim/auto_examples/tutorials/run_word2vec.html\n",
    "import gensim.downloader\n",
    "# Show all available models in gensim-data\n",
    "print(list(gensim.downloader.info()['models'].keys()))\n"
   ]
  },
  {
   "cell_type": "code",
   "execution_count": 8,
   "metadata": {},
   "outputs": [],
   "source": [
    "wv = gensim.downloader.load('word2vec-google-news-300')"
   ]
  },
  {
   "cell_type": "code",
   "execution_count": 9,
   "metadata": {},
   "outputs": [
    {
     "name": "stdout",
     "output_type": "stream",
     "text": [
      "[('mushrooms', 0.7716438174247742), ('chanterelle', 0.6103289127349854), ('wild_mushrooms', 0.6075051426887512), ('oyster_mushrooms', 0.5885806083679199), ('morels', 0.584884762763977)]\n"
     ]
    }
   ],
   "source": [
    "# Okay, this demo has wv.most_similar.. which takes a \"positive\" and a \"negative\" list of words\n",
    "# https://tedboy.github.io/nlps/generated/generated/gensim.models.Word2Vec.most_similar.html\n",
    "print(wv.most_similar(positive=['mushroom'], topn=5))"
   ]
  },
  {
   "cell_type": "code",
   "execution_count": 10,
   "metadata": {},
   "outputs": [
    {
     "name": "stdout",
     "output_type": "stream",
     "text": [
      "[('onions', 0.7788934707641602), ('cauliflower', 0.7541464567184448), ('mushrooms', 0.7501453161239624), ('cabbage', 0.7384436726570129), ('eggplant', 0.7381553649902344)]\n"
     ]
    }
   ],
   "source": [
    "print(wv.most_similar(positive=['mushroom', \"onion\", \"garlic\", \"tofu\"], topn=5))"
   ]
  },
  {
   "cell_type": "code",
   "execution_count": 11,
   "metadata": {},
   "outputs": [
    {
     "name": "stdout",
     "output_type": "stream",
     "text": [
      "[('onions', 0.7950847744941711), ('tomato', 0.7402370572090149), ('mushrooms', 0.7371248602867126), ('cauliflower', 0.733453631401062), ('cabbage', 0.723550021648407)]\n"
     ]
    }
   ],
   "source": [
    "print(wv.most_similar(positive=['mushroom', \"onion\", \"garlic\", \"chicken\"], topn=5))"
   ]
  },
  {
   "cell_type": "code",
   "execution_count": 12,
   "metadata": {},
   "outputs": [
    {
     "name": "stdout",
     "output_type": "stream",
     "text": [
      "[('investing', 0.5440436005592346), ('invested', 0.48033177852630615), ('invests', 0.4520416259765625), ('investment', 0.44751736521720886), ('reinvest', 0.441010057926178)]\n"
     ]
    }
   ],
   "source": [
    "print(wv.most_similar(positive=['dropout', \"invest\"], negative=[\"graduate\"], topn=5))"
   ]
  },
  {
   "cell_type": "code",
   "execution_count": 13,
   "metadata": {},
   "outputs": [
    {
     "name": "stdout",
     "output_type": "stream",
     "text": [
      "car\n"
     ]
    }
   ],
   "source": [
    "# Okay, Cookie, which one of these things is not like the others?\n",
    "print(wv.doesnt_match(['fire', 'water', 'land', 'sea', 'air', 'car']))"
   ]
  },
  {
   "cell_type": "code",
   "execution_count": 14,
   "metadata": {
    "tags": []
   },
   "outputs": [],
   "source": [
    "# https://radimrehurek.com/gensim/models/word2vec.html\n",
    "from gensim.models import KeyedVectors"
   ]
  },
  {
   "cell_type": "code",
   "execution_count": 15,
   "metadata": {},
   "outputs": [
    {
     "data": {
      "text/plain": [
       "array([ 1.07421875e-01, -2.01171875e-01,  1.23046875e-01,  2.11914062e-01,\n",
       "       -9.13085938e-02,  2.16796875e-01, -1.31835938e-01,  8.30078125e-02,\n",
       "        2.02148438e-01,  4.78515625e-02,  3.66210938e-02, -2.45361328e-02,\n",
       "        2.39257812e-02, -1.60156250e-01, -2.61230469e-02,  9.71679688e-02,\n",
       "       -6.34765625e-02,  1.84570312e-01,  1.70898438e-01, -1.63085938e-01,\n",
       "       -1.09375000e-01,  1.49414062e-01, -4.65393066e-04,  9.61914062e-02,\n",
       "        1.68945312e-01,  2.60925293e-03,  8.93554688e-02,  6.49414062e-02,\n",
       "        3.56445312e-02, -6.93359375e-02, -1.46484375e-01, -1.21093750e-01,\n",
       "       -2.27539062e-01,  2.45361328e-02, -1.24511719e-01, -3.18359375e-01,\n",
       "       -2.20703125e-01,  1.30859375e-01,  3.66210938e-02, -3.63769531e-02,\n",
       "       -1.13281250e-01,  1.95312500e-01,  9.76562500e-02,  1.26953125e-01,\n",
       "        6.59179688e-02,  6.93359375e-02,  1.02539062e-02,  1.75781250e-01,\n",
       "       -1.68945312e-01,  1.21307373e-03, -2.98828125e-01, -1.15234375e-01,\n",
       "        5.66406250e-02, -1.77734375e-01, -2.08984375e-01,  1.76757812e-01,\n",
       "        2.38037109e-02, -2.57812500e-01, -4.46777344e-02,  1.88476562e-01,\n",
       "        5.51757812e-02,  5.02929688e-02, -1.06933594e-01,  1.89453125e-01,\n",
       "       -1.16210938e-01,  8.49609375e-02, -1.71875000e-01,  2.45117188e-01,\n",
       "       -1.73828125e-01, -8.30078125e-03,  4.56542969e-02, -1.61132812e-02,\n",
       "        1.86523438e-01, -6.05468750e-02, -4.17480469e-02,  1.82617188e-01,\n",
       "        2.20703125e-01, -1.22558594e-01, -2.55126953e-02, -3.08593750e-01,\n",
       "        9.13085938e-02,  1.60156250e-01,  1.70898438e-01,  1.19628906e-01,\n",
       "        7.08007812e-02, -2.64892578e-02, -3.08837891e-02,  4.06250000e-01,\n",
       "       -1.01562500e-01,  5.71289062e-02, -7.26318359e-03, -9.17968750e-02,\n",
       "       -1.50390625e-01, -2.55859375e-01,  2.16796875e-01, -3.63769531e-02,\n",
       "        2.24609375e-01,  8.00781250e-02,  1.56250000e-01,  5.27343750e-02,\n",
       "        1.50390625e-01, -1.14746094e-01, -8.64257812e-02,  1.19140625e-01,\n",
       "       -7.17773438e-02,  2.73437500e-01, -1.64062500e-01,  7.29370117e-03,\n",
       "        4.21875000e-01, -1.12792969e-01, -1.35742188e-01, -1.31835938e-01,\n",
       "       -1.37695312e-01, -7.66601562e-02,  6.25000000e-02,  4.98046875e-02,\n",
       "       -1.91406250e-01, -6.03027344e-02,  2.27539062e-01,  5.88378906e-02,\n",
       "       -3.24218750e-01,  5.41992188e-02, -1.35742188e-01,  8.17871094e-03,\n",
       "       -5.24902344e-02, -1.74713135e-03, -9.81445312e-02, -2.86865234e-02,\n",
       "        3.61328125e-02,  2.15820312e-01,  5.98144531e-02, -3.08593750e-01,\n",
       "       -2.27539062e-01,  2.61718750e-01,  9.86328125e-02, -5.07812500e-02,\n",
       "        1.78222656e-02,  1.31835938e-01, -5.35156250e-01, -1.81640625e-01,\n",
       "        1.38671875e-01, -3.10546875e-01, -9.71679688e-02,  1.31835938e-01,\n",
       "       -1.16210938e-01,  7.03125000e-02,  2.85156250e-01,  3.51562500e-02,\n",
       "       -1.01562500e-01, -3.75976562e-02,  1.41601562e-01,  1.42578125e-01,\n",
       "       -5.68847656e-02,  2.65625000e-01, -2.09960938e-01,  9.64355469e-03,\n",
       "       -6.68945312e-02, -4.83398438e-02, -6.10351562e-02,  2.45117188e-01,\n",
       "       -9.66796875e-02,  1.78222656e-02, -1.27929688e-01, -4.78515625e-02,\n",
       "       -7.26318359e-03,  1.79687500e-01,  2.78320312e-02, -2.10937500e-01,\n",
       "       -1.43554688e-01, -1.27929688e-01,  1.73339844e-02, -3.60107422e-03,\n",
       "       -2.04101562e-01,  3.63159180e-03, -1.19628906e-01, -6.15234375e-02,\n",
       "        5.93261719e-02, -3.23486328e-03, -1.70898438e-01, -3.14941406e-02,\n",
       "       -8.88671875e-02, -2.89062500e-01,  3.44238281e-02, -1.87500000e-01,\n",
       "        2.94921875e-01,  1.58203125e-01, -1.19628906e-01,  7.61718750e-02,\n",
       "        6.39648438e-02, -4.68750000e-02, -6.83593750e-02,  1.21459961e-02,\n",
       "       -1.44531250e-01,  4.54101562e-02,  3.68652344e-02,  3.88671875e-01,\n",
       "        1.45507812e-01, -2.55859375e-01, -4.46777344e-02, -1.33789062e-01,\n",
       "       -1.38671875e-01,  6.59179688e-02,  1.37695312e-01,  1.14746094e-01,\n",
       "        2.03125000e-01, -4.78515625e-02,  1.80664062e-02, -8.54492188e-02,\n",
       "       -2.48046875e-01, -3.39843750e-01, -2.83203125e-02,  1.05468750e-01,\n",
       "       -2.14843750e-01, -8.74023438e-02,  7.12890625e-02,  1.87500000e-01,\n",
       "       -1.12304688e-01,  2.73437500e-01, -3.26171875e-01, -1.77734375e-01,\n",
       "       -4.24804688e-02, -2.69531250e-01,  6.64062500e-02, -6.88476562e-02,\n",
       "       -1.99218750e-01, -7.03125000e-02, -2.43164062e-01, -3.66210938e-02,\n",
       "       -7.37304688e-02, -1.77734375e-01,  9.17968750e-02, -1.25000000e-01,\n",
       "       -1.65039062e-01, -3.57421875e-01, -2.85156250e-01, -1.66992188e-01,\n",
       "        1.97265625e-01, -1.53320312e-01,  2.31933594e-02,  2.06054688e-01,\n",
       "        1.80664062e-01, -2.74658203e-02, -1.92382812e-01, -9.61914062e-02,\n",
       "       -1.06811523e-02, -4.73632812e-02,  6.54296875e-02, -1.25732422e-02,\n",
       "        1.78222656e-02, -8.00781250e-02, -2.59765625e-01,  9.37500000e-02,\n",
       "       -7.81250000e-02,  4.68750000e-02, -2.22167969e-02,  1.86767578e-02,\n",
       "        3.11279297e-02,  1.04980469e-02, -1.69921875e-01,  2.58789062e-02,\n",
       "       -3.41796875e-02, -1.44042969e-02, -5.46875000e-02, -8.78906250e-02,\n",
       "        1.96838379e-03,  2.23632812e-01, -1.36718750e-01,  1.75781250e-01,\n",
       "       -1.63085938e-01,  1.87500000e-01,  3.44238281e-02, -5.63964844e-02,\n",
       "       -2.27689743e-05,  4.27246094e-02,  5.81054688e-02, -1.07910156e-01,\n",
       "       -3.88183594e-02, -2.69531250e-01,  3.34472656e-02,  9.81445312e-02,\n",
       "        5.63964844e-02,  2.23632812e-01, -5.49316406e-02,  1.46484375e-01,\n",
       "        5.93261719e-02, -2.19726562e-01,  6.39648438e-02,  1.66015625e-02,\n",
       "        4.56542969e-02,  3.26171875e-01, -3.80859375e-01,  1.70898438e-01,\n",
       "        5.66406250e-02, -1.04492188e-01,  1.38671875e-01, -1.57226562e-01,\n",
       "        3.23486328e-03, -4.80957031e-02, -2.48046875e-01, -6.20117188e-02],\n",
       "      dtype=float32)"
      ]
     },
     "execution_count": 15,
     "metadata": {},
     "output_type": "execute_result"
    }
   ],
   "source": [
    "vector = wv['computer']  # Get word2vec number for a word \n",
    "vector"
   ]
  },
  {
   "cell_type": "code",
   "execution_count": 16,
   "metadata": {},
   "outputs": [
    {
     "data": {
      "text/plain": [
       "(array([ 1.,  0.,  0.,  0.,  1.,  1.,  4.,  6.,  6.,  7., 10., 17., 18.,\n",
       "        22., 21., 29., 19., 29., 31., 14., 10., 12., 18., 12.,  3.,  4.,\n",
       "         1.,  1.,  1.,  2.]),\n",
       " array([-0.53515625, -0.50325519, -0.47135416, -0.43945312, -0.40755209,\n",
       "        -0.37565103, -0.34375   , -0.31184897, -0.27994791, -0.24804688,\n",
       "        -0.21614583, -0.1842448 , -0.15234375, -0.12044271, -0.08854166,\n",
       "        -0.05664062, -0.02473958,  0.00716146,  0.0390625 ,  0.07096354,\n",
       "         0.10286459,  0.13476562,  0.16666667,  0.1985677 ,  0.23046875,\n",
       "         0.26236978,  0.29427084,  0.32617188,  0.35807291,  0.38997397,\n",
       "         0.421875  ]),\n",
       " <BarContainer object of 30 artists>)"
      ]
     },
     "execution_count": 16,
     "metadata": {},
     "output_type": "execute_result"
    },
    {
     "data": {
      "image/png": "[encoded data removed]",
      "text/plain": [
       "<Figure size 640x480 with 1 Axes>"
      ]
     },
     "metadata": {},
     "output_type": "display_data"
    }
   ],
   "source": [
    "plt.hist(vector, bins=30)"
   ]
  },
  {
   "cell_type": "code",
   "execution_count": 20,
   "metadata": {},
   "outputs": [
    {
     "data": {
      "text/plain": [
       "6.927437"
      ]
     },
     "execution_count": 20,
     "metadata": {},
     "output_type": "execute_result"
    }
   ],
   "source": [
    "# Are these vectors normalized?\n",
    "np.sum( np.dot ( vector, vector) ) "
   ]
  },
  {
   "cell_type": "code",
   "execution_count": 23,
   "metadata": {},
   "outputs": [],
   "source": [
    "spam =pd.read_csv(\"../data/spam.csv\", encoding=\"latin-1\")\n",
    "spamclean = []\n",
    "for line in open(\"../data/spam.csv\", encoding=\"latin-1\"):\n",
    "        a = line.find(\",\")\n",
    "        spamclean.append((line[0:a], line[a+1:]))\n",
    "spam = pd.DataFrame(spamclean)\n",
    "spam = spam.drop(labels=0, axis=0)  #only do this once\n",
    "spam =spam.rename({0: \"label\", 1:\"text\"}, axis=1)"
   ]
  },
  {
   "cell_type": "code",
   "execution_count": 24,
   "metadata": {},
   "outputs": [],
   "source": [
    "ind = np.argsort(np.random.random(len(spam)))\n",
    "spam_test = spam.iloc[ind[0:450],:] \n",
    "spam_train = spam.iloc[ind[450:],:] "
   ]
  },
  {
   "cell_type": "code",
   "execution_count": 25,
   "metadata": {},
   "outputs": [],
   "source": [
    "Ytrain = spam_train.loc[:,\"label\"] == \"spam\" \n",
    "Xtrain = spam_train.loc[:,\"text\"]\n",
    "Ytest = spam_test.loc[:,\"label\"] == \"spam\" \n",
    "Xtest = spam_test.loc[:,\"text\"]"
   ]
  },
  {
   "cell_type": "code",
   "execution_count": 26,
   "metadata": {},
   "outputs": [],
   "source": [
    "Y = np.array(Ytrain)"
   ]
  },
  {
   "cell_type": "code",
   "execution_count": 27,
   "metadata": {},
   "outputs": [
    {
     "data": {
      "text/plain": [
       "\"Can't. I feel nauseous. I'm so pissed. I didn't eat any sweets all week cause today I was planning to pig out. I was dieting all week. And now I'm not hungry :/,,,\\n\""
      ]
     },
     "execution_count": 27,
     "metadata": {},
     "output_type": "execute_result"
    }
   ],
   "source": [
    "Xtrain.iloc[0]"
   ]
  },
  {
   "cell_type": "code",
   "execution_count": 149,
   "metadata": {},
   "outputs": [],
   "source": [
    "def string_to_vec(s):\n",
    "    tok1 = nltk.word_tokenize(s)\n",
    "    print(dir(tok1))\n"
   ]
  },
  {
   "cell_type": "code",
   "execution_count": 30,
   "metadata": {},
   "outputs": [
    {
     "name": "stdout",
     "output_type": "stream",
     "text": [
      "['__add__', '__class__', '__contains__', '__delattr__', '__delitem__', '__dir__', '__doc__', '__eq__', '__format__', '__ge__', '__getattribute__', '__getitem__', '__gt__', '__hash__', '__iadd__', '__imul__', '__init__', '__init_subclass__', '__iter__', '__le__', '__len__', '__lt__', '__mul__', '__ne__', '__new__', '__reduce__', '__reduce_ex__', '__repr__', '__reversed__', '__rmul__', '__setattr__', '__setitem__', '__sizeof__', '__str__', '__subclasshook__', 'append', 'clear', 'copy', 'count', 'extend', 'index', 'insert', 'pop', 'remove', 'reverse', 'sort']\n"
     ]
    }
   ],
   "source": [
    "string_to_vec(Xtext.iloc[0])"
   ]
  },
  {
   "cell_type": "code",
   "execution_count": 150,
   "metadata": {},
   "outputs": [],
   "source": [
    "tokens =nltk.word_tokenize(Xtext.iloc[0])"
   ]
  },
  {
   "cell_type": "code",
   "execution_count": 151,
   "metadata": {},
   "outputs": [
    {
     "name": "stdout",
     "output_type": "stream",
     "text": [
      "``\n",
      "Go\n",
      "until\n",
      "jurong\n",
      "point\n",
      ",\n",
      "crazy\n",
      "..\n",
      "Available\n",
      "only\n",
      "in\n",
      "bugis\n",
      "n\n",
      "great\n",
      "world\n",
      "la\n",
      "e\n",
      "buffet\n",
      "...\n",
      "Cine\n",
      "there\n",
      "got\n",
      "amore\n",
      "wat\n",
      "...\n",
      "''\n",
      ",\n",
      ",\n",
      ",\n"
     ]
    }
   ],
   "source": [
    "for t in tokens:\n",
    "    print(t)"
   ]
  },
  {
   "cell_type": "code",
   "execution_count": 152,
   "metadata": {},
   "outputs": [
    {
     "name": "stdout",
     "output_type": "stream",
     "text": [
      "['__add__', '__class__', '__contains__', '__delattr__', '__dir__', '__doc__', '__eq__', '__format__', '__ge__', '__getattribute__', '__getitem__', '__getnewargs__', '__gt__', '__hash__', '__init__', '__init_subclass__', '__iter__', '__le__', '__len__', '__lt__', '__mod__', '__mul__', '__ne__', '__new__', '__reduce__', '__reduce_ex__', '__repr__', '__rmod__', '__rmul__', '__setattr__', '__sizeof__', '__str__', '__subclasshook__', 'capitalize', 'casefold', 'center', 'count', 'encode', 'endswith', 'expandtabs', 'find', 'format', 'format_map', 'index', 'isalnum', 'isalpha', 'isascii', 'isdecimal', 'isdigit', 'isidentifier', 'islower', 'isnumeric', 'isprintable', 'isspace', 'istitle', 'isupper', 'join', 'ljust', 'lower', 'lstrip', 'maketrans', 'partition', 'replace', 'rfind', 'rindex', 'rjust', 'rpartition', 'rsplit', 'rstrip', 'split', 'splitlines', 'startswith', 'strip', 'swapcase', 'title', 'translate', 'upper', 'zfill']\n"
     ]
    }
   ],
   "source": [
    "for t in tokens:\n",
    "    print(dir(t))\n",
    "    break"
   ]
  },
  {
   "cell_type": "code",
   "execution_count": 28,
   "metadata": {},
   "outputs": [],
   "source": [
    "def string_to_vec(s):\n",
    "    N=300\n",
    "    t = np.zeros(300)\n",
    "    tok1 = nltk.word_tokenize(s)\n",
    "    for token in tok1:\n",
    "        c = wv[token]\n",
    "        t = t+c\n",
    "        print(t)"
   ]
  },
  {
   "cell_type": "code",
   "execution_count": 29,
   "metadata": {},
   "outputs": [
    {
     "name": "stdout",
     "output_type": "stream",
     "text": [
      "[-1.24511719e-01 -2.01416016e-02 -2.04101562e-01 -1.25000000e-01\n",
      " -1.68945312e-01 -1.20117188e-01  6.29882812e-02 -1.13281250e-01\n",
      "  2.47070312e-01  1.30859375e-01  3.00292969e-02 -1.04003906e-01\n",
      "  3.20434570e-03 -1.91406250e-01 -5.23437500e-01  2.15820312e-01\n",
      " -2.14843750e-01  4.63867188e-02  1.36718750e-01 -2.09960938e-01\n",
      "  2.23632812e-01  3.39355469e-02  1.17187500e-01  8.25195312e-02\n",
      "  1.31835938e-01 -4.00390625e-02 -1.59179688e-01 -1.78710938e-01\n",
      "  2.09960938e-01  4.34570312e-02  3.27148438e-02  2.94921875e-01\n",
      "  2.81250000e-01  7.72094727e-03  2.59765625e-01  3.10546875e-01\n",
      "  6.68945312e-02  1.68945312e-01 -4.24804688e-02  8.00781250e-02\n",
      " -8.05664062e-02 -2.08984375e-01 -2.30712891e-02 -1.12304688e-01\n",
      "  2.11914062e-01 -7.76367188e-02 -2.28515625e-01 -5.66406250e-01\n",
      "  3.58886719e-02  4.58984375e-02 -4.49218750e-01  1.47460938e-01\n",
      "  1.30859375e-01 -5.90820312e-02 -1.30859375e-01 -6.68945312e-02\n",
      " -4.73632812e-02 -1.07910156e-01  1.83593750e-01 -8.54492188e-03\n",
      " -2.07031250e-01 -4.85839844e-02 -1.49414062e-01  8.54492188e-02\n",
      "  2.00271606e-04  1.80664062e-01 -1.85546875e-01  5.29785156e-02\n",
      "  2.89062500e-01  1.39648438e-01  3.88671875e-01 -6.34765625e-02\n",
      "  1.46484375e-02 -2.83203125e-01 -2.63671875e-01  8.59375000e-02\n",
      "  2.67578125e-01  1.90429688e-01  2.17773438e-01  4.57763672e-03\n",
      "  3.12500000e-01 -2.01171875e-01 -1.22070312e-01 -1.60156250e-01\n",
      " -2.45117188e-01  5.34667969e-02  2.08007812e-01 -6.64062500e-02\n",
      "  3.32031250e-01  5.12695312e-03 -9.61914062e-02 -6.49414062e-02\n",
      " -2.65625000e-01 -1.62109375e-01 -6.64062500e-02  1.09863281e-01\n",
      "  2.73437500e-01 -1.31225586e-02  5.41992188e-02 -1.73828125e-01\n",
      " -1.48437500e-01 -2.00195312e-01  7.22656250e-02  7.51953125e-02\n",
      " -2.34375000e-01 -2.85644531e-02  4.14062500e-01  8.05664062e-02\n",
      " -1.90429688e-02 -9.71679688e-02 -7.12890625e-02 -1.89453125e-01\n",
      " -6.83593750e-02  1.23046875e-01  9.42382812e-02  2.53906250e-01\n",
      " -1.59179688e-01 -1.04980469e-01  3.29589844e-02  6.29882812e-02\n",
      " -1.74522400e-04  5.12695312e-02 -1.23535156e-01 -2.60925293e-03\n",
      "  3.39843750e-01  1.48437500e-01  3.14453125e-01 -1.21582031e-01\n",
      " -2.19726562e-01  5.73730469e-03 -2.50000000e-01 -3.20312500e-01\n",
      " -1.66015625e-01  7.08007812e-02 -5.22460938e-02  3.84765625e-01\n",
      " -2.26562500e-01 -8.49609375e-02 -4.46777344e-02 -6.54296875e-02\n",
      " -1.46484375e-01  1.49414062e-01  2.66113281e-02 -2.19726562e-01\n",
      "  2.69531250e-01  1.77734375e-01 -2.82287598e-03 -1.33789062e-01\n",
      "  2.00195312e-01  3.41796875e-03  1.56250000e-01 -1.12304688e-01\n",
      " -1.22558594e-01  1.78710938e-01 -2.00195312e-01  2.29492188e-02\n",
      " -1.64062500e-01  9.86328125e-02 -3.41796875e-01  3.93066406e-02\n",
      " -1.29882812e-01 -1.47460938e-01  1.61132812e-01 -2.42919922e-02\n",
      "  7.42187500e-02 -1.10839844e-01 -1.30859375e-01 -8.10546875e-02\n",
      " -1.64062500e-01  2.91015625e-01  1.09863281e-01  8.05664062e-02\n",
      " -1.47460938e-01  2.46093750e-01 -2.23632812e-01 -2.31933594e-02\n",
      "  3.30078125e-01  2.78320312e-02  1.62109375e-01 -8.88671875e-02\n",
      " -1.75781250e-01 -2.29492188e-01 -8.49609375e-02  2.21679688e-01\n",
      "  6.17675781e-02 -2.43164062e-01  2.77099609e-02  1.03027344e-01\n",
      "  1.08398438e-01  2.22656250e-01  1.18164062e-01  2.61718750e-01\n",
      " -5.12695312e-03  1.49414062e-01 -6.64062500e-02 -1.30859375e-01\n",
      " -2.11914062e-01  3.17382812e-02 -2.42187500e-01 -8.74023438e-02\n",
      " -1.56250000e-01  3.41796875e-02 -1.54296875e-01 -9.39941406e-03\n",
      "  6.93359375e-02  1.53320312e-01 -1.66992188e-01  9.42382812e-02\n",
      "  9.76562500e-02  3.57421875e-01  5.37109375e-02 -2.30468750e-01\n",
      " -3.90625000e-01 -1.26953125e-01  9.96093750e-02  5.73730469e-02\n",
      " -2.57812500e-01 -2.94921875e-01  1.28784180e-02  2.02636719e-02\n",
      "  6.39648438e-02 -9.13085938e-02  1.24511719e-01 -4.07714844e-02\n",
      "  9.66796875e-02 -2.22167969e-02  2.98828125e-01 -1.56250000e-01\n",
      "  5.78613281e-02 -2.44140625e-01  1.95312500e-02 -6.15234375e-02\n",
      " -1.22070312e-01  1.33056641e-02  2.71484375e-01 -1.00097656e-01\n",
      "  3.68652344e-02  2.56347656e-02  1.05468750e-01 -1.37695312e-01\n",
      " -5.29785156e-02  3.19824219e-02  1.25000000e-01 -3.94531250e-01\n",
      "  3.36914062e-02  1.04370117e-02  1.05957031e-01 -6.59179688e-02\n",
      "  1.37695312e-01 -3.28125000e-01 -3.14453125e-01  2.67578125e-01\n",
      "  9.22851562e-02  7.61718750e-02 -1.55273438e-01  3.90625000e-02\n",
      "  1.61132812e-01  1.22070312e-01 -2.59765625e-01 -3.10546875e-01\n",
      "  1.56250000e-02  1.58203125e-01 -8.83789062e-02  3.05175781e-02\n",
      "  4.63867188e-02  3.71093750e-01 -9.57031250e-02 -1.12304688e-01\n",
      " -1.06933594e-01 -1.64062500e-01 -3.32031250e-01 -3.93066406e-02\n",
      "  1.14257812e-01  2.89306641e-02  3.33984375e-01 -2.18750000e-01\n",
      " -5.29785156e-02 -2.22656250e-01 -2.87109375e-01  8.15429688e-02\n",
      "  7.86132812e-02  1.11328125e-01  2.36328125e-01  5.59082031e-02\n",
      "  1.03759766e-02  1.72851562e-01 -1.09863281e-01  2.00195312e-01\n",
      "  5.61523438e-02 -4.88281250e-01 -2.16796875e-01  6.49414062e-02\n",
      " -8.00781250e-02  6.12792969e-02  2.01171875e-01 -3.29589844e-02\n",
      "  2.61718750e-01 -3.36914062e-02 -3.24707031e-02  2.71484375e-01]\n"
     ]
    }
   ],
   "source": [
    "string_to_vec(\"hat\")"
   ]
  },
  {
   "cell_type": "code",
   "execution_count": 31,
   "metadata": {},
   "outputs": [
    {
     "name": "stdout",
     "output_type": "stream",
     "text": [
      "[-1.24511719e-01 -2.01416016e-02 -2.04101562e-01 -1.25000000e-01\n",
      " -1.68945312e-01 -1.20117188e-01  6.29882812e-02 -1.13281250e-01\n",
      "  2.47070312e-01  1.30859375e-01  3.00292969e-02 -1.04003906e-01\n",
      "  3.20434570e-03 -1.91406250e-01 -5.23437500e-01  2.15820312e-01\n",
      " -2.14843750e-01  4.63867188e-02  1.36718750e-01 -2.09960938e-01\n",
      "  2.23632812e-01  3.39355469e-02  1.17187500e-01  8.25195312e-02\n",
      "  1.31835938e-01 -4.00390625e-02 -1.59179688e-01 -1.78710938e-01\n",
      "  2.09960938e-01  4.34570312e-02  3.27148438e-02  2.94921875e-01\n",
      "  2.81250000e-01  7.72094727e-03  2.59765625e-01  3.10546875e-01\n",
      "  6.68945312e-02  1.68945312e-01 -4.24804688e-02  8.00781250e-02\n",
      " -8.05664062e-02 -2.08984375e-01 -2.30712891e-02 -1.12304688e-01\n",
      "  2.11914062e-01 -7.76367188e-02 -2.28515625e-01 -5.66406250e-01\n",
      "  3.58886719e-02  4.58984375e-02 -4.49218750e-01  1.47460938e-01\n",
      "  1.30859375e-01 -5.90820312e-02 -1.30859375e-01 -6.68945312e-02\n",
      " -4.73632812e-02 -1.07910156e-01  1.83593750e-01 -8.54492188e-03\n",
      " -2.07031250e-01 -4.85839844e-02 -1.49414062e-01  8.54492188e-02\n",
      "  2.00271606e-04  1.80664062e-01 -1.85546875e-01  5.29785156e-02\n",
      "  2.89062500e-01  1.39648438e-01  3.88671875e-01 -6.34765625e-02\n",
      "  1.46484375e-02 -2.83203125e-01 -2.63671875e-01  8.59375000e-02\n",
      "  2.67578125e-01  1.90429688e-01  2.17773438e-01  4.57763672e-03\n",
      "  3.12500000e-01 -2.01171875e-01 -1.22070312e-01 -1.60156250e-01\n",
      " -2.45117188e-01  5.34667969e-02  2.08007812e-01 -6.64062500e-02\n",
      "  3.32031250e-01  5.12695312e-03 -9.61914062e-02 -6.49414062e-02\n",
      " -2.65625000e-01 -1.62109375e-01 -6.64062500e-02  1.09863281e-01\n",
      "  2.73437500e-01 -1.31225586e-02  5.41992188e-02 -1.73828125e-01\n",
      " -1.48437500e-01 -2.00195312e-01  7.22656250e-02  7.51953125e-02\n",
      " -2.34375000e-01 -2.85644531e-02  4.14062500e-01  8.05664062e-02\n",
      " -1.90429688e-02 -9.71679688e-02 -7.12890625e-02 -1.89453125e-01\n",
      " -6.83593750e-02  1.23046875e-01  9.42382812e-02  2.53906250e-01\n",
      " -1.59179688e-01 -1.04980469e-01  3.29589844e-02  6.29882812e-02\n",
      " -1.74522400e-04  5.12695312e-02 -1.23535156e-01 -2.60925293e-03\n",
      "  3.39843750e-01  1.48437500e-01  3.14453125e-01 -1.21582031e-01\n",
      " -2.19726562e-01  5.73730469e-03 -2.50000000e-01 -3.20312500e-01\n",
      " -1.66015625e-01  7.08007812e-02 -5.22460938e-02  3.84765625e-01\n",
      " -2.26562500e-01 -8.49609375e-02 -4.46777344e-02 -6.54296875e-02\n",
      " -1.46484375e-01  1.49414062e-01  2.66113281e-02 -2.19726562e-01\n",
      "  2.69531250e-01  1.77734375e-01 -2.82287598e-03 -1.33789062e-01\n",
      "  2.00195312e-01  3.41796875e-03  1.56250000e-01 -1.12304688e-01\n",
      " -1.22558594e-01  1.78710938e-01 -2.00195312e-01  2.29492188e-02\n",
      " -1.64062500e-01  9.86328125e-02 -3.41796875e-01  3.93066406e-02\n",
      " -1.29882812e-01 -1.47460938e-01  1.61132812e-01 -2.42919922e-02\n",
      "  7.42187500e-02 -1.10839844e-01 -1.30859375e-01 -8.10546875e-02\n",
      " -1.64062500e-01  2.91015625e-01  1.09863281e-01  8.05664062e-02\n",
      " -1.47460938e-01  2.46093750e-01 -2.23632812e-01 -2.31933594e-02\n",
      "  3.30078125e-01  2.78320312e-02  1.62109375e-01 -8.88671875e-02\n",
      " -1.75781250e-01 -2.29492188e-01 -8.49609375e-02  2.21679688e-01\n",
      "  6.17675781e-02 -2.43164062e-01  2.77099609e-02  1.03027344e-01\n",
      "  1.08398438e-01  2.22656250e-01  1.18164062e-01  2.61718750e-01\n",
      " -5.12695312e-03  1.49414062e-01 -6.64062500e-02 -1.30859375e-01\n",
      " -2.11914062e-01  3.17382812e-02 -2.42187500e-01 -8.74023438e-02\n",
      " -1.56250000e-01  3.41796875e-02 -1.54296875e-01 -9.39941406e-03\n",
      "  6.93359375e-02  1.53320312e-01 -1.66992188e-01  9.42382812e-02\n",
      "  9.76562500e-02  3.57421875e-01  5.37109375e-02 -2.30468750e-01\n",
      " -3.90625000e-01 -1.26953125e-01  9.96093750e-02  5.73730469e-02\n",
      " -2.57812500e-01 -2.94921875e-01  1.28784180e-02  2.02636719e-02\n",
      "  6.39648438e-02 -9.13085938e-02  1.24511719e-01 -4.07714844e-02\n",
      "  9.66796875e-02 -2.22167969e-02  2.98828125e-01 -1.56250000e-01\n",
      "  5.78613281e-02 -2.44140625e-01  1.95312500e-02 -6.15234375e-02\n",
      " -1.22070312e-01  1.33056641e-02  2.71484375e-01 -1.00097656e-01\n",
      "  3.68652344e-02  2.56347656e-02  1.05468750e-01 -1.37695312e-01\n",
      " -5.29785156e-02  3.19824219e-02  1.25000000e-01 -3.94531250e-01\n",
      "  3.36914062e-02  1.04370117e-02  1.05957031e-01 -6.59179688e-02\n",
      "  1.37695312e-01 -3.28125000e-01 -3.14453125e-01  2.67578125e-01\n",
      "  9.22851562e-02  7.61718750e-02 -1.55273438e-01  3.90625000e-02\n",
      "  1.61132812e-01  1.22070312e-01 -2.59765625e-01 -3.10546875e-01\n",
      "  1.56250000e-02  1.58203125e-01 -8.83789062e-02  3.05175781e-02\n",
      "  4.63867188e-02  3.71093750e-01 -9.57031250e-02 -1.12304688e-01\n",
      " -1.06933594e-01 -1.64062500e-01 -3.32031250e-01 -3.93066406e-02\n",
      "  1.14257812e-01  2.89306641e-02  3.33984375e-01 -2.18750000e-01\n",
      " -5.29785156e-02 -2.22656250e-01 -2.87109375e-01  8.15429688e-02\n",
      "  7.86132812e-02  1.11328125e-01  2.36328125e-01  5.59082031e-02\n",
      "  1.03759766e-02  1.72851562e-01 -1.09863281e-01  2.00195312e-01\n",
      "  5.61523438e-02 -4.88281250e-01 -2.16796875e-01  6.49414062e-02\n",
      " -8.00781250e-02  6.12792969e-02  2.01171875e-01 -3.29589844e-02\n",
      "  2.61718750e-01 -3.36914062e-02 -3.24707031e-02  2.71484375e-01]\n",
      "[-0.22070312 -0.05773926 -0.53808594  0.00878906 -0.07373047 -0.20507812\n",
      "  0.01489258 -0.13562012  0.32226562  0.19287109 -0.02148438 -0.41455078\n",
      " -0.07540894 -0.39941406 -0.54309082  0.14794922 -0.22723389  0.0279541\n",
      "  0.01416016 -0.02539062  0.46386719  0.0346489  -0.08105469  0.07873535\n",
      "  0.20703125 -0.19433594 -0.05126953 -0.14575195  0.19030762  0.18505859\n",
      " -0.17529297  0.21337891  0.17431641 -0.11825562  0.22119141  0.10449219\n",
      "  0.01025391  0.33984375 -0.35498047  0.14257812  0.16162109 -0.3671875\n",
      "  0.1361084  -0.33496094  0.3671875   0.02490234 -0.33886719 -0.35253906\n",
      "  0.06176758  0.11816406 -0.54052734  0.13995361  0.10046387 -0.06884766\n",
      " -0.21679688 -0.11791992  0.32177734 -0.27490234  0.08251953  0.09838867\n",
      " -0.5        -0.13891602 -0.12023926  0.27392578 -0.09843254  0.05175781\n",
      " -0.22680664 -0.12573242  0.50195312  0.23339844  0.56640625  0.08203125\n",
      "  0.26464844 -0.41503906 -0.5234375   0.05761719  0.29614258  0.19580078\n",
      "  0.375      -0.04766846  0.16699219 -0.30566406 -0.30078125 -0.16876221\n",
      " -0.13867188 -0.10571289  0.25268555 -0.28125     0.40087891  0.11254883\n",
      " -0.01757812  0.15771484 -0.2097168  -0.33105469 -0.12036133  0.11621094\n",
      "  0.20263672  0.0269165  -0.14013672  0.1953125   0.01074219 -0.33105469\n",
      "  0.36132812 -0.01953125 -0.36914062 -0.1809082   0.40032959  0.04296875\n",
      " -0.04541016 -0.34912109 -0.14648438 -0.04394531 -0.20800781  0.07446289\n",
      "  0.30517578  0.59960938 -0.31152344 -0.15258789  0.07666016  0.20947266\n",
      " -0.13591671  0.09960938 -0.20947266  0.0974884   0.16308594  0.09375\n",
      "  0.11132812  0.24951172 -0.10888672 -0.17883301 -0.18310547 -0.43847656\n",
      " -0.29882812  0.046875    0.21923828  0.52148438 -0.22337341 -0.17871094\n",
      "  0.00390625 -0.09692383 -0.09570312  0.14871216  0.04418945 -0.20361328\n",
      "  0.31884766 -0.02929688  0.13291931 -0.07836914  0.24560547  0.14013672\n",
      "  0.45507812  0.13183594 -0.37841797  0.57714844 -0.2040863   0.08056641\n",
      " -0.32421875  0.15893555 -0.28100586  0.08959961 -0.49707031 -0.20703125\n",
      "  0.32617188 -0.11706543  0.07836914 -0.30712891  0.13867188  0.00830078\n",
      " -0.49414062  0.27282715 -0.21240234  0.08563232 -0.15203857  0.35400391\n",
      " -0.46386719 -0.07568359  0.44824219 -0.18505859 -0.015625    0.20800781\n",
      " -0.48242188 -0.07617188 -0.09985352  0.35058594  0.26098633 -0.33007812\n",
      " -0.03918457  0.27197266 -0.07910156  0.65234375  0.05908203  0.18212891\n",
      " -0.04150391  0.20874023 -0.203125   -0.09326172 -0.20681763 -0.09521484\n",
      " -0.67773438 -0.11376953 -0.36035156 -0.09667969 -0.49414062  0.11462402\n",
      "  0.26367188  0.07714844  0.0234375   0.18603516  0.02636719  0.58398438\n",
      "  0.05741882 -0.04003906 -0.65429688  0.13085938 -0.24023438  0.07177734\n",
      " -0.32714844 -0.27282715 -0.43048096  0.13549805 -0.21533203 -0.09979248\n",
      "  0.0793457   0.16821289 -0.12402344 -0.03302002  0.34472656 -0.27050781\n",
      " -0.01391602 -0.60351562  0.13623047 -0.28808594 -0.19091797 -0.13903809\n",
      "  0.28735352  0.20263672 -0.04858398 -0.09057617  0.25488281 -0.34179688\n",
      "  0.07202148 -0.17407227  0.28320312 -0.56542969  0.18603516 -0.00189209\n",
      " -0.10205078 -0.08050537  0.39160156 -0.41552734 -0.45996094  0.19384766\n",
      "  0.36181641  0.24121094 -0.16790771  0.0426178  -0.14160156 -0.08398438\n",
      " -0.51953125 -0.55078125 -0.17089844  0.34277344 -0.29345703 -0.02587891\n",
      "  0.06945801  0.54296875 -0.0078125  -0.10430908 -0.15209961 -0.32519531\n",
      " -0.4765625  -0.0769043   0.07202148 -0.2142334   0.34637451  0.18164062\n",
      "  0.03833008 -0.59765625 -0.31884766  0.16259766 -0.01367188 -0.02636719\n",
      "  0.26647949  0.12866211 -0.06677246  0.30664062 -0.04541016  0.10009766\n",
      "  0.05130005 -0.57568359 -0.26391602  0.05224609 -0.14086914  0.3347168\n",
      "  0.38671875 -0.24584961  0.45898438 -0.11962891 -0.2980957   0.17089844]\n"
     ]
    }
   ],
   "source": [
    "string_to_vec(\"hat box\")"
   ]
  },
  {
   "cell_type": "code",
   "execution_count": 32,
   "metadata": {},
   "outputs": [],
   "source": [
    "def string_to_vec(s):\n",
    "    N=300\n",
    "    t = np.zeros(300)\n",
    "    tok1 = nltk.word_tokenize(s)\n",
    "    for token in tok1:\n",
    "        c = wv[token]\n",
    "        t = t+c\n",
    "        #print(t)\n",
    "    return(t / len(tok1))"
   ]
  },
  {
   "cell_type": "code",
   "execution_count": 33,
   "metadata": {},
   "outputs": [
    {
     "data": {
      "text/plain": [
       "0.0"
      ]
     },
     "execution_count": 33,
     "metadata": {},
     "output_type": "execute_result"
    }
   ],
   "source": [
    "# TESTS\n",
    "h1 = string_to_vec(\"hat box\")\n",
    "h2 = string_to_vec(\"box hat\")\n",
    "np.sum(np.abs(h1-h2))"
   ]
  },
  {
   "cell_type": "code",
   "execution_count": 34,
   "metadata": {},
   "outputs": [
    {
     "data": {
      "text/plain": [
       "0.0"
      ]
     },
     "execution_count": 34,
     "metadata": {},
     "output_type": "execute_result"
    }
   ],
   "source": [
    "h1 = string_to_vec(\"hat\")\n",
    "h2 = string_to_vec(\"hat hat\")\n",
    "np.sum(np.abs(h1-h2))"
   ]
  },
  {
   "cell_type": "code",
   "execution_count": 35,
   "metadata": {},
   "outputs": [
    {
     "data": {
      "text/plain": [
       "54.71977138519287"
      ]
     },
     "execution_count": 35,
     "metadata": {},
     "output_type": "execute_result"
    }
   ],
   "source": [
    "h1 = string_to_vec(\"hat\")\n",
    "h2 = string_to_vec(\"cat\")\n",
    "np.sum(np.abs(h1-h2))"
   ]
  },
  {
   "cell_type": "code",
   "execution_count": 36,
   "metadata": {},
   "outputs": [
    {
     "ename": "KeyError",
     "evalue": "\"Key 'nonexitsers' not present\"",
     "output_type": "error",
     "traceback": [
      "\u001b[0;31m---------------------------------------------------------------------------\u001b[0m",
      "\u001b[0;31mKeyError\u001b[0m                                  Traceback (most recent call last)",
      "Cell \u001b[0;32mIn[36], line 2\u001b[0m\n\u001b[1;32m      1\u001b[0m \u001b[38;5;66;03m# Yeah, and what happens when I ask for a word that's not in the dictionary?\u001b[39;00m\n\u001b[0;32m----> 2\u001b[0m \u001b[43mwv\u001b[49m\u001b[43m[\u001b[49m\u001b[38;5;124;43m\"\u001b[39;49m\u001b[38;5;124;43mnonexitsers\u001b[39;49m\u001b[38;5;124;43m\"\u001b[39;49m\u001b[43m]\u001b[49m\n",
      "File \u001b[0;32m~/miniconda3/envs/scipy/lib/python3.10/site-packages/gensim/models/keyedvectors.py:403\u001b[0m, in \u001b[0;36mKeyedVectors.__getitem__\u001b[0;34m(self, key_or_keys)\u001b[0m\n\u001b[1;32m    389\u001b[0m \u001b[38;5;250m\u001b[39m\u001b[38;5;124;03m\"\"\"Get vector representation of `key_or_keys`.\u001b[39;00m\n\u001b[1;32m    390\u001b[0m \n\u001b[1;32m    391\u001b[0m \u001b[38;5;124;03mParameters\u001b[39;00m\n\u001b[0;32m   (...)\u001b[0m\n\u001b[1;32m    400\u001b[0m \n\u001b[1;32m    401\u001b[0m \u001b[38;5;124;03m\"\"\"\u001b[39;00m\n\u001b[1;32m    402\u001b[0m \u001b[38;5;28;01mif\u001b[39;00m \u001b[38;5;28misinstance\u001b[39m(key_or_keys, _KEY_TYPES):\n\u001b[0;32m--> 403\u001b[0m     \u001b[38;5;28;01mreturn\u001b[39;00m \u001b[38;5;28;43mself\u001b[39;49m\u001b[38;5;241;43m.\u001b[39;49m\u001b[43mget_vector\u001b[49m\u001b[43m(\u001b[49m\u001b[43mkey_or_keys\u001b[49m\u001b[43m)\u001b[49m\n\u001b[1;32m    405\u001b[0m \u001b[38;5;28;01mreturn\u001b[39;00m vstack([\u001b[38;5;28mself\u001b[39m\u001b[38;5;241m.\u001b[39mget_vector(key) \u001b[38;5;28;01mfor\u001b[39;00m key \u001b[38;5;129;01min\u001b[39;00m key_or_keys])\n",
      "File \u001b[0;32m~/miniconda3/envs/scipy/lib/python3.10/site-packages/gensim/models/keyedvectors.py:446\u001b[0m, in \u001b[0;36mKeyedVectors.get_vector\u001b[0;34m(self, key, norm)\u001b[0m\n\u001b[1;32m    422\u001b[0m \u001b[38;5;28;01mdef\u001b[39;00m \u001b[38;5;21mget_vector\u001b[39m(\u001b[38;5;28mself\u001b[39m, key, norm\u001b[38;5;241m=\u001b[39m\u001b[38;5;28;01mFalse\u001b[39;00m):\n\u001b[1;32m    423\u001b[0m \u001b[38;5;250m    \u001b[39m\u001b[38;5;124;03m\"\"\"Get the key's vector, as a 1D numpy array.\u001b[39;00m\n\u001b[1;32m    424\u001b[0m \n\u001b[1;32m    425\u001b[0m \u001b[38;5;124;03m    Parameters\u001b[39;00m\n\u001b[0;32m   (...)\u001b[0m\n\u001b[1;32m    444\u001b[0m \n\u001b[1;32m    445\u001b[0m \u001b[38;5;124;03m    \"\"\"\u001b[39;00m\n\u001b[0;32m--> 446\u001b[0m     index \u001b[38;5;241m=\u001b[39m \u001b[38;5;28;43mself\u001b[39;49m\u001b[38;5;241;43m.\u001b[39;49m\u001b[43mget_index\u001b[49m\u001b[43m(\u001b[49m\u001b[43mkey\u001b[49m\u001b[43m)\u001b[49m\n\u001b[1;32m    447\u001b[0m     \u001b[38;5;28;01mif\u001b[39;00m norm:\n\u001b[1;32m    448\u001b[0m         \u001b[38;5;28mself\u001b[39m\u001b[38;5;241m.\u001b[39mfill_norms()\n",
      "File \u001b[0;32m~/miniconda3/envs/scipy/lib/python3.10/site-packages/gensim/models/keyedvectors.py:420\u001b[0m, in \u001b[0;36mKeyedVectors.get_index\u001b[0;34m(self, key, default)\u001b[0m\n\u001b[1;32m    418\u001b[0m     \u001b[38;5;28;01mreturn\u001b[39;00m default\n\u001b[1;32m    419\u001b[0m \u001b[38;5;28;01melse\u001b[39;00m:\n\u001b[0;32m--> 420\u001b[0m     \u001b[38;5;28;01mraise\u001b[39;00m \u001b[38;5;167;01mKeyError\u001b[39;00m(\u001b[38;5;124mf\u001b[39m\u001b[38;5;124m\"\u001b[39m\u001b[38;5;124mKey \u001b[39m\u001b[38;5;124m'\u001b[39m\u001b[38;5;132;01m{\u001b[39;00mkey\u001b[38;5;132;01m}\u001b[39;00m\u001b[38;5;124m'\u001b[39m\u001b[38;5;124m not present\u001b[39m\u001b[38;5;124m\"\u001b[39m)\n",
      "\u001b[0;31mKeyError\u001b[0m: \"Key 'nonexitsers' not present\""
     ]
    }
   ],
   "source": [
    "# Yeah, and what happens when I ask for a word that's not in the dictionary?\n",
    "wv[\"nonexitsers\"]"
   ]
  },
  {
   "cell_type": "code",
   "execution_count": 37,
   "metadata": {
    "tags": []
   },
   "outputs": [
    {
     "data": {
      "text/plain": [
       "(array([-0.12451172, -0.0201416 , -0.20410156, -0.125     , -0.16894531,\n",
       "        -0.12011719,  0.06298828, -0.11328125,  0.24707031,  0.13085938]),\n",
       " array([ 0.0123291 ,  0.20410156, -0.28515625,  0.21679688,  0.11816406,\n",
       "         0.08300781,  0.04980469, -0.00952148,  0.22070312, -0.12597656]))"
      ]
     },
     "execution_count": 37,
     "metadata": {},
     "output_type": "execute_result"
    }
   ],
   "source": [
    "h1[0:10], h2[0:10]"
   ]
  },
  {
   "cell_type": "code",
   "execution_count": 38,
   "metadata": {},
   "outputs": [
    {
     "ename": "KeyError",
     "evalue": "\"Key 'glibberfobble' not present\"",
     "output_type": "error",
     "traceback": [
      "\u001b[0;31m---------------------------------------------------------------------------\u001b[0m",
      "\u001b[0;31mKeyError\u001b[0m                                  Traceback (most recent call last)",
      "Cell \u001b[0;32mIn[38], line 2\u001b[0m\n\u001b[1;32m      1\u001b[0m \u001b[38;5;66;03m# MORE TESTS\u001b[39;00m\n\u001b[0;32m----> 2\u001b[0m h1 \u001b[38;5;241m=\u001b[39m \u001b[43mstring_to_vec\u001b[49m\u001b[43m(\u001b[49m\u001b[38;5;124;43m\"\u001b[39;49m\u001b[38;5;124;43mglibberfobble in the wind\u001b[39;49m\u001b[38;5;124;43m\"\u001b[39;49m\u001b[43m)\u001b[49m\n",
      "Cell \u001b[0;32mIn[32], line 6\u001b[0m, in \u001b[0;36mstring_to_vec\u001b[0;34m(s)\u001b[0m\n\u001b[1;32m      4\u001b[0m tok1 \u001b[38;5;241m=\u001b[39m nltk\u001b[38;5;241m.\u001b[39mword_tokenize(s)\n\u001b[1;32m      5\u001b[0m \u001b[38;5;28;01mfor\u001b[39;00m token \u001b[38;5;129;01min\u001b[39;00m tok1:\n\u001b[0;32m----> 6\u001b[0m     c \u001b[38;5;241m=\u001b[39m \u001b[43mwv\u001b[49m\u001b[43m[\u001b[49m\u001b[43mtoken\u001b[49m\u001b[43m]\u001b[49m\n\u001b[1;32m      7\u001b[0m     t \u001b[38;5;241m=\u001b[39m t\u001b[38;5;241m+\u001b[39mc\n\u001b[1;32m      8\u001b[0m     \u001b[38;5;66;03m#print(t)\u001b[39;00m\n",
      "File \u001b[0;32m~/miniconda3/envs/scipy/lib/python3.10/site-packages/gensim/models/keyedvectors.py:403\u001b[0m, in \u001b[0;36mKeyedVectors.__getitem__\u001b[0;34m(self, key_or_keys)\u001b[0m\n\u001b[1;32m    389\u001b[0m \u001b[38;5;250m\u001b[39m\u001b[38;5;124;03m\"\"\"Get vector representation of `key_or_keys`.\u001b[39;00m\n\u001b[1;32m    390\u001b[0m \n\u001b[1;32m    391\u001b[0m \u001b[38;5;124;03mParameters\u001b[39;00m\n\u001b[0;32m   (...)\u001b[0m\n\u001b[1;32m    400\u001b[0m \n\u001b[1;32m    401\u001b[0m \u001b[38;5;124;03m\"\"\"\u001b[39;00m\n\u001b[1;32m    402\u001b[0m \u001b[38;5;28;01mif\u001b[39;00m \u001b[38;5;28misinstance\u001b[39m(key_or_keys, _KEY_TYPES):\n\u001b[0;32m--> 403\u001b[0m     \u001b[38;5;28;01mreturn\u001b[39;00m \u001b[38;5;28;43mself\u001b[39;49m\u001b[38;5;241;43m.\u001b[39;49m\u001b[43mget_vector\u001b[49m\u001b[43m(\u001b[49m\u001b[43mkey_or_keys\u001b[49m\u001b[43m)\u001b[49m\n\u001b[1;32m    405\u001b[0m \u001b[38;5;28;01mreturn\u001b[39;00m vstack([\u001b[38;5;28mself\u001b[39m\u001b[38;5;241m.\u001b[39mget_vector(key) \u001b[38;5;28;01mfor\u001b[39;00m key \u001b[38;5;129;01min\u001b[39;00m key_or_keys])\n",
      "File \u001b[0;32m~/miniconda3/envs/scipy/lib/python3.10/site-packages/gensim/models/keyedvectors.py:446\u001b[0m, in \u001b[0;36mKeyedVectors.get_vector\u001b[0;34m(self, key, norm)\u001b[0m\n\u001b[1;32m    422\u001b[0m \u001b[38;5;28;01mdef\u001b[39;00m \u001b[38;5;21mget_vector\u001b[39m(\u001b[38;5;28mself\u001b[39m, key, norm\u001b[38;5;241m=\u001b[39m\u001b[38;5;28;01mFalse\u001b[39;00m):\n\u001b[1;32m    423\u001b[0m \u001b[38;5;250m    \u001b[39m\u001b[38;5;124;03m\"\"\"Get the key's vector, as a 1D numpy array.\u001b[39;00m\n\u001b[1;32m    424\u001b[0m \n\u001b[1;32m    425\u001b[0m \u001b[38;5;124;03m    Parameters\u001b[39;00m\n\u001b[0;32m   (...)\u001b[0m\n\u001b[1;32m    444\u001b[0m \n\u001b[1;32m    445\u001b[0m \u001b[38;5;124;03m    \"\"\"\u001b[39;00m\n\u001b[0;32m--> 446\u001b[0m     index \u001b[38;5;241m=\u001b[39m \u001b[38;5;28;43mself\u001b[39;49m\u001b[38;5;241;43m.\u001b[39;49m\u001b[43mget_index\u001b[49m\u001b[43m(\u001b[49m\u001b[43mkey\u001b[49m\u001b[43m)\u001b[49m\n\u001b[1;32m    447\u001b[0m     \u001b[38;5;28;01mif\u001b[39;00m norm:\n\u001b[1;32m    448\u001b[0m         \u001b[38;5;28mself\u001b[39m\u001b[38;5;241m.\u001b[39mfill_norms()\n",
      "File \u001b[0;32m~/miniconda3/envs/scipy/lib/python3.10/site-packages/gensim/models/keyedvectors.py:420\u001b[0m, in \u001b[0;36mKeyedVectors.get_index\u001b[0;34m(self, key, default)\u001b[0m\n\u001b[1;32m    418\u001b[0m     \u001b[38;5;28;01mreturn\u001b[39;00m default\n\u001b[1;32m    419\u001b[0m \u001b[38;5;28;01melse\u001b[39;00m:\n\u001b[0;32m--> 420\u001b[0m     \u001b[38;5;28;01mraise\u001b[39;00m \u001b[38;5;167;01mKeyError\u001b[39;00m(\u001b[38;5;124mf\u001b[39m\u001b[38;5;124m\"\u001b[39m\u001b[38;5;124mKey \u001b[39m\u001b[38;5;124m'\u001b[39m\u001b[38;5;132;01m{\u001b[39;00mkey\u001b[38;5;132;01m}\u001b[39;00m\u001b[38;5;124m'\u001b[39m\u001b[38;5;124m not present\u001b[39m\u001b[38;5;124m\"\u001b[39m)\n",
      "\u001b[0;31mKeyError\u001b[0m: \"Key 'glibberfobble' not present\""
     ]
    }
   ],
   "source": [
    "# MORE TESTS: make sure handles nonsense words\n",
    "h1 = string_to_vec(\"glibberfobble in the wind\")"
   ]
  },
  {
   "cell_type": "code",
   "execution_count": 39,
   "metadata": {},
   "outputs": [],
   "source": [
    "def string_to_vec(s):\n",
    "    N=300\n",
    "    n=0\n",
    "    t = np.zeros(300)\n",
    "    tok1 = nltk.word_tokenize(s)\n",
    "    for token in tok1:\n",
    "        try:\n",
    "            c = wv[token]\n",
    "            t = t+c\n",
    "            n = n+1\n",
    "        except KeyError:\n",
    "            pass\n",
    "    return(t / n)"
   ]
  },
  {
   "cell_type": "code",
   "execution_count": 40,
   "metadata": {},
   "outputs": [
    {
     "data": {
      "text/plain": [
       "0.0"
      ]
     },
     "execution_count": 40,
     "metadata": {},
     "output_type": "execute_result"
    }
   ],
   "source": [
    "h1 = string_to_vec(\"glibberfobble in the wind\")\n",
    "h2 = string_to_vec(\"in the wind\")\n",
    "\n",
    "np.sum(np.abs(h1-h2))"
   ]
  },
  {
   "cell_type": "code",
   "execution_count": 51,
   "metadata": {},
   "outputs": [],
   "source": [
    "X2 = Xtrain.apply(string_to_vec)\n",
    "XTEST2 = Xtest.apply(string_to_vec)"
   ]
  },
  {
   "cell_type": "code",
   "execution_count": 43,
   "metadata": {},
   "outputs": [
    {
     "data": {
      "text/plain": [
       "(5124,)"
      ]
     },
     "execution_count": 43,
     "metadata": {},
     "output_type": "execute_result"
    }
   ],
   "source": [
    "X2.shape"
   ]
  },
  {
   "cell_type": "code",
   "execution_count": 46,
   "metadata": {},
   "outputs": [
    {
     "data": {
      "text/plain": [
       "914     [0.01848842075892857, 0.0284423828125, 0.01118...\n",
       "2502    [0.06734212239583333, 0.11328125, 0.1397705078...\n",
       "1295    [-0.0027008056640625, 0.047824859619140625, 0....\n",
       "Name: text, dtype: object"
      ]
     },
     "execution_count": 46,
     "metadata": {},
     "output_type": "execute_result"
    }
   ],
   "source": [
    "X2[0:3]"
   ]
  },
  {
   "cell_type": "code",
   "execution_count": 44,
   "metadata": {
    "tags": []
   },
   "outputs": [],
   "source": [
    "# Series of arrays..."
   ]
  },
  {
   "cell_type": "code",
   "execution_count": 53,
   "metadata": {},
   "outputs": [
    {
     "data": {
      "text/plain": [
       "(numpy.ndarray, (5124, 300), numpy.ndarray, (450, 300))"
      ]
     },
     "execution_count": 53,
     "metadata": {},
     "output_type": "execute_result"
    }
   ],
   "source": [
    "X = np.stack(X2.values)\n",
    "XTEST = np.stack(XTEST2.values)\n",
    "type(X), X.shape, type(XTEST), XTEST.shape"
   ]
  },
  {
   "cell_type": "code",
   "execution_count": 172,
   "metadata": {},
   "outputs": [
    {
     "data": {
      "text/plain": [
       "5574"
      ]
     },
     "execution_count": 172,
     "metadata": {},
     "output_type": "execute_result"
    }
   ],
   "source": [
    "from numpy.random import permutation\n",
    "scramble = permutation(len(X))\n",
    "len(X)"
   ]
  },
  {
   "cell_type": "code",
   "execution_count": 54,
   "metadata": {
    "tags": []
   },
   "outputs": [],
   "source": [
    "from sklearn.linear_model import LogisticRegressionCV, LogisticRegression"
   ]
  },
  {
   "cell_type": "code",
   "execution_count": 55,
   "metadata": {
    "tags": []
   },
   "outputs": [
    {
     "data": {
      "text/plain": [
       "4200"
      ]
     },
     "execution_count": 55,
     "metadata": {},
     "output_type": "execute_result"
    }
   ],
   "source": [
    "np.isnan(X).sum()"
   ]
  },
  {
   "cell_type": "code",
   "execution_count": 62,
   "metadata": {},
   "outputs": [],
   "source": [
    "X[np.isnan(X)] = 0\n",
    "XTEST[np.isnan(XTEST)] = 0"
   ]
  },
  {
   "cell_type": "code",
   "execution_count": 57,
   "metadata": {
    "tags": []
   },
   "outputs": [
    {
     "data": {
      "text/plain": [
       "0"
      ]
     },
     "execution_count": 57,
     "metadata": {},
     "output_type": "execute_result"
    }
   ],
   "source": [
    "np.isnan(X).sum()"
   ]
  },
  {
   "cell_type": "code",
   "execution_count": 59,
   "metadata": {},
   "outputs": [],
   "source": [
    "model = LogisticRegression().fit(X, Ytrain*1.0)"
   ]
  },
  {
   "cell_type": "code",
   "execution_count": null,
   "metadata": {
    "collapsed": true,
    "jupyter": {
     "outputs_hidden": true
    }
   },
   "outputs": [],
   "source": [
    "# modelcv = LogisticRegressionCV().fit(X, Y*1.0) \n",
    "# AttributeError: 'str' object has no attribute 'decode' \n",
    "#  f**ing unicode error in scipy?"
   ]
  },
  {
   "cell_type": "code",
   "execution_count": 63,
   "metadata": {},
   "outputs": [],
   "source": [
    "Ypred =model.predict(XTEST)"
   ]
  },
  {
   "cell_type": "code",
   "execution_count": 66,
   "metadata": {},
   "outputs": [
    {
     "data": {
      "text/plain": [
       "0.9622222222222222"
      ]
     },
     "execution_count": 66,
     "metadata": {},
     "output_type": "execute_result"
    }
   ],
   "source": [
    "model.score(XTEST,Ytest)"
   ]
  },
  {
   "cell_type": "code",
   "execution_count": 67,
   "metadata": {},
   "outputs": [
    {
     "data": {
      "text/plain": [
       "pandas.core.series.Series"
      ]
     },
     "execution_count": 67,
     "metadata": {},
     "output_type": "execute_result"
    }
   ],
   "source": [
    "type(Ytest)"
   ]
  },
  {
   "cell_type": "code",
   "execution_count": 68,
   "metadata": {},
   "outputs": [
    {
     "data": {
      "text/plain": [
       "(numpy.ndarray, dtype('float64'))"
      ]
     },
     "execution_count": 68,
     "metadata": {},
     "output_type": "execute_result"
    }
   ],
   "source": [
    "type(X), X.dtype"
   ]
  },
  {
   "cell_type": "code",
   "execution_count": 98,
   "metadata": {},
   "outputs": [
    {
     "data": {
      "text/plain": [
       "pandas.core.series.Series"
      ]
     },
     "execution_count": 98,
     "metadata": {},
     "output_type": "execute_result"
    }
   ],
   "source": [
    "type(Y)"
   ]
  },
  {
   "cell_type": "code",
   "execution_count": 87,
   "metadata": {
    "tags": []
   },
   "outputs": [],
   "source": [
    "from sklearn.metrics import roc_curve\n",
    "# fpr, tpr, thresholds  = roc_curve(y_true, y_score)\n",
    "yscores_embedding0 = model.predict_proba(XTEST)[:,1]\n",
    "fpr, tpr, thresholds = roc_curve ( Ytest.values, yscores_embedding0)"
   ]
  },
  {
   "cell_type": "code",
   "execution_count": 88,
   "metadata": {},
   "outputs": [
    {
     "data": {
      "text/plain": [
       "[<matplotlib.lines.Line2D at 0x136eefca0>]"
      ]
     },
     "execution_count": 88,
     "metadata": {},
     "output_type": "execute_result"
    },
    {
     "data": {
      "image/png": "[encoded data removed]",
      "text/plain": [
       "<Figure size 640x480 with 1 Axes>"
      ]
     },
     "metadata": {},
     "output_type": "display_data"
    }
   ],
   "source": [
    "plt.plot(fpr, tpr)"
   ]
  },
  {
   "cell_type": "code",
   "execution_count": 76,
   "metadata": {},
   "outputs": [
    {
     "data": {
      "text/plain": [
       "((450,), (450,))"
      ]
     },
     "execution_count": 76,
     "metadata": {},
     "output_type": "execute_result"
    }
   ],
   "source": [
    "yscores.shape, Ytest.shape"
   ]
  },
  {
   "cell_type": "code",
   "execution_count": null,
   "metadata": {},
   "outputs": [],
   "source": []
  },
  {
   "cell_type": "code",
   "execution_count": 89,
   "metadata": {},
   "outputs": [
    {
     "name": "stderr",
     "output_type": "stream",
     "text": [
      "/Users/wltrimbl/miniconda3/envs/scipy/lib/python3.10/site-packages/sklearn/linear_model/_logistic.py:458: ConvergenceWarning: lbfgs failed to converge (status=1):\n",
      "STOP: TOTAL NO. of ITERATIONS REACHED LIMIT.\n",
      "\n",
      "Increase the number of iterations (max_iter) or scale the data as shown in:\n",
      "    https://scikit-learn.org/stable/modules/preprocessing.html\n",
      "Please also refer to the documentation for alternative solver options:\n",
      "    https://scikit-learn.org/stable/modules/linear_model.html#logistic-regression\n",
      "  n_iter_i = _check_optimize_result(\n",
      "/Users/wltrimbl/miniconda3/envs/scipy/lib/python3.10/site-packages/sklearn/linear_model/_logistic.py:458: ConvergenceWarning: lbfgs failed to converge (status=1):\n",
      "STOP: TOTAL NO. of ITERATIONS REACHED LIMIT.\n",
      "\n",
      "Increase the number of iterations (max_iter) or scale the data as shown in:\n",
      "    https://scikit-learn.org/stable/modules/preprocessing.html\n",
      "Please also refer to the documentation for alternative solver options:\n",
      "    https://scikit-learn.org/stable/modules/linear_model.html#logistic-regression\n",
      "  n_iter_i = _check_optimize_result(\n",
      "/Users/wltrimbl/miniconda3/envs/scipy/lib/python3.10/site-packages/sklearn/linear_model/_logistic.py:458: ConvergenceWarning: lbfgs failed to converge (status=1):\n",
      "STOP: TOTAL NO. of ITERATIONS REACHED LIMIT.\n",
      "\n",
      "Increase the number of iterations (max_iter) or scale the data as shown in:\n",
      "    https://scikit-learn.org/stable/modules/preprocessing.html\n",
      "Please also refer to the documentation for alternative solver options:\n",
      "    https://scikit-learn.org/stable/modules/linear_model.html#logistic-regression\n",
      "  n_iter_i = _check_optimize_result(\n",
      "/Users/wltrimbl/miniconda3/envs/scipy/lib/python3.10/site-packages/sklearn/linear_model/_logistic.py:458: ConvergenceWarning: lbfgs failed to converge (status=1):\n",
      "STOP: TOTAL NO. of ITERATIONS REACHED LIMIT.\n",
      "\n",
      "Increase the number of iterations (max_iter) or scale the data as shown in:\n",
      "    https://scikit-learn.org/stable/modules/preprocessing.html\n",
      "Please also refer to the documentation for alternative solver options:\n",
      "    https://scikit-learn.org/stable/modules/linear_model.html#logistic-regression\n",
      "  n_iter_i = _check_optimize_result(\n"
     ]
    }
   ],
   "source": [
    "model2 = LogisticRegressionCV(max_iter=500).fit(X, Y)"
   ]
  },
  {
   "cell_type": "code",
   "execution_count": 84,
   "metadata": {
    "tags": []
   },
   "outputs": [
    {
     "data": {
      "text/plain": [
       "((5124, 300), (5124,))"
      ]
     },
     "execution_count": 84,
     "metadata": {},
     "output_type": "execute_result"
    }
   ],
   "source": [
    "X.shape, Y.shape"
   ]
  },
  {
   "cell_type": "code",
   "execution_count": 90,
   "metadata": {},
   "outputs": [],
   "source": [
    "yscores_embeddingCV = model2.predict_proba(XTEST)[:,1]\n",
    "fpr2, tpr2, thresholds2 = roc_curve ( Ytest.values, yscores_embeddingCV)"
   ]
  },
  {
   "cell_type": "code",
   "execution_count": 91,
   "metadata": {},
   "outputs": [
    {
     "data": {
      "text/plain": [
       "[<matplotlib.lines.Line2D at 0x136f758d0>]"
      ]
     },
     "execution_count": 91,
     "metadata": {},
     "output_type": "execute_result"
    },
    {
     "data": {
      "image/png": "[encoded data removed]",
      "text/plain": [
       "<Figure size 640x480 with 1 Axes>"
      ]
     },
     "metadata": {},
     "output_type": "display_data"
    }
   ],
   "source": [
    "plt.plot(fpr, tpr, label=\"Logistic (C=1)/ embeddings\")\n",
    "plt.plot(fpr2, tpr2, label=\"Logistic CV/embeddings\")"
   ]
  },
  {
   "cell_type": "code",
   "execution_count": 94,
   "metadata": {},
   "outputs": [
    {
     "data": {
      "text/plain": [
       "(array([0.01025641, 0.01538462, 0.01538462, 0.01794872, 0.01794872,\n",
       "        0.02307692, 0.02307692, 0.05897436, 0.06410256, 0.06410256]),\n",
       " array([0.01025641, 0.01538462, 0.01538462, 0.01794872, 0.01794872,\n",
       "        0.02307692, 0.02307692, 0.05897436, 0.06410256, 0.06410256]),\n",
       " (30,))"
      ]
     },
     "execution_count": 94,
     "metadata": {},
     "output_type": "execute_result"
    }
   ],
   "source": [
    "fpr[10:20], fpr2[10:20], fpr.shape"
   ]
  },
  {
   "cell_type": "code",
   "execution_count": 95,
   "metadata": {
    "tags": []
   },
   "outputs": [],
   "source": [
    "from sklearn.svm import SVC"
   ]
  },
  {
   "cell_type": "code",
   "execution_count": 105,
   "metadata": {},
   "outputs": [],
   "source": [
    "svc = SVC(probability=True).fit(X, Y)"
   ]
  },
  {
   "cell_type": "code",
   "execution_count": 106,
   "metadata": {},
   "outputs": [
    {
     "data": {
      "text/plain": [
       "0.9822222222222222"
      ]
     },
     "execution_count": 106,
     "metadata": {},
     "output_type": "execute_result"
    }
   ],
   "source": [
    "svc.score(XTEST, Ytest)"
   ]
  },
  {
   "cell_type": "code",
   "execution_count": 113,
   "metadata": {
    "tags": []
   },
   "outputs": [],
   "source": [
    "yscores_svc = svc.predict_proba(XTEST)[:,1]\n",
    "fpr3, tpr3, thresholds3 = roc_curve ( Ytest.values, yscores_svc)"
   ]
  },
  {
   "cell_type": "code",
   "execution_count": null,
   "metadata": {},
   "outputs": [],
   "source": []
  },
  {
   "cell_type": "code",
   "execution_count": 121,
   "metadata": {},
   "outputs": [
    {
     "data": {
      "text/plain": [
       "(0.5, 1.0)"
      ]
     },
     "execution_count": 121,
     "metadata": {},
     "output_type": "execute_result"
    },
    {
     "data": {
      "image/png": "[encoded data removed]",
      "text/plain": [
       "<Figure size 640x480 with 1 Axes>"
      ]
     },
     "metadata": {},
     "output_type": "display_data"
    }
   ],
   "source": [
    "plt.plot(fpr, tpr, label=\"Logistic (C=1)/ embeddings\")\n",
    "plt.plot(fpr2, tpr2, label=\"Logistic CV/embeddings\")\n",
    "plt.plot(fpr3, tpr3, label=\"SVM/embeddings\")\n",
    "plt.legend(); plt.xlabel(\"FPR\"), plt.ylabel(\"TPR\")\n",
    "plt.xlim(0, 0.5); plt.ylim(0.5,1)"
   ]
  },
  {
   "cell_type": "code",
   "execution_count": 129,
   "metadata": {},
   "outputs": [],
   "source": [
    "# Create two dataframes.. \n",
    "s1 = spam_train.query(\"label == 'ham'\")\n",
    "s2 = spam_train.query(\"label == 'spam'\")\n",
    "# Create two giant strings... \n",
    "s1text = s1.text.str.cat()\n",
    "s2text = s2.text.str.cat()\n",
    "# tokenize the strings (proably split on whitespace)\n",
    "tok1 = nltk.word_tokenize(s1text)\n",
    "tok2 = nltk.word_tokenize(s2text)\n",
    "# And create frequency distribution objects.\n",
    "d1 = nltk.FreqDist(tok1)\n",
    "d2 = nltk.FreqDist(tok2)"
   ]
  },
  {
   "cell_type": "code",
   "execution_count": 130,
   "metadata": {},
   "outputs": [],
   "source": [
    "DEBUG=0\n",
    "def score(utterance):\n",
    "    cumscore = 0\n",
    "    NHAM = d1.N()\n",
    "    NSPAM = d2.N()\n",
    "    MAXSCORE = np.log(100) / np.log(2)\n",
    "    MINSCORE_HAM = np.log( 0.1 / d1.N() ) / np.log(2)\n",
    "    MINSCORE_SPAM = np.log( 0.1 / d2.N() ) / np.log(2)\n",
    "\n",
    "    for token in nltk.word_tokenize(utterance):\n",
    "        partialscore=0  # Catchall if a word has too few instances\n",
    "        if d1[token] != 0 and d2[token] != 0 and (d1[token]+d2[token]):\n",
    "            partialscore = (np.log(d1[token]) - np.log(NHAM) -\n",
    "                            np.log(d2[token])  + np.log(NSPAM))/np.log(2) \n",
    "            partialscore = np.minimum(MAXSCORE, np.maximum(-MAXSCORE, partialscore))\n",
    "            if DEBUG: \n",
    "                print(partialscore, d1[token], d2[token])\n",
    "        if d1[token] == 0 and d2[token] > 0:\n",
    "            partialscore = -MAXSCORE\n",
    "        if d2[token] == 0 and d1[token]> 0 :\n",
    "            partialscore = MAXSCORE\n",
    "        if d2[token] == 0 and d1[token] == 0 :\n",
    "            partialscore = MINSCORE_HAM - MINSCORE_SPAM \n",
    "        cumscore = cumscore + partialscore\n",
    "    return(cumscore)"
   ]
  },
  {
   "cell_type": "code",
   "execution_count": 131,
   "metadata": {},
   "outputs": [
    {
     "data": {
      "text/plain": [
       "-2.2978966013445334"
      ]
     },
     "execution_count": 131,
     "metadata": {},
     "output_type": "execute_result"
    }
   ],
   "source": [
    "score(\"free\")"
   ]
  },
  {
   "cell_type": "code",
   "execution_count": 136,
   "metadata": {},
   "outputs": [],
   "source": [
    "nbc_scores = Xtest.apply(score)"
   ]
  },
  {
   "cell_type": "code",
   "execution_count": 155,
   "metadata": {},
   "outputs": [
    {
     "data": {
      "text/plain": [
       "(array([2., 1., 0., 0., 0., 0., 0., 0., 1., 0., 1., 2., 3., 1., 2., 1., 0.,\n",
       "        0., 1., 0., 1., 0., 1., 1., 3., 1., 0., 0., 1., 1., 0., 2., 2., 0.,\n",
       "        1., 2., 0., 1., 0., 0., 3., 0., 1., 1., 1., 1., 2., 1., 0., 0., 1.,\n",
       "        1., 1., 1., 1., 1., 0., 0., 1., 0., 1., 0., 0., 0., 0., 1., 3., 1.,\n",
       "        0., 1., 1., 0., 0., 0., 0., 0., 0., 0., 0., 0., 0., 0., 0., 0., 0.,\n",
       "        0., 0., 0., 0., 0., 0., 0., 0., 2., 0., 0., 0., 0., 0., 1.]),\n",
       " array([-126.24499951, -124.51088929, -122.77677907, -121.04266885,\n",
       "        -119.30855863, -117.57444841, -115.84033819, -114.10622797,\n",
       "        -112.37211775, -110.63800753, -108.90389731, -107.16978708,\n",
       "        -105.43567686, -103.70156664, -101.96745642, -100.2333462 ,\n",
       "         -98.49923598,  -96.76512576,  -95.03101554,  -93.29690532,\n",
       "         -91.5627951 ,  -89.82868488,  -88.09457465,  -86.36046443,\n",
       "         -84.62635421,  -82.89224399,  -81.15813377,  -79.42402355,\n",
       "         -77.68991333,  -75.95580311,  -74.22169289,  -72.48758267,\n",
       "         -70.75347244,  -69.01936222,  -67.285252  ,  -65.55114178,\n",
       "         -63.81703156,  -62.08292134,  -60.34881112,  -58.6147009 ,\n",
       "         -56.88059068,  -55.14648046,  -53.41237024,  -51.67826001,\n",
       "         -49.94414979,  -48.21003957,  -46.47592935,  -44.74181913,\n",
       "         -43.00770891,  -41.27359869,  -39.53948847,  -37.80537825,\n",
       "         -36.07126803,  -34.33715781,  -32.60304758,  -30.86893736,\n",
       "         -29.13482714,  -27.40071692,  -25.6666067 ,  -23.93249648,\n",
       "         -22.19838626,  -20.46427604,  -18.73016582,  -16.9960556 ,\n",
       "         -15.26194538,  -13.52783515,  -11.79372493,  -10.05961471,\n",
       "          -8.32550449,   -6.59139427,   -4.85728405,   -3.12317383,\n",
       "          -1.38906361,    0.34504661,    2.07915683,    3.81326706,\n",
       "           5.54737728,    7.2814875 ,    9.01559772,   10.74970794,\n",
       "          12.48381816,   14.21792838,   15.9520386 ,   17.68614882,\n",
       "          19.42025904,   21.15436926,   22.88847949,   24.62258971,\n",
       "          26.35669993,   28.09081015,   29.82492037,   31.55903059,\n",
       "          33.29314081,   35.02725103,   36.76136125,   38.49547147,\n",
       "          40.22958169,   41.96369192,   43.69780214,   45.43191236,\n",
       "          47.16602258]),\n",
       " <BarContainer object of 100 artists>)"
      ]
     },
     "execution_count": 155,
     "metadata": {},
     "output_type": "execute_result"
    },
    {
     "data": {
      "image/png": "[encoded data removed]",
      "text/plain": [
       "<Figure size 640x480 with 1 Axes>"
      ]
     },
     "metadata": {},
     "output_type": "display_data"
    }
   ],
   "source": [
    "plt.hist(nbc_scores[Ytest==0], bins=100)\n",
    "plt.hist(nbc_scores[Ytest==1], bins=100)"
   ]
  },
  {
   "cell_type": "code",
   "execution_count": 161,
   "metadata": {},
   "outputs": [
    {
     "name": "stdout",
     "output_type": "stream",
     "text": [
      "-100 0.21666666666666667 0.0\n",
      "-99 0.23333333333333334 0.0\n",
      "-98 0.23333333333333334 0.0\n",
      "-97 0.23333333333333334 0.0\n",
      "-96 0.23333333333333334 0.0\n",
      "-95 0.23333333333333334 0.0\n",
      "-94 0.23333333333333334 0.0\n",
      "-93 0.25 0.0\n",
      "-92 0.25 0.0\n",
      "-91 0.26666666666666666 0.0\n",
      "-90 0.26666666666666666 0.0\n",
      "-89 0.26666666666666666 0.0\n",
      "-88 0.26666666666666666 0.0\n",
      "-87 0.2833333333333333 0.0\n",
      "-86 0.3 0.0\n",
      "-85 0.3 0.0\n",
      "-84 0.31666666666666665 0.0\n",
      "-83 0.35 0.0\n",
      "-82 0.36666666666666664 0.0\n",
      "-81 0.36666666666666664 0.0\n",
      "-80 0.36666666666666664 0.0\n",
      "-79 0.36666666666666664 0.0\n",
      "-78 0.36666666666666664 0.0\n",
      "-77 0.36666666666666664 0.0\n",
      "-76 0.38333333333333336 0.0\n",
      "-75 0.38333333333333336 0.0\n",
      "-74 0.4 0.0\n",
      "-73 0.4 0.0\n",
      "-72 0.43333333333333335 0.0\n",
      "-71 0.43333333333333335 0.0\n",
      "-70 0.4666666666666667 0.0\n",
      "-69 0.4666666666666667 0.0\n",
      "-68 0.4666666666666667 0.0\n",
      "-67 0.4666666666666667 0.0\n",
      "-66 0.48333333333333334 0.0\n",
      "-65 0.48333333333333334 0.0\n",
      "-64 0.5166666666666667 0.0\n",
      "-63 0.5166666666666667 0.0\n",
      "-62 0.5166666666666667 0.0\n",
      "-61 0.5166666666666667 0.0\n",
      "-60 0.5333333333333333 0.0\n",
      "-59 0.5333333333333333 0.0\n",
      "-58 0.5333333333333333 0.0\n",
      "-57 0.5333333333333333 0.0\n",
      "-56 0.55 0.0\n",
      "-55 0.5833333333333334 0.0\n",
      "-54 0.5833333333333334 0.0\n",
      "-53 0.5833333333333334 0.0\n",
      "-52 0.6 0.0\n",
      "-51 0.6 0.0\n",
      "-50 0.6166666666666667 0.0\n",
      "-49 0.6166666666666667 0.0\n",
      "-48 0.6333333333333333 0.0\n",
      "-47 0.65 0.0\n",
      "-46 0.6666666666666666 0.0\n",
      "-45 0.6833333333333333 0.0\n",
      "-44 0.6833333333333333 0.0\n",
      "-43 0.7 0.0\n",
      "-42 0.7 0.0\n",
      "-41 0.7 0.0\n",
      "-40 0.7 0.0\n",
      "-39 0.7166666666666667 0.0\n",
      "-38 0.7166666666666667 0.0\n",
      "-37 0.7166666666666667 0.0\n",
      "-36 0.7333333333333333 0.0\n",
      "-35 0.75 0.0\n",
      "-34 0.75 0.0\n",
      "-33 0.7666666666666667 0.0\n",
      "-32 0.7666666666666667 0.0\n",
      "-31 0.7833333333333333 0.0\n",
      "-30 0.7833333333333333 0.0\n",
      "-29 0.8 0.0\n",
      "-28 0.8 0.0\n",
      "-27 0.8 0.0\n",
      "-26 0.8 0.0\n",
      "-25 0.8166666666666667 0.0\n",
      "-24 0.8166666666666667 0.0\n",
      "-23 0.8166666666666667 0.0\n",
      "-22 0.8166666666666667 0.0\n",
      "-21 0.8166666666666667 0.0\n",
      "-20 0.8333333333333334 0.0\n",
      "-19 0.8333333333333334 0.0\n",
      "-18 0.8333333333333334 0.0\n",
      "-17 0.8333333333333334 0.0\n",
      "-16 0.8333333333333334 0.0\n",
      "-15 0.8333333333333334 0.0\n",
      "-14 0.8333333333333334 0.0\n",
      "-13 0.8333333333333334 0.0\n",
      "-12 0.8333333333333334 0.0\n",
      "-11 0.8666666666666667 0.0\n",
      "-10 0.9 0.0\n",
      "-9 0.9166666666666666 0.0\n",
      "-8 0.9166666666666666 0.0\n",
      "-7 0.9166666666666666 0.0\n",
      "-6 0.9166666666666666 0.0\n",
      "-5 0.9333333333333333 0.0\n",
      "-4 0.95 0.0\n",
      "-3 0.95 0.0\n",
      "-2 0.95 0.002564102564102564\n",
      "-1 0.95 0.005128205128205128\n",
      "0 0.95 0.007692307692307693\n",
      "1 0.95 0.015384615384615385\n",
      "2 0.95 0.02564102564102564\n",
      "3 0.95 0.03333333333333333\n",
      "4 0.95 0.04358974358974359\n",
      "5 0.95 0.05128205128205128\n",
      "6 0.95 0.05384615384615385\n",
      "7 0.95 0.0641025641025641\n",
      "8 0.95 0.06666666666666667\n",
      "9 0.95 0.08205128205128205\n",
      "10 0.95 0.09230769230769231\n",
      "11 0.95 0.11282051282051282\n",
      "12 0.95 0.12564102564102564\n",
      "13 0.95 0.14871794871794872\n",
      "14 0.95 0.1794871794871795\n",
      "15 0.95 0.19743589743589743\n",
      "16 0.95 0.2205128205128205\n",
      "17 0.95 0.23333333333333334\n",
      "18 0.95 0.24102564102564103\n",
      "19 0.95 0.2564102564102564\n",
      "20 0.95 0.2794871794871795\n",
      "21 0.95 0.30256410256410254\n",
      "22 0.95 0.33076923076923076\n",
      "23 0.95 0.35384615384615387\n",
      "24 0.95 0.3871794871794872\n",
      "25 0.95 0.4076923076923077\n",
      "26 0.95 0.4358974358974359\n",
      "27 0.95 0.43846153846153846\n",
      "28 0.95 0.4666666666666667\n",
      "29 0.95 0.49230769230769234\n",
      "30 0.95 0.5128205128205128\n",
      "31 0.95 0.5307692307692308\n",
      "32 0.95 0.5538461538461539\n",
      "33 0.95 0.5717948717948718\n",
      "34 0.95 0.5846153846153846\n",
      "35 0.95 0.6051282051282051\n",
      "36 0.9833333333333333 0.617948717948718\n",
      "37 0.9833333333333333 0.6256410256410256\n",
      "38 0.9833333333333333 0.6358974358974359\n",
      "39 0.9833333333333333 0.6461538461538462\n",
      "40 0.9833333333333333 0.6564102564102564\n",
      "41 0.9833333333333333 0.6717948717948717\n",
      "42 0.9833333333333333 0.6820512820512821\n",
      "43 0.9833333333333333 0.6948717948717948\n",
      "44 0.9833333333333333 0.7076923076923077\n",
      "45 0.9833333333333333 0.7128205128205128\n",
      "46 0.9833333333333333 0.7230769230769231\n",
      "47 0.9833333333333333 0.7333333333333333\n",
      "48 1.0 0.7435897435897436\n",
      "49 1.0 0.7538461538461538\n",
      "50 1.0 0.7666666666666667\n",
      "51 1.0 0.7692307692307693\n",
      "52 1.0 0.7743589743589744\n",
      "53 1.0 0.7871794871794872\n",
      "54 1.0 0.7897435897435897\n",
      "55 1.0 0.7948717948717948\n",
      "56 1.0 0.8153846153846154\n",
      "57 1.0 0.8256410256410256\n",
      "58 1.0 0.8256410256410256\n",
      "59 1.0 0.8256410256410256\n",
      "60 1.0 0.8384615384615385\n",
      "61 1.0 0.8435897435897436\n",
      "62 1.0 0.8512820512820513\n",
      "63 1.0 0.8589743589743589\n",
      "64 1.0 0.8666666666666667\n",
      "65 1.0 0.8769230769230769\n",
      "66 1.0 0.8794871794871795\n",
      "67 1.0 0.8794871794871795\n",
      "68 1.0 0.8846153846153846\n",
      "69 1.0 0.8846153846153846\n",
      "70 1.0 0.8897435897435897\n",
      "71 1.0 0.8923076923076924\n",
      "72 1.0 0.8948717948717949\n",
      "73 1.0 0.8948717948717949\n",
      "74 1.0 0.8974358974358975\n",
      "75 1.0 0.8974358974358975\n",
      "76 1.0 0.9051282051282051\n",
      "77 1.0 0.9051282051282051\n",
      "78 1.0 0.9076923076923077\n",
      "79 1.0 0.9153846153846154\n",
      "80 1.0 0.9153846153846154\n",
      "81 1.0 0.9179487179487179\n",
      "82 1.0 0.9179487179487179\n",
      "83 1.0 0.9205128205128205\n",
      "84 1.0 0.9230769230769231\n",
      "85 1.0 0.9307692307692308\n",
      "86 1.0 0.9307692307692308\n",
      "87 1.0 0.9307692307692308\n",
      "88 1.0 0.9307692307692308\n",
      "89 1.0 0.9307692307692308\n",
      "90 1.0 0.9358974358974359\n",
      "91 1.0 0.9358974358974359\n",
      "92 1.0 0.9384615384615385\n",
      "93 1.0 0.941025641025641\n",
      "94 1.0 0.9461538461538461\n",
      "95 1.0 0.9461538461538461\n",
      "96 1.0 0.9487179487179487\n",
      "97 1.0 0.9512820512820512\n",
      "98 1.0 0.9564102564102565\n",
      "99 1.0 0.9641025641025641\n",
      "100 1.0 0.9666666666666667\n",
      "101 1.0 0.9692307692307692\n",
      "102 1.0 0.9692307692307692\n",
      "103 1.0 0.9717948717948718\n",
      "104 1.0 0.9717948717948718\n",
      "105 1.0 0.9717948717948718\n",
      "106 1.0 0.9717948717948718\n",
      "107 1.0 0.9717948717948718\n",
      "108 1.0 0.9743589743589743\n",
      "109 1.0 0.9743589743589743\n",
      "110 1.0 0.9743589743589743\n",
      "111 1.0 0.9743589743589743\n",
      "112 1.0 0.9743589743589743\n",
      "113 1.0 0.9743589743589743\n",
      "114 1.0 0.9769230769230769\n",
      "115 1.0 0.9794871794871794\n",
      "116 1.0 0.9794871794871794\n",
      "117 1.0 0.9794871794871794\n",
      "118 1.0 0.9794871794871794\n",
      "119 1.0 0.9794871794871794\n",
      "120 1.0 0.982051282051282\n",
      "121 1.0 0.982051282051282\n",
      "122 1.0 0.982051282051282\n",
      "123 1.0 0.982051282051282\n",
      "124 1.0 0.982051282051282\n",
      "125 1.0 0.982051282051282\n",
      "126 1.0 0.9846153846153847\n",
      "127 1.0 0.9846153846153847\n",
      "128 1.0 0.9846153846153847\n",
      "129 1.0 0.9846153846153847\n",
      "130 1.0 0.9871794871794872\n",
      "131 1.0 0.9871794871794872\n",
      "132 1.0 0.9871794871794872\n",
      "133 1.0 0.9871794871794872\n",
      "134 1.0 0.9897435897435898\n",
      "135 1.0 0.9897435897435898\n",
      "136 1.0 0.9923076923076923\n",
      "137 1.0 0.9923076923076923\n",
      "138 1.0 0.9923076923076923\n",
      "139 1.0 0.9948717948717949\n",
      "140 1.0 0.9948717948717949\n",
      "141 1.0 0.9948717948717949\n",
      "142 1.0 0.9948717948717949\n",
      "143 1.0 0.9948717948717949\n",
      "144 1.0 0.9948717948717949\n",
      "145 1.0 0.9948717948717949\n",
      "146 1.0 0.9948717948717949\n",
      "147 1.0 0.9948717948717949\n",
      "148 1.0 0.9948717948717949\n",
      "149 1.0 0.9948717948717949\n",
      "150 1.0 0.9948717948717949\n",
      "151 1.0 0.9948717948717949\n",
      "152 1.0 0.9948717948717949\n",
      "153 1.0 0.9948717948717949\n",
      "154 1.0 0.9948717948717949\n",
      "155 1.0 0.9974358974358974\n",
      "156 1.0 0.9974358974358974\n",
      "157 1.0 0.9974358974358974\n",
      "158 1.0 0.9974358974358974\n",
      "159 1.0 0.9974358974358974\n",
      "160 1.0 0.9974358974358974\n",
      "161 1.0 0.9974358974358974\n",
      "162 1.0 0.9974358974358974\n",
      "163 1.0 0.9974358974358974\n",
      "164 1.0 0.9974358974358974\n",
      "165 1.0 0.9974358974358974\n",
      "166 1.0 0.9974358974358974\n",
      "167 1.0 0.9974358974358974\n",
      "168 1.0 0.9974358974358974\n",
      "169 1.0 0.9974358974358974\n",
      "170 1.0 0.9974358974358974\n",
      "171 1.0 0.9974358974358974\n",
      "172 1.0 0.9974358974358974\n",
      "173 1.0 0.9974358974358974\n",
      "174 1.0 0.9974358974358974\n",
      "175 1.0 0.9974358974358974\n",
      "176 1.0 0.9974358974358974\n",
      "177 1.0 0.9974358974358974\n",
      "178 1.0 0.9974358974358974\n",
      "179 1.0 0.9974358974358974\n",
      "180 1.0 0.9974358974358974\n",
      "181 1.0 0.9974358974358974\n",
      "182 1.0 0.9974358974358974\n",
      "183 1.0 0.9974358974358974\n",
      "184 1.0 0.9974358974358974\n",
      "185 1.0 1.0\n",
      "186 1.0 1.0\n",
      "187 1.0 1.0\n",
      "188 1.0 1.0\n",
      "189 1.0 1.0\n",
      "190 1.0 1.0\n",
      "191 1.0 1.0\n",
      "192 1.0 1.0\n",
      "193 1.0 1.0\n",
      "194 1.0 1.0\n",
      "195 1.0 1.0\n",
      "196 1.0 1.0\n",
      "197 1.0 1.0\n",
      "198 1.0 1.0\n",
      "199 1.0 1.0\n"
     ]
    }
   ],
   "source": [
    "thresholds_nbc = np.arange(-100, 200, 1)\n",
    "fprs = []\n",
    "tprs = []\n",
    "for thresh in thresholds_nbc:\n",
    "    tpr = np.sum ( (nbc_scores < thresh ) *  (Ytest == 1)) / np.sum (Ytest==1)\n",
    "    fpr = np.sum ( (nbc_scores < thresh ) *  (Ytest == 0)) / np.sum (Ytest==0) \n",
    "    fprs.append(fpr)\n",
    "    tprs.append(tpr)\n",
    "    print(thresh, tpr, fpr)\n",
    "tpr=np.array(tprs)\n",
    "fpr=np.array(fprs)"
   ]
  },
  {
   "cell_type": "code",
   "execution_count": 162,
   "metadata": {},
   "outputs": [
    {
     "data": {
      "text/plain": [
       "[<matplotlib.lines.Line2D at 0x138ef2110>]"
      ]
     },
     "execution_count": 162,
     "metadata": {},
     "output_type": "execute_result"
    },
    {
     "data": {
      "image/png": "[encoded data removed]",
      "text/plain": [
       "<Figure size 640x480 with 1 Axes>"
      ]
     },
     "metadata": {},
     "output_type": "display_data"
    }
   ],
   "source": [
    "plt.plot(fpr, tpr, '.-')"
   ]
  },
  {
   "cell_type": "code",
   "execution_count": 165,
   "metadata": {},
   "outputs": [
    {
     "data": {
      "text/plain": [
       "Text(0.5, 1.0, 'ROC for three different spamclassifiers')"
      ]
     },
     "execution_count": 165,
     "metadata": {},
     "output_type": "execute_result"
    },
    {
     "data": {
      "image/png": "[encoded data removed]",
      "text/plain": [
       "<Figure size 640x480 with 1 Axes>"
      ]
     },
     "metadata": {},
     "output_type": "display_data"
    }
   ],
   "source": [
    "plt.plot(fpr, tpr, label=\"Naive Bayes Classifier\")\n",
    "plt.plot(fpr2, tpr2, label=\"Logistic CV/embeddings\")\n",
    "plt.plot(fpr3, tpr3, label=\"SVM/embeddings\")\n",
    "plt.legend(); plt.xlabel(\"FPR\"), plt.ylabel(\"TPR\")\n",
    "plt.xlim(0, 0.75); plt.ylim(0.25,1)\n",
    "plt.title(\"ROC for three different spamclassifiers\")"
   ]
  },
  {
   "cell_type": "code",
   "execution_count": null,
   "metadata": {},
   "outputs": [],
   "source": []
  }
 ],
 "metadata": {
  "kernelspec": {
   "display_name": "scipy",
   "language": "python",
   "name": "scipy"
  },
  "language_info": {
   "codemirror_mode": {
    "name": "ipython",
    "version": 3
   },
   "file_extension": ".py",
   "mimetype": "text/x-python",
   "name": "python",
   "nbconvert_exporter": "python",
   "pygments_lexer": "ipython3",
   "version": "3.10.10"
  }
 },
 "nbformat": 4,
 "nbformat_minor": 4
}
